{
  "nbformat": 4,
  "nbformat_minor": 0,
  "metadata": {
    "colab": {
      "provenance": []
    },
    "kernelspec": {
      "name": "python3",
      "display_name": "Python 3"
    },
    "language_info": {
      "name": "python"
    }
  },
  "cells": [
    {
      "cell_type": "code",
      "execution_count": 1,
      "metadata": {
        "colab": {
          "base_uri": "https://localhost:8080/"
        },
        "id": "jrVeHsm1rpdT",
        "outputId": "7beed224-af25-452f-e4b6-73e901452d21"
      },
      "outputs": [
        {
          "output_type": "stream",
          "name": "stdout",
          "text": [
            "What is your name? Atakhan\n",
            "What is your age? 19\n",
            "Your name is Atakhan. Your age is 19\n"
          ]
        }
      ],
      "source": [
        "#Q1-Get your name and age as input and print it in the form like\n",
        "#Your name is Hulisi. Your age is 43\n",
        "name=input('What is your name? ')\n",
        "age=input('What is your age? ')\n",
        "print('Your name is ' + name + '. Your age is ' + age)"
      ]
    },
    {
      "cell_type": "code",
      "source": [
        "#Q2-Write a if statement for a given two number is equal or not\n",
        "a=43\n",
        "b=54\n",
        "if a == b:\n",
        "  print('Equal')\n",
        "else:\n",
        "  print('Not equal')"
      ],
      "metadata": {
        "id": "7Sfg03_PuVWa",
        "outputId": "e11c40ef-8d6b-40d5-d563-1a7e4bbbeeb3",
        "colab": {
          "base_uri": "https://localhost:8080/"
        }
      },
      "execution_count": null,
      "outputs": [
        {
          "output_type": "stream",
          "name": "stdout",
          "text": [
            "Not equal\n"
          ]
        }
      ]
    },
    {
      "cell_type": "code",
      "source": [
        "#Q3-Write a if statement for first number is greater (a), equal or than second number.(b)\n",
        "a=43\n",
        "b=54\n",
        "if a > b:\n",
        "  print('a is grater than b')\n",
        "elif a == b:\n",
        "  print('a is equal to b')\n",
        "else:\n",
        "  print('b is grater than a')"
      ],
      "metadata": {
        "id": "NtUibZ07u5gs",
        "outputId": "918afdaf-c1fe-4eed-c33e-14949cb19a6f",
        "colab": {
          "base_uri": "https://localhost:8080/"
        }
      },
      "execution_count": null,
      "outputs": [
        {
          "output_type": "stream",
          "name": "stdout",
          "text": [
            "b is grater than a\n"
          ]
        }
      ]
    },
    {
      "cell_type": "code",
      "source": [
        "#Q4- Using for loop, print 1,2,3,4,5\n",
        "for k in range(1,6):\n",
        "  if k != 5:\n",
        "    print(k, end=',')\n",
        "  else:\n",
        "    print(k, end='')"
      ],
      "metadata": {
        "id": "U1UMQv36wNHP",
        "outputId": "6a744362-4c4b-4df4-eefb-9d4d39dd56da",
        "colab": {
          "base_uri": "https://localhost:8080/"
        }
      },
      "execution_count": null,
      "outputs": [
        {
          "output_type": "stream",
          "name": "stdout",
          "text": [
            "1,2,3,4,5"
          ]
        }
      ]
    },
    {
      "cell_type": "code",
      "source": [
        "#Q5-Using while loop, print 5,4,3,2,1\n",
        "n = 5\n",
        "while n:\n",
        "  print(n, end=' ')\n",
        "  n -= 1"
      ],
      "metadata": {
        "id": "bh5Lga7XxGY8",
        "outputId": "328551c6-fc98-47d3-aa74-c970b2b49d93",
        "colab": {
          "base_uri": "https://localhost:8080/"
        }
      },
      "execution_count": null,
      "outputs": [
        {
          "output_type": "stream",
          "name": "stdout",
          "text": [
            "5 4 3 2 1 "
          ]
        }
      ]
    },
    {
      "cell_type": "code",
      "source": [
        "#Q6- Using for loop, print 10,6,4,2,0\n",
        "#Hint Print if number is not equal to 8.\n",
        "for i in range(10,-2,-2):\n",
        "  if i != 8:\n",
        "    print(i, end=' ')"
      ],
      "metadata": {
        "id": "cXTTDS49xSoi",
        "outputId": "725a1124-9832-4342-f304-a974f15c361f",
        "colab": {
          "base_uri": "https://localhost:8080/"
        }
      },
      "execution_count": null,
      "outputs": [
        {
          "output_type": "stream",
          "name": "stdout",
          "text": [
            "10 6 4 2 0 "
          ]
        }
      ]
    },
    {
      "cell_type": "code",
      "source": [
        "#Q7-Write a method to calculate age for a given date of birth year.\n",
        "#Use this method on orer to calculate age of person if date of birth is 1944\n",
        "# if age is the name of function, print(age(1944))\n",
        "def age(n):\n",
        "  return 2023 - n\n",
        "\n",
        "print(age(2020))"
      ],
      "metadata": {
        "id": "geUjb-vuyYbF",
        "outputId": "95286074-40fb-41e5-8c4e-c62040319967",
        "colab": {
          "base_uri": "https://localhost:8080/"
        }
      },
      "execution_count": null,
      "outputs": [
        {
          "output_type": "stream",
          "name": "stdout",
          "text": [
            "3\n"
          ]
        }
      ]
    },
    {
      "cell_type": "code",
      "source": [
        "#Q8-Write a class named arithmetic with method for calculating addition, substraction, multiplication and division of two numbers.\n",
        "class arithmetic:\n",
        "  def addition(x,y):\n",
        "    return x+y\n",
        "  def substraction(x,y):\n",
        "    return x-y\n",
        "  def multiplication(x,y):\n",
        "    return x*y\n",
        "  def division(x,y):\n",
        "    return x/y\n",
        "print(arithmetic.addition(3,4))\n",
        "print(arithmetic.substraction(3,4))\n",
        "print(arithmetic.multiplication(3,4))\n",
        "print(arithmetic.division(3,4))"
      ],
      "metadata": {
        "id": "YcyFzE3fzC7_",
        "outputId": "0d2e7e64-1806-4f48-be24-cfa398bd15ef",
        "colab": {
          "base_uri": "https://localhost:8080/"
        }
      },
      "execution_count": null,
      "outputs": [
        {
          "output_type": "stream",
          "name": "stdout",
          "text": [
            "7\n",
            "-1\n",
            "12\n",
            "0.75\n"
          ]
        }
      ]
    },
    {
      "cell_type": "code",
      "source": [
        "#Q9- write a for loop or method  to calculate summation of first n numbers\n",
        "#i.e if n=3, it will print or return 6 (1+2+3)\n",
        "n = int(input())\n",
        "sum = 0\n",
        "for i in range(n+1):\n",
        "  sum += i\n",
        "print(sum)"
      ],
      "metadata": {
        "id": "AUJWr5YqzadI",
        "outputId": "681a6440-7baa-4451-cc61-7662d8391f21",
        "colab": {
          "base_uri": "https://localhost:8080/"
        }
      },
      "execution_count": null,
      "outputs": [
        {
          "output_type": "stream",
          "name": "stdout",
          "text": [
            "3\n",
            "6\n"
          ]
        }
      ]
    },
    {
      "cell_type": "code",
      "source": [
        "#Q10-Generate 10 numbers between 0 and 1 and add into list. Print first three elements of that list. \n",
        "import random\n",
        "lst = []\n",
        "for i in range(10):\n",
        "  lst.append(random.random())\n",
        "lst[:3]"
      ],
      "metadata": {
        "id": "hmtvJdCL02qx",
        "outputId": "2f65a430-8783-41f1-b812-8a0695c3d3cb",
        "colab": {
          "base_uri": "https://localhost:8080/"
        }
      },
      "execution_count": null,
      "outputs": [
        {
          "output_type": "stream",
          "name": "stdout",
          "text": [
            "[0.8258264395906616, 0.22191538278617629, 0.7027143416338346]\n"
          ]
        }
      ]
    },
    {
      "cell_type": "code",
      "source": [
        "#Q11-For a given number n, print numbers divisible by 3 up to that number(n included)\n",
        "#Example: if n=15, print 3,6,9,12,15\n",
        "#Hint you can use modulus statement (if (i%3==0))\n",
        "n=15\n",
        "for i in range(1,n+1):\n",
        "  if i % 3 == 0:\n",
        "    print(i, end=' ')"
      ],
      "metadata": {
        "id": "5O6Y2CujcAAs",
        "outputId": "bf386e0c-d6ec-495a-f07e-b78663a39150",
        "colab": {
          "base_uri": "https://localhost:8080/"
        }
      },
      "execution_count": null,
      "outputs": [
        {
          "output_type": "stream",
          "name": "stdout",
          "text": [
            "3 6 9 12 15 "
          ]
        }
      ]
    }
  ]
}