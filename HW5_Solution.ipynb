{
  "nbformat": 4,
  "nbformat_minor": 0,
  "metadata": {
    "colab": {
      "name": "Homework5.ipynb",
      "provenance": [],
      "include_colab_link": true
    },
    "kernelspec": {
      "name": "python3",
      "display_name": "Python 3"
    },
    "language_info": {
      "name": "python"
    }
  },
  "cells": [
    {
      "cell_type": "markdown",
      "metadata": {
        "id": "view-in-github",
        "colab_type": "text"
      },
      "source": [
        "<a href=\"https://colab.research.google.com/github/atakhan27/Data-Science/blob/main/HW5_Solution.ipynb\" target=\"_parent\"><img src=\"https://colab.research.google.com/assets/colab-badge.svg\" alt=\"Open In Colab\"/></a>"
      ]
    },
    {
      "cell_type": "markdown",
      "source": [
        "# Case Intro\n",
        "Term deposits are a major source of income for a bank. A term deposit is a cash investment held at a financial institution. Your money is invested for an agreed rate of interest over a fixed amount of time, or term. The bank has various outreach plans to sell term deposits to their customers such as email marketing, advertisements, telephonic marketing, and digital marketing.\n",
        "\n",
        "Telephonic marketing campaigns still remain one of the most effective way to reach out to people. However, they require huge investment as large call centers are hired to actually execute these campaigns. Hence, it is crucial to identify the customers most likely to convert beforehand so that they can be specifically targeted via call.\n",
        "\n",
        "The data is related to direct marketing campaigns (phone calls) of a Portuguese banking institution. The classification goal is to predict if the client will subscribe to a term deposit (variable y).\n",
        "\n",
        "Content\n",
        "The data is related to the direct marketing campaigns of a Portuguese banking institution. The marketing campaigns were based on phone calls. Often, more than one contact to the same client was required, in order to access if the product (bank term deposit) would be ('yes') or not ('no') subscribed by the customer or not. The data folder contains two datasets:-\n",
        "\n",
        "Bank.csv: 45,211 rows and 18 columns ordered by date (from May 2008 to November 2010)\n",
        "\n",
        "Detailed Column Descriptions\n",
        "bank client data:\n",
        "\n",
        "1 - age (numeric)\n",
        "\n",
        "2 - job : type of job (categorical: \"admin.\",\"unknown\",\"unemployed\",\"management\",\"housemaid\",\"entrepreneur\",\"student\",\n",
        "\"blue-collar\",\"self-employed\",\"retired\",\"technician\",\"services\")\n",
        "\n",
        "3 - marital : marital status (categorical: \"married\",\"divorced\",\"single\"; note: \"divorced\" means divorced or widowed)\n",
        "\n",
        "4 - education (categorical: \"unknown\",\"secondary\",\"primary\",\"tertiary\")\n",
        "\n",
        "5 - default: has credit in default? (binary: \"yes\",\"no\")\n",
        "\n",
        "6 - balance: average yearly balance, in euros (numeric)\n",
        "\n",
        "7 - housing: has housing loan? (binary: \"yes\",\"no\")\n",
        "\n",
        "8 - loan: has personal loan? (binary: \"yes\",\"no\")\n",
        "# related with the last contact of the current campaign:\n",
        "9 - contact: contact communication type (categorical: \"unknown\",\"telephone\",\"cellular\")\n",
        "10 - day: last contact day of the month (numeric)\n",
        "\n",
        "11 - month: last contact month of year (categorical: \"jan\", \"feb\", \"mar\", …, \"nov\", \"dec\")\n",
        "\n",
        "12 - duration: last contact duration, in seconds (numeric)\n",
        "\n",
        "# other attributes:\n",
        "13 - campaign: number of contacts performed during this campaign and for this client (numeric, includes last contact)\n",
        "\n",
        "14 - pdays: number of days that passed by after the client was last contacted from a previous campaign (numeric, -1 means client was not previously contacted)\n",
        "\n",
        "15 - previous: number of contacts performed before this campaign and for this client (numeric)\n",
        "\n",
        "16 - poutcome: outcome of the previous marketing campaign (categorical: \"unknown\",\"other\",\"failure\",\"success\")\n",
        "\n",
        "Output variable (desired target):\n",
        "\n",
        "17 - y - has the client subscribed a term deposit? (binary: \"yes\",\"no\")\n",
        "\n",
        "Missing Attribute Values: None\n"
      ],
      "metadata": {
        "id": "Vk6nkafwIHMh"
      }
    },
    {
      "cell_type": "code",
      "source": [
        "import pandas as pd\n",
        "import numpy as np\n",
        "import matplotlib.pyplot as plt\n",
        "import seaborn as sns\n",
        "df=pd.read_csv('https://raw.githubusercontent.com/ogut77/DataScience/main/data/Bank.csv',sep = ';')\n",
        "df"
      ],
      "metadata": {
        "id": "EZdL1N4MZqZF",
        "colab": {
          "base_uri": "https://localhost:8080/",
          "height": 424
        },
        "outputId": "add4f66e-dbf2-46b4-8d1b-42e8c0d6d974"
      },
      "execution_count": 1,
      "outputs": [
        {
          "output_type": "execute_result",
          "data": {
            "text/plain": [
              "       age           job   marital  education default  balance housing loan  \\\n",
              "0       58    management   married   tertiary      no     2143     yes   no   \n",
              "1       44    technician    single  secondary      no       29     yes   no   \n",
              "2       33  entrepreneur   married  secondary      no        2     yes  yes   \n",
              "3       47   blue-collar   married    unknown      no     1506     yes   no   \n",
              "4       33       unknown    single    unknown      no        1      no   no   \n",
              "...    ...           ...       ...        ...     ...      ...     ...  ...   \n",
              "45206   51    technician   married   tertiary      no      825      no   no   \n",
              "45207   71       retired  divorced    primary      no     1729      no   no   \n",
              "45208   72       retired   married  secondary      no     5715      no   no   \n",
              "45209   57   blue-collar   married  secondary      no      668      no   no   \n",
              "45210   37  entrepreneur   married  secondary      no     2971      no   no   \n",
              "\n",
              "         contact  day month  duration  campaign  pdays  previous poutcome    y  \n",
              "0        unknown    5   may       261         1     -1         0  unknown   no  \n",
              "1        unknown    5   may       151         1     -1         0  unknown   no  \n",
              "2        unknown    5   may        76         1     -1         0  unknown   no  \n",
              "3        unknown    5   may        92         1     -1         0  unknown   no  \n",
              "4        unknown    5   may       198         1     -1         0  unknown   no  \n",
              "...          ...  ...   ...       ...       ...    ...       ...      ...  ...  \n",
              "45206   cellular   17   nov       977         3     -1         0  unknown  yes  \n",
              "45207   cellular   17   nov       456         2     -1         0  unknown  yes  \n",
              "45208   cellular   17   nov      1127         5    184         3  success  yes  \n",
              "45209  telephone   17   nov       508         4     -1         0  unknown   no  \n",
              "45210   cellular   17   nov       361         2    188        11    other   no  \n",
              "\n",
              "[45211 rows x 17 columns]"
            ],
            "text/html": [
              "\n",
              "  <div id=\"df-c0bd8ee8-3b78-4c0d-a8ca-edbf45317aa6\">\n",
              "    <div class=\"colab-df-container\">\n",
              "      <div>\n",
              "<style scoped>\n",
              "    .dataframe tbody tr th:only-of-type {\n",
              "        vertical-align: middle;\n",
              "    }\n",
              "\n",
              "    .dataframe tbody tr th {\n",
              "        vertical-align: top;\n",
              "    }\n",
              "\n",
              "    .dataframe thead th {\n",
              "        text-align: right;\n",
              "    }\n",
              "</style>\n",
              "<table border=\"1\" class=\"dataframe\">\n",
              "  <thead>\n",
              "    <tr style=\"text-align: right;\">\n",
              "      <th></th>\n",
              "      <th>age</th>\n",
              "      <th>job</th>\n",
              "      <th>marital</th>\n",
              "      <th>education</th>\n",
              "      <th>default</th>\n",
              "      <th>balance</th>\n",
              "      <th>housing</th>\n",
              "      <th>loan</th>\n",
              "      <th>contact</th>\n",
              "      <th>day</th>\n",
              "      <th>month</th>\n",
              "      <th>duration</th>\n",
              "      <th>campaign</th>\n",
              "      <th>pdays</th>\n",
              "      <th>previous</th>\n",
              "      <th>poutcome</th>\n",
              "      <th>y</th>\n",
              "    </tr>\n",
              "  </thead>\n",
              "  <tbody>\n",
              "    <tr>\n",
              "      <th>0</th>\n",
              "      <td>58</td>\n",
              "      <td>management</td>\n",
              "      <td>married</td>\n",
              "      <td>tertiary</td>\n",
              "      <td>no</td>\n",
              "      <td>2143</td>\n",
              "      <td>yes</td>\n",
              "      <td>no</td>\n",
              "      <td>unknown</td>\n",
              "      <td>5</td>\n",
              "      <td>may</td>\n",
              "      <td>261</td>\n",
              "      <td>1</td>\n",
              "      <td>-1</td>\n",
              "      <td>0</td>\n",
              "      <td>unknown</td>\n",
              "      <td>no</td>\n",
              "    </tr>\n",
              "    <tr>\n",
              "      <th>1</th>\n",
              "      <td>44</td>\n",
              "      <td>technician</td>\n",
              "      <td>single</td>\n",
              "      <td>secondary</td>\n",
              "      <td>no</td>\n",
              "      <td>29</td>\n",
              "      <td>yes</td>\n",
              "      <td>no</td>\n",
              "      <td>unknown</td>\n",
              "      <td>5</td>\n",
              "      <td>may</td>\n",
              "      <td>151</td>\n",
              "      <td>1</td>\n",
              "      <td>-1</td>\n",
              "      <td>0</td>\n",
              "      <td>unknown</td>\n",
              "      <td>no</td>\n",
              "    </tr>\n",
              "    <tr>\n",
              "      <th>2</th>\n",
              "      <td>33</td>\n",
              "      <td>entrepreneur</td>\n",
              "      <td>married</td>\n",
              "      <td>secondary</td>\n",
              "      <td>no</td>\n",
              "      <td>2</td>\n",
              "      <td>yes</td>\n",
              "      <td>yes</td>\n",
              "      <td>unknown</td>\n",
              "      <td>5</td>\n",
              "      <td>may</td>\n",
              "      <td>76</td>\n",
              "      <td>1</td>\n",
              "      <td>-1</td>\n",
              "      <td>0</td>\n",
              "      <td>unknown</td>\n",
              "      <td>no</td>\n",
              "    </tr>\n",
              "    <tr>\n",
              "      <th>3</th>\n",
              "      <td>47</td>\n",
              "      <td>blue-collar</td>\n",
              "      <td>married</td>\n",
              "      <td>unknown</td>\n",
              "      <td>no</td>\n",
              "      <td>1506</td>\n",
              "      <td>yes</td>\n",
              "      <td>no</td>\n",
              "      <td>unknown</td>\n",
              "      <td>5</td>\n",
              "      <td>may</td>\n",
              "      <td>92</td>\n",
              "      <td>1</td>\n",
              "      <td>-1</td>\n",
              "      <td>0</td>\n",
              "      <td>unknown</td>\n",
              "      <td>no</td>\n",
              "    </tr>\n",
              "    <tr>\n",
              "      <th>4</th>\n",
              "      <td>33</td>\n",
              "      <td>unknown</td>\n",
              "      <td>single</td>\n",
              "      <td>unknown</td>\n",
              "      <td>no</td>\n",
              "      <td>1</td>\n",
              "      <td>no</td>\n",
              "      <td>no</td>\n",
              "      <td>unknown</td>\n",
              "      <td>5</td>\n",
              "      <td>may</td>\n",
              "      <td>198</td>\n",
              "      <td>1</td>\n",
              "      <td>-1</td>\n",
              "      <td>0</td>\n",
              "      <td>unknown</td>\n",
              "      <td>no</td>\n",
              "    </tr>\n",
              "    <tr>\n",
              "      <th>...</th>\n",
              "      <td>...</td>\n",
              "      <td>...</td>\n",
              "      <td>...</td>\n",
              "      <td>...</td>\n",
              "      <td>...</td>\n",
              "      <td>...</td>\n",
              "      <td>...</td>\n",
              "      <td>...</td>\n",
              "      <td>...</td>\n",
              "      <td>...</td>\n",
              "      <td>...</td>\n",
              "      <td>...</td>\n",
              "      <td>...</td>\n",
              "      <td>...</td>\n",
              "      <td>...</td>\n",
              "      <td>...</td>\n",
              "      <td>...</td>\n",
              "    </tr>\n",
              "    <tr>\n",
              "      <th>45206</th>\n",
              "      <td>51</td>\n",
              "      <td>technician</td>\n",
              "      <td>married</td>\n",
              "      <td>tertiary</td>\n",
              "      <td>no</td>\n",
              "      <td>825</td>\n",
              "      <td>no</td>\n",
              "      <td>no</td>\n",
              "      <td>cellular</td>\n",
              "      <td>17</td>\n",
              "      <td>nov</td>\n",
              "      <td>977</td>\n",
              "      <td>3</td>\n",
              "      <td>-1</td>\n",
              "      <td>0</td>\n",
              "      <td>unknown</td>\n",
              "      <td>yes</td>\n",
              "    </tr>\n",
              "    <tr>\n",
              "      <th>45207</th>\n",
              "      <td>71</td>\n",
              "      <td>retired</td>\n",
              "      <td>divorced</td>\n",
              "      <td>primary</td>\n",
              "      <td>no</td>\n",
              "      <td>1729</td>\n",
              "      <td>no</td>\n",
              "      <td>no</td>\n",
              "      <td>cellular</td>\n",
              "      <td>17</td>\n",
              "      <td>nov</td>\n",
              "      <td>456</td>\n",
              "      <td>2</td>\n",
              "      <td>-1</td>\n",
              "      <td>0</td>\n",
              "      <td>unknown</td>\n",
              "      <td>yes</td>\n",
              "    </tr>\n",
              "    <tr>\n",
              "      <th>45208</th>\n",
              "      <td>72</td>\n",
              "      <td>retired</td>\n",
              "      <td>married</td>\n",
              "      <td>secondary</td>\n",
              "      <td>no</td>\n",
              "      <td>5715</td>\n",
              "      <td>no</td>\n",
              "      <td>no</td>\n",
              "      <td>cellular</td>\n",
              "      <td>17</td>\n",
              "      <td>nov</td>\n",
              "      <td>1127</td>\n",
              "      <td>5</td>\n",
              "      <td>184</td>\n",
              "      <td>3</td>\n",
              "      <td>success</td>\n",
              "      <td>yes</td>\n",
              "    </tr>\n",
              "    <tr>\n",
              "      <th>45209</th>\n",
              "      <td>57</td>\n",
              "      <td>blue-collar</td>\n",
              "      <td>married</td>\n",
              "      <td>secondary</td>\n",
              "      <td>no</td>\n",
              "      <td>668</td>\n",
              "      <td>no</td>\n",
              "      <td>no</td>\n",
              "      <td>telephone</td>\n",
              "      <td>17</td>\n",
              "      <td>nov</td>\n",
              "      <td>508</td>\n",
              "      <td>4</td>\n",
              "      <td>-1</td>\n",
              "      <td>0</td>\n",
              "      <td>unknown</td>\n",
              "      <td>no</td>\n",
              "    </tr>\n",
              "    <tr>\n",
              "      <th>45210</th>\n",
              "      <td>37</td>\n",
              "      <td>entrepreneur</td>\n",
              "      <td>married</td>\n",
              "      <td>secondary</td>\n",
              "      <td>no</td>\n",
              "      <td>2971</td>\n",
              "      <td>no</td>\n",
              "      <td>no</td>\n",
              "      <td>cellular</td>\n",
              "      <td>17</td>\n",
              "      <td>nov</td>\n",
              "      <td>361</td>\n",
              "      <td>2</td>\n",
              "      <td>188</td>\n",
              "      <td>11</td>\n",
              "      <td>other</td>\n",
              "      <td>no</td>\n",
              "    </tr>\n",
              "  </tbody>\n",
              "</table>\n",
              "<p>45211 rows × 17 columns</p>\n",
              "</div>\n",
              "      <button class=\"colab-df-convert\" onclick=\"convertToInteractive('df-c0bd8ee8-3b78-4c0d-a8ca-edbf45317aa6')\"\n",
              "              title=\"Convert this dataframe to an interactive table.\"\n",
              "              style=\"display:none;\">\n",
              "        \n",
              "  <svg xmlns=\"http://www.w3.org/2000/svg\" height=\"24px\"viewBox=\"0 0 24 24\"\n",
              "       width=\"24px\">\n",
              "    <path d=\"M0 0h24v24H0V0z\" fill=\"none\"/>\n",
              "    <path d=\"M18.56 5.44l.94 2.06.94-2.06 2.06-.94-2.06-.94-.94-2.06-.94 2.06-2.06.94zm-11 1L8.5 8.5l.94-2.06 2.06-.94-2.06-.94L8.5 2.5l-.94 2.06-2.06.94zm10 10l.94 2.06.94-2.06 2.06-.94-2.06-.94-.94-2.06-.94 2.06-2.06.94z\"/><path d=\"M17.41 7.96l-1.37-1.37c-.4-.4-.92-.59-1.43-.59-.52 0-1.04.2-1.43.59L10.3 9.45l-7.72 7.72c-.78.78-.78 2.05 0 2.83L4 21.41c.39.39.9.59 1.41.59.51 0 1.02-.2 1.41-.59l7.78-7.78 2.81-2.81c.8-.78.8-2.07 0-2.86zM5.41 20L4 18.59l7.72-7.72 1.47 1.35L5.41 20z\"/>\n",
              "  </svg>\n",
              "      </button>\n",
              "      \n",
              "  <style>\n",
              "    .colab-df-container {\n",
              "      display:flex;\n",
              "      flex-wrap:wrap;\n",
              "      gap: 12px;\n",
              "    }\n",
              "\n",
              "    .colab-df-convert {\n",
              "      background-color: #E8F0FE;\n",
              "      border: none;\n",
              "      border-radius: 50%;\n",
              "      cursor: pointer;\n",
              "      display: none;\n",
              "      fill: #1967D2;\n",
              "      height: 32px;\n",
              "      padding: 0 0 0 0;\n",
              "      width: 32px;\n",
              "    }\n",
              "\n",
              "    .colab-df-convert:hover {\n",
              "      background-color: #E2EBFA;\n",
              "      box-shadow: 0px 1px 2px rgba(60, 64, 67, 0.3), 0px 1px 3px 1px rgba(60, 64, 67, 0.15);\n",
              "      fill: #174EA6;\n",
              "    }\n",
              "\n",
              "    [theme=dark] .colab-df-convert {\n",
              "      background-color: #3B4455;\n",
              "      fill: #D2E3FC;\n",
              "    }\n",
              "\n",
              "    [theme=dark] .colab-df-convert:hover {\n",
              "      background-color: #434B5C;\n",
              "      box-shadow: 0px 1px 3px 1px rgba(0, 0, 0, 0.15);\n",
              "      filter: drop-shadow(0px 1px 2px rgba(0, 0, 0, 0.3));\n",
              "      fill: #FFFFFF;\n",
              "    }\n",
              "  </style>\n",
              "\n",
              "      <script>\n",
              "        const buttonEl =\n",
              "          document.querySelector('#df-c0bd8ee8-3b78-4c0d-a8ca-edbf45317aa6 button.colab-df-convert');\n",
              "        buttonEl.style.display =\n",
              "          google.colab.kernel.accessAllowed ? 'block' : 'none';\n",
              "\n",
              "        async function convertToInteractive(key) {\n",
              "          const element = document.querySelector('#df-c0bd8ee8-3b78-4c0d-a8ca-edbf45317aa6');\n",
              "          const dataTable =\n",
              "            await google.colab.kernel.invokeFunction('convertToInteractive',\n",
              "                                                     [key], {});\n",
              "          if (!dataTable) return;\n",
              "\n",
              "          const docLinkHtml = 'Like what you see? Visit the ' +\n",
              "            '<a target=\"_blank\" href=https://colab.research.google.com/notebooks/data_table.ipynb>data table notebook</a>'\n",
              "            + ' to learn more about interactive tables.';\n",
              "          element.innerHTML = '';\n",
              "          dataTable['output_type'] = 'display_data';\n",
              "          await google.colab.output.renderOutput(dataTable, element);\n",
              "          const docLink = document.createElement('div');\n",
              "          docLink.innerHTML = docLinkHtml;\n",
              "          element.appendChild(docLink);\n",
              "        }\n",
              "      </script>\n",
              "    </div>\n",
              "  </div>\n",
              "  "
            ]
          },
          "metadata": {},
          "execution_count": 1
        }
      ]
    },
    {
      "cell_type": "code",
      "source": [
        "print(df.shape)\n",
        "df.info()\n",
        "df.isnull().sum()"
      ],
      "metadata": {
        "colab": {
          "base_uri": "https://localhost:8080/"
        },
        "id": "hm9ZMVW9aJNh",
        "outputId": "b666d253-55f4-4fa2-a557-0dc8ebee146e"
      },
      "execution_count": 2,
      "outputs": [
        {
          "output_type": "stream",
          "name": "stdout",
          "text": [
            "(45211, 17)\n",
            "<class 'pandas.core.frame.DataFrame'>\n",
            "RangeIndex: 45211 entries, 0 to 45210\n",
            "Data columns (total 17 columns):\n",
            " #   Column     Non-Null Count  Dtype \n",
            "---  ------     --------------  ----- \n",
            " 0   age        45211 non-null  int64 \n",
            " 1   job        45211 non-null  object\n",
            " 2   marital    45211 non-null  object\n",
            " 3   education  45211 non-null  object\n",
            " 4   default    45211 non-null  object\n",
            " 5   balance    45211 non-null  int64 \n",
            " 6   housing    45211 non-null  object\n",
            " 7   loan       45211 non-null  object\n",
            " 8   contact    45211 non-null  object\n",
            " 9   day        45211 non-null  int64 \n",
            " 10  month      45211 non-null  object\n",
            " 11  duration   45211 non-null  int64 \n",
            " 12  campaign   45211 non-null  int64 \n",
            " 13  pdays      45211 non-null  int64 \n",
            " 14  previous   45211 non-null  int64 \n",
            " 15  poutcome   45211 non-null  object\n",
            " 16  y          45211 non-null  object\n",
            "dtypes: int64(7), object(10)\n",
            "memory usage: 5.9+ MB\n"
          ]
        },
        {
          "output_type": "execute_result",
          "data": {
            "text/plain": [
              "age          0\n",
              "job          0\n",
              "marital      0\n",
              "education    0\n",
              "default      0\n",
              "balance      0\n",
              "housing      0\n",
              "loan         0\n",
              "contact      0\n",
              "day          0\n",
              "month        0\n",
              "duration     0\n",
              "campaign     0\n",
              "pdays        0\n",
              "previous     0\n",
              "poutcome     0\n",
              "y            0\n",
              "dtype: int64"
            ]
          },
          "metadata": {},
          "execution_count": 2
        }
      ]
    },
    {
      "cell_type": "code",
      "source": [
        "#For object check the data \n",
        "for cn in df.columns:\n",
        "  if(df[cn].dtype==object):\n",
        "    print(df[cn].value_counts())"
      ],
      "metadata": {
        "colab": {
          "base_uri": "https://localhost:8080/"
        },
        "id": "_LD1CE208fhi",
        "outputId": "4ecb652e-156e-4660-c92e-ab5468c1377e"
      },
      "execution_count": 3,
      "outputs": [
        {
          "output_type": "stream",
          "name": "stdout",
          "text": [
            "blue-collar      9732\n",
            "management       9458\n",
            "technician       7597\n",
            "admin.           5171\n",
            "services         4154\n",
            "retired          2264\n",
            "self-employed    1579\n",
            "entrepreneur     1487\n",
            "unemployed       1303\n",
            "housemaid        1240\n",
            "student           938\n",
            "unknown           288\n",
            "Name: job, dtype: int64\n",
            "married     27214\n",
            "single      12790\n",
            "divorced     5207\n",
            "Name: marital, dtype: int64\n",
            "secondary    23202\n",
            "tertiary     13301\n",
            "primary       6851\n",
            "unknown       1857\n",
            "Name: education, dtype: int64\n",
            "no     44396\n",
            "yes      815\n",
            "Name: default, dtype: int64\n",
            "yes    25130\n",
            "no     20081\n",
            "Name: housing, dtype: int64\n",
            "no     37967\n",
            "yes     7244\n",
            "Name: loan, dtype: int64\n",
            "cellular     29285\n",
            "unknown      13020\n",
            "telephone     2906\n",
            "Name: contact, dtype: int64\n",
            "may    13766\n",
            "jul     6895\n",
            "aug     6247\n",
            "jun     5341\n",
            "nov     3970\n",
            "apr     2932\n",
            "feb     2649\n",
            "jan     1403\n",
            "oct      738\n",
            "sep      579\n",
            "mar      477\n",
            "dec      214\n",
            "Name: month, dtype: int64\n",
            "unknown    36959\n",
            "failure     4901\n",
            "other       1840\n",
            "success     1511\n",
            "Name: poutcome, dtype: int64\n",
            "no     39922\n",
            "yes     5289\n",
            "Name: y, dtype: int64\n"
          ]
        }
      ]
    },
    {
      "cell_type": "code",
      "source": [
        "def Encoder(df):\n",
        "          from sklearn import preprocessing\n",
        "          columnsToEncode = list(df.select_dtypes(include=['category','object']))\n",
        "          le = preprocessing.LabelEncoder()\n",
        "          for feature in columnsToEncode:\n",
        "              try:\n",
        "                  df[feature] = le.fit_transform(df[feature])\n",
        "              except:\n",
        "                  print('Error encoding '+feature)\n",
        "          return df"
      ],
      "metadata": {
        "id": "JqEV5gKmD6_v"
      },
      "execution_count": 4,
      "outputs": []
    },
    {
      "cell_type": "code",
      "source": [
        "df=Encoder(df)\n",
        "df"
      ],
      "metadata": {
        "colab": {
          "base_uri": "https://localhost:8080/",
          "height": 424
        },
        "id": "U_XhnTUFBfMj",
        "outputId": "53398824-521f-41d4-f87c-5fc8ea7c99a1"
      },
      "execution_count": 5,
      "outputs": [
        {
          "output_type": "execute_result",
          "data": {
            "text/plain": [
              "       age  job  marital  education  default  balance  housing  loan  contact  \\\n",
              "0       58    4        1          2        0     2143        1     0        2   \n",
              "1       44    9        2          1        0       29        1     0        2   \n",
              "2       33    2        1          1        0        2        1     1        2   \n",
              "3       47    1        1          3        0     1506        1     0        2   \n",
              "4       33   11        2          3        0        1        0     0        2   \n",
              "...    ...  ...      ...        ...      ...      ...      ...   ...      ...   \n",
              "45206   51    9        1          2        0      825        0     0        0   \n",
              "45207   71    5        0          0        0     1729        0     0        0   \n",
              "45208   72    5        1          1        0     5715        0     0        0   \n",
              "45209   57    1        1          1        0      668        0     0        1   \n",
              "45210   37    2        1          1        0     2971        0     0        0   \n",
              "\n",
              "       day  month  duration  campaign  pdays  previous  poutcome  y  \n",
              "0        5      8       261         1     -1         0         3  0  \n",
              "1        5      8       151         1     -1         0         3  0  \n",
              "2        5      8        76         1     -1         0         3  0  \n",
              "3        5      8        92         1     -1         0         3  0  \n",
              "4        5      8       198         1     -1         0         3  0  \n",
              "...    ...    ...       ...       ...    ...       ...       ... ..  \n",
              "45206   17      9       977         3     -1         0         3  1  \n",
              "45207   17      9       456         2     -1         0         3  1  \n",
              "45208   17      9      1127         5    184         3         2  1  \n",
              "45209   17      9       508         4     -1         0         3  0  \n",
              "45210   17      9       361         2    188        11         1  0  \n",
              "\n",
              "[45211 rows x 17 columns]"
            ],
            "text/html": [
              "\n",
              "  <div id=\"df-85bb2c1c-856d-41b3-aa1f-ea73150614c7\">\n",
              "    <div class=\"colab-df-container\">\n",
              "      <div>\n",
              "<style scoped>\n",
              "    .dataframe tbody tr th:only-of-type {\n",
              "        vertical-align: middle;\n",
              "    }\n",
              "\n",
              "    .dataframe tbody tr th {\n",
              "        vertical-align: top;\n",
              "    }\n",
              "\n",
              "    .dataframe thead th {\n",
              "        text-align: right;\n",
              "    }\n",
              "</style>\n",
              "<table border=\"1\" class=\"dataframe\">\n",
              "  <thead>\n",
              "    <tr style=\"text-align: right;\">\n",
              "      <th></th>\n",
              "      <th>age</th>\n",
              "      <th>job</th>\n",
              "      <th>marital</th>\n",
              "      <th>education</th>\n",
              "      <th>default</th>\n",
              "      <th>balance</th>\n",
              "      <th>housing</th>\n",
              "      <th>loan</th>\n",
              "      <th>contact</th>\n",
              "      <th>day</th>\n",
              "      <th>month</th>\n",
              "      <th>duration</th>\n",
              "      <th>campaign</th>\n",
              "      <th>pdays</th>\n",
              "      <th>previous</th>\n",
              "      <th>poutcome</th>\n",
              "      <th>y</th>\n",
              "    </tr>\n",
              "  </thead>\n",
              "  <tbody>\n",
              "    <tr>\n",
              "      <th>0</th>\n",
              "      <td>58</td>\n",
              "      <td>4</td>\n",
              "      <td>1</td>\n",
              "      <td>2</td>\n",
              "      <td>0</td>\n",
              "      <td>2143</td>\n",
              "      <td>1</td>\n",
              "      <td>0</td>\n",
              "      <td>2</td>\n",
              "      <td>5</td>\n",
              "      <td>8</td>\n",
              "      <td>261</td>\n",
              "      <td>1</td>\n",
              "      <td>-1</td>\n",
              "      <td>0</td>\n",
              "      <td>3</td>\n",
              "      <td>0</td>\n",
              "    </tr>\n",
              "    <tr>\n",
              "      <th>1</th>\n",
              "      <td>44</td>\n",
              "      <td>9</td>\n",
              "      <td>2</td>\n",
              "      <td>1</td>\n",
              "      <td>0</td>\n",
              "      <td>29</td>\n",
              "      <td>1</td>\n",
              "      <td>0</td>\n",
              "      <td>2</td>\n",
              "      <td>5</td>\n",
              "      <td>8</td>\n",
              "      <td>151</td>\n",
              "      <td>1</td>\n",
              "      <td>-1</td>\n",
              "      <td>0</td>\n",
              "      <td>3</td>\n",
              "      <td>0</td>\n",
              "    </tr>\n",
              "    <tr>\n",
              "      <th>2</th>\n",
              "      <td>33</td>\n",
              "      <td>2</td>\n",
              "      <td>1</td>\n",
              "      <td>1</td>\n",
              "      <td>0</td>\n",
              "      <td>2</td>\n",
              "      <td>1</td>\n",
              "      <td>1</td>\n",
              "      <td>2</td>\n",
              "      <td>5</td>\n",
              "      <td>8</td>\n",
              "      <td>76</td>\n",
              "      <td>1</td>\n",
              "      <td>-1</td>\n",
              "      <td>0</td>\n",
              "      <td>3</td>\n",
              "      <td>0</td>\n",
              "    </tr>\n",
              "    <tr>\n",
              "      <th>3</th>\n",
              "      <td>47</td>\n",
              "      <td>1</td>\n",
              "      <td>1</td>\n",
              "      <td>3</td>\n",
              "      <td>0</td>\n",
              "      <td>1506</td>\n",
              "      <td>1</td>\n",
              "      <td>0</td>\n",
              "      <td>2</td>\n",
              "      <td>5</td>\n",
              "      <td>8</td>\n",
              "      <td>92</td>\n",
              "      <td>1</td>\n",
              "      <td>-1</td>\n",
              "      <td>0</td>\n",
              "      <td>3</td>\n",
              "      <td>0</td>\n",
              "    </tr>\n",
              "    <tr>\n",
              "      <th>4</th>\n",
              "      <td>33</td>\n",
              "      <td>11</td>\n",
              "      <td>2</td>\n",
              "      <td>3</td>\n",
              "      <td>0</td>\n",
              "      <td>1</td>\n",
              "      <td>0</td>\n",
              "      <td>0</td>\n",
              "      <td>2</td>\n",
              "      <td>5</td>\n",
              "      <td>8</td>\n",
              "      <td>198</td>\n",
              "      <td>1</td>\n",
              "      <td>-1</td>\n",
              "      <td>0</td>\n",
              "      <td>3</td>\n",
              "      <td>0</td>\n",
              "    </tr>\n",
              "    <tr>\n",
              "      <th>...</th>\n",
              "      <td>...</td>\n",
              "      <td>...</td>\n",
              "      <td>...</td>\n",
              "      <td>...</td>\n",
              "      <td>...</td>\n",
              "      <td>...</td>\n",
              "      <td>...</td>\n",
              "      <td>...</td>\n",
              "      <td>...</td>\n",
              "      <td>...</td>\n",
              "      <td>...</td>\n",
              "      <td>...</td>\n",
              "      <td>...</td>\n",
              "      <td>...</td>\n",
              "      <td>...</td>\n",
              "      <td>...</td>\n",
              "      <td>...</td>\n",
              "    </tr>\n",
              "    <tr>\n",
              "      <th>45206</th>\n",
              "      <td>51</td>\n",
              "      <td>9</td>\n",
              "      <td>1</td>\n",
              "      <td>2</td>\n",
              "      <td>0</td>\n",
              "      <td>825</td>\n",
              "      <td>0</td>\n",
              "      <td>0</td>\n",
              "      <td>0</td>\n",
              "      <td>17</td>\n",
              "      <td>9</td>\n",
              "      <td>977</td>\n",
              "      <td>3</td>\n",
              "      <td>-1</td>\n",
              "      <td>0</td>\n",
              "      <td>3</td>\n",
              "      <td>1</td>\n",
              "    </tr>\n",
              "    <tr>\n",
              "      <th>45207</th>\n",
              "      <td>71</td>\n",
              "      <td>5</td>\n",
              "      <td>0</td>\n",
              "      <td>0</td>\n",
              "      <td>0</td>\n",
              "      <td>1729</td>\n",
              "      <td>0</td>\n",
              "      <td>0</td>\n",
              "      <td>0</td>\n",
              "      <td>17</td>\n",
              "      <td>9</td>\n",
              "      <td>456</td>\n",
              "      <td>2</td>\n",
              "      <td>-1</td>\n",
              "      <td>0</td>\n",
              "      <td>3</td>\n",
              "      <td>1</td>\n",
              "    </tr>\n",
              "    <tr>\n",
              "      <th>45208</th>\n",
              "      <td>72</td>\n",
              "      <td>5</td>\n",
              "      <td>1</td>\n",
              "      <td>1</td>\n",
              "      <td>0</td>\n",
              "      <td>5715</td>\n",
              "      <td>0</td>\n",
              "      <td>0</td>\n",
              "      <td>0</td>\n",
              "      <td>17</td>\n",
              "      <td>9</td>\n",
              "      <td>1127</td>\n",
              "      <td>5</td>\n",
              "      <td>184</td>\n",
              "      <td>3</td>\n",
              "      <td>2</td>\n",
              "      <td>1</td>\n",
              "    </tr>\n",
              "    <tr>\n",
              "      <th>45209</th>\n",
              "      <td>57</td>\n",
              "      <td>1</td>\n",
              "      <td>1</td>\n",
              "      <td>1</td>\n",
              "      <td>0</td>\n",
              "      <td>668</td>\n",
              "      <td>0</td>\n",
              "      <td>0</td>\n",
              "      <td>1</td>\n",
              "      <td>17</td>\n",
              "      <td>9</td>\n",
              "      <td>508</td>\n",
              "      <td>4</td>\n",
              "      <td>-1</td>\n",
              "      <td>0</td>\n",
              "      <td>3</td>\n",
              "      <td>0</td>\n",
              "    </tr>\n",
              "    <tr>\n",
              "      <th>45210</th>\n",
              "      <td>37</td>\n",
              "      <td>2</td>\n",
              "      <td>1</td>\n",
              "      <td>1</td>\n",
              "      <td>0</td>\n",
              "      <td>2971</td>\n",
              "      <td>0</td>\n",
              "      <td>0</td>\n",
              "      <td>0</td>\n",
              "      <td>17</td>\n",
              "      <td>9</td>\n",
              "      <td>361</td>\n",
              "      <td>2</td>\n",
              "      <td>188</td>\n",
              "      <td>11</td>\n",
              "      <td>1</td>\n",
              "      <td>0</td>\n",
              "    </tr>\n",
              "  </tbody>\n",
              "</table>\n",
              "<p>45211 rows × 17 columns</p>\n",
              "</div>\n",
              "      <button class=\"colab-df-convert\" onclick=\"convertToInteractive('df-85bb2c1c-856d-41b3-aa1f-ea73150614c7')\"\n",
              "              title=\"Convert this dataframe to an interactive table.\"\n",
              "              style=\"display:none;\">\n",
              "        \n",
              "  <svg xmlns=\"http://www.w3.org/2000/svg\" height=\"24px\"viewBox=\"0 0 24 24\"\n",
              "       width=\"24px\">\n",
              "    <path d=\"M0 0h24v24H0V0z\" fill=\"none\"/>\n",
              "    <path d=\"M18.56 5.44l.94 2.06.94-2.06 2.06-.94-2.06-.94-.94-2.06-.94 2.06-2.06.94zm-11 1L8.5 8.5l.94-2.06 2.06-.94-2.06-.94L8.5 2.5l-.94 2.06-2.06.94zm10 10l.94 2.06.94-2.06 2.06-.94-2.06-.94-.94-2.06-.94 2.06-2.06.94z\"/><path d=\"M17.41 7.96l-1.37-1.37c-.4-.4-.92-.59-1.43-.59-.52 0-1.04.2-1.43.59L10.3 9.45l-7.72 7.72c-.78.78-.78 2.05 0 2.83L4 21.41c.39.39.9.59 1.41.59.51 0 1.02-.2 1.41-.59l7.78-7.78 2.81-2.81c.8-.78.8-2.07 0-2.86zM5.41 20L4 18.59l7.72-7.72 1.47 1.35L5.41 20z\"/>\n",
              "  </svg>\n",
              "      </button>\n",
              "      \n",
              "  <style>\n",
              "    .colab-df-container {\n",
              "      display:flex;\n",
              "      flex-wrap:wrap;\n",
              "      gap: 12px;\n",
              "    }\n",
              "\n",
              "    .colab-df-convert {\n",
              "      background-color: #E8F0FE;\n",
              "      border: none;\n",
              "      border-radius: 50%;\n",
              "      cursor: pointer;\n",
              "      display: none;\n",
              "      fill: #1967D2;\n",
              "      height: 32px;\n",
              "      padding: 0 0 0 0;\n",
              "      width: 32px;\n",
              "    }\n",
              "\n",
              "    .colab-df-convert:hover {\n",
              "      background-color: #E2EBFA;\n",
              "      box-shadow: 0px 1px 2px rgba(60, 64, 67, 0.3), 0px 1px 3px 1px rgba(60, 64, 67, 0.15);\n",
              "      fill: #174EA6;\n",
              "    }\n",
              "\n",
              "    [theme=dark] .colab-df-convert {\n",
              "      background-color: #3B4455;\n",
              "      fill: #D2E3FC;\n",
              "    }\n",
              "\n",
              "    [theme=dark] .colab-df-convert:hover {\n",
              "      background-color: #434B5C;\n",
              "      box-shadow: 0px 1px 3px 1px rgba(0, 0, 0, 0.15);\n",
              "      filter: drop-shadow(0px 1px 2px rgba(0, 0, 0, 0.3));\n",
              "      fill: #FFFFFF;\n",
              "    }\n",
              "  </style>\n",
              "\n",
              "      <script>\n",
              "        const buttonEl =\n",
              "          document.querySelector('#df-85bb2c1c-856d-41b3-aa1f-ea73150614c7 button.colab-df-convert');\n",
              "        buttonEl.style.display =\n",
              "          google.colab.kernel.accessAllowed ? 'block' : 'none';\n",
              "\n",
              "        async function convertToInteractive(key) {\n",
              "          const element = document.querySelector('#df-85bb2c1c-856d-41b3-aa1f-ea73150614c7');\n",
              "          const dataTable =\n",
              "            await google.colab.kernel.invokeFunction('convertToInteractive',\n",
              "                                                     [key], {});\n",
              "          if (!dataTable) return;\n",
              "\n",
              "          const docLinkHtml = 'Like what you see? Visit the ' +\n",
              "            '<a target=\"_blank\" href=https://colab.research.google.com/notebooks/data_table.ipynb>data table notebook</a>'\n",
              "            + ' to learn more about interactive tables.';\n",
              "          element.innerHTML = '';\n",
              "          dataTable['output_type'] = 'display_data';\n",
              "          await google.colab.output.renderOutput(dataTable, element);\n",
              "          const docLink = document.createElement('div');\n",
              "          docLink.innerHTML = docLinkHtml;\n",
              "          element.appendChild(docLink);\n",
              "        }\n",
              "      </script>\n",
              "    </div>\n",
              "  </div>\n",
              "  "
            ]
          },
          "metadata": {},
          "execution_count": 5
        }
      ]
    },
    {
      "cell_type": "code",
      "source": [
        "y = df['y'] #Output\n",
        "X = df.drop('y',axis=1)\n",
        "X"
      ],
      "metadata": {
        "colab": {
          "base_uri": "https://localhost:8080/",
          "height": 424
        },
        "id": "s8C7J0ObyNs5",
        "outputId": "77fbb5c2-9454-443d-e11e-5c11436f0fb2"
      },
      "execution_count": 6,
      "outputs": [
        {
          "output_type": "execute_result",
          "data": {
            "text/plain": [
              "       age  job  marital  education  default  balance  housing  loan  contact  \\\n",
              "0       58    4        1          2        0     2143        1     0        2   \n",
              "1       44    9        2          1        0       29        1     0        2   \n",
              "2       33    2        1          1        0        2        1     1        2   \n",
              "3       47    1        1          3        0     1506        1     0        2   \n",
              "4       33   11        2          3        0        1        0     0        2   \n",
              "...    ...  ...      ...        ...      ...      ...      ...   ...      ...   \n",
              "45206   51    9        1          2        0      825        0     0        0   \n",
              "45207   71    5        0          0        0     1729        0     0        0   \n",
              "45208   72    5        1          1        0     5715        0     0        0   \n",
              "45209   57    1        1          1        0      668        0     0        1   \n",
              "45210   37    2        1          1        0     2971        0     0        0   \n",
              "\n",
              "       day  month  duration  campaign  pdays  previous  poutcome  \n",
              "0        5      8       261         1     -1         0         3  \n",
              "1        5      8       151         1     -1         0         3  \n",
              "2        5      8        76         1     -1         0         3  \n",
              "3        5      8        92         1     -1         0         3  \n",
              "4        5      8       198         1     -1         0         3  \n",
              "...    ...    ...       ...       ...    ...       ...       ...  \n",
              "45206   17      9       977         3     -1         0         3  \n",
              "45207   17      9       456         2     -1         0         3  \n",
              "45208   17      9      1127         5    184         3         2  \n",
              "45209   17      9       508         4     -1         0         3  \n",
              "45210   17      9       361         2    188        11         1  \n",
              "\n",
              "[45211 rows x 16 columns]"
            ],
            "text/html": [
              "\n",
              "  <div id=\"df-8a58279e-8f48-42dc-b588-7f8ae088428b\">\n",
              "    <div class=\"colab-df-container\">\n",
              "      <div>\n",
              "<style scoped>\n",
              "    .dataframe tbody tr th:only-of-type {\n",
              "        vertical-align: middle;\n",
              "    }\n",
              "\n",
              "    .dataframe tbody tr th {\n",
              "        vertical-align: top;\n",
              "    }\n",
              "\n",
              "    .dataframe thead th {\n",
              "        text-align: right;\n",
              "    }\n",
              "</style>\n",
              "<table border=\"1\" class=\"dataframe\">\n",
              "  <thead>\n",
              "    <tr style=\"text-align: right;\">\n",
              "      <th></th>\n",
              "      <th>age</th>\n",
              "      <th>job</th>\n",
              "      <th>marital</th>\n",
              "      <th>education</th>\n",
              "      <th>default</th>\n",
              "      <th>balance</th>\n",
              "      <th>housing</th>\n",
              "      <th>loan</th>\n",
              "      <th>contact</th>\n",
              "      <th>day</th>\n",
              "      <th>month</th>\n",
              "      <th>duration</th>\n",
              "      <th>campaign</th>\n",
              "      <th>pdays</th>\n",
              "      <th>previous</th>\n",
              "      <th>poutcome</th>\n",
              "    </tr>\n",
              "  </thead>\n",
              "  <tbody>\n",
              "    <tr>\n",
              "      <th>0</th>\n",
              "      <td>58</td>\n",
              "      <td>4</td>\n",
              "      <td>1</td>\n",
              "      <td>2</td>\n",
              "      <td>0</td>\n",
              "      <td>2143</td>\n",
              "      <td>1</td>\n",
              "      <td>0</td>\n",
              "      <td>2</td>\n",
              "      <td>5</td>\n",
              "      <td>8</td>\n",
              "      <td>261</td>\n",
              "      <td>1</td>\n",
              "      <td>-1</td>\n",
              "      <td>0</td>\n",
              "      <td>3</td>\n",
              "    </tr>\n",
              "    <tr>\n",
              "      <th>1</th>\n",
              "      <td>44</td>\n",
              "      <td>9</td>\n",
              "      <td>2</td>\n",
              "      <td>1</td>\n",
              "      <td>0</td>\n",
              "      <td>29</td>\n",
              "      <td>1</td>\n",
              "      <td>0</td>\n",
              "      <td>2</td>\n",
              "      <td>5</td>\n",
              "      <td>8</td>\n",
              "      <td>151</td>\n",
              "      <td>1</td>\n",
              "      <td>-1</td>\n",
              "      <td>0</td>\n",
              "      <td>3</td>\n",
              "    </tr>\n",
              "    <tr>\n",
              "      <th>2</th>\n",
              "      <td>33</td>\n",
              "      <td>2</td>\n",
              "      <td>1</td>\n",
              "      <td>1</td>\n",
              "      <td>0</td>\n",
              "      <td>2</td>\n",
              "      <td>1</td>\n",
              "      <td>1</td>\n",
              "      <td>2</td>\n",
              "      <td>5</td>\n",
              "      <td>8</td>\n",
              "      <td>76</td>\n",
              "      <td>1</td>\n",
              "      <td>-1</td>\n",
              "      <td>0</td>\n",
              "      <td>3</td>\n",
              "    </tr>\n",
              "    <tr>\n",
              "      <th>3</th>\n",
              "      <td>47</td>\n",
              "      <td>1</td>\n",
              "      <td>1</td>\n",
              "      <td>3</td>\n",
              "      <td>0</td>\n",
              "      <td>1506</td>\n",
              "      <td>1</td>\n",
              "      <td>0</td>\n",
              "      <td>2</td>\n",
              "      <td>5</td>\n",
              "      <td>8</td>\n",
              "      <td>92</td>\n",
              "      <td>1</td>\n",
              "      <td>-1</td>\n",
              "      <td>0</td>\n",
              "      <td>3</td>\n",
              "    </tr>\n",
              "    <tr>\n",
              "      <th>4</th>\n",
              "      <td>33</td>\n",
              "      <td>11</td>\n",
              "      <td>2</td>\n",
              "      <td>3</td>\n",
              "      <td>0</td>\n",
              "      <td>1</td>\n",
              "      <td>0</td>\n",
              "      <td>0</td>\n",
              "      <td>2</td>\n",
              "      <td>5</td>\n",
              "      <td>8</td>\n",
              "      <td>198</td>\n",
              "      <td>1</td>\n",
              "      <td>-1</td>\n",
              "      <td>0</td>\n",
              "      <td>3</td>\n",
              "    </tr>\n",
              "    <tr>\n",
              "      <th>...</th>\n",
              "      <td>...</td>\n",
              "      <td>...</td>\n",
              "      <td>...</td>\n",
              "      <td>...</td>\n",
              "      <td>...</td>\n",
              "      <td>...</td>\n",
              "      <td>...</td>\n",
              "      <td>...</td>\n",
              "      <td>...</td>\n",
              "      <td>...</td>\n",
              "      <td>...</td>\n",
              "      <td>...</td>\n",
              "      <td>...</td>\n",
              "      <td>...</td>\n",
              "      <td>...</td>\n",
              "      <td>...</td>\n",
              "    </tr>\n",
              "    <tr>\n",
              "      <th>45206</th>\n",
              "      <td>51</td>\n",
              "      <td>9</td>\n",
              "      <td>1</td>\n",
              "      <td>2</td>\n",
              "      <td>0</td>\n",
              "      <td>825</td>\n",
              "      <td>0</td>\n",
              "      <td>0</td>\n",
              "      <td>0</td>\n",
              "      <td>17</td>\n",
              "      <td>9</td>\n",
              "      <td>977</td>\n",
              "      <td>3</td>\n",
              "      <td>-1</td>\n",
              "      <td>0</td>\n",
              "      <td>3</td>\n",
              "    </tr>\n",
              "    <tr>\n",
              "      <th>45207</th>\n",
              "      <td>71</td>\n",
              "      <td>5</td>\n",
              "      <td>0</td>\n",
              "      <td>0</td>\n",
              "      <td>0</td>\n",
              "      <td>1729</td>\n",
              "      <td>0</td>\n",
              "      <td>0</td>\n",
              "      <td>0</td>\n",
              "      <td>17</td>\n",
              "      <td>9</td>\n",
              "      <td>456</td>\n",
              "      <td>2</td>\n",
              "      <td>-1</td>\n",
              "      <td>0</td>\n",
              "      <td>3</td>\n",
              "    </tr>\n",
              "    <tr>\n",
              "      <th>45208</th>\n",
              "      <td>72</td>\n",
              "      <td>5</td>\n",
              "      <td>1</td>\n",
              "      <td>1</td>\n",
              "      <td>0</td>\n",
              "      <td>5715</td>\n",
              "      <td>0</td>\n",
              "      <td>0</td>\n",
              "      <td>0</td>\n",
              "      <td>17</td>\n",
              "      <td>9</td>\n",
              "      <td>1127</td>\n",
              "      <td>5</td>\n",
              "      <td>184</td>\n",
              "      <td>3</td>\n",
              "      <td>2</td>\n",
              "    </tr>\n",
              "    <tr>\n",
              "      <th>45209</th>\n",
              "      <td>57</td>\n",
              "      <td>1</td>\n",
              "      <td>1</td>\n",
              "      <td>1</td>\n",
              "      <td>0</td>\n",
              "      <td>668</td>\n",
              "      <td>0</td>\n",
              "      <td>0</td>\n",
              "      <td>1</td>\n",
              "      <td>17</td>\n",
              "      <td>9</td>\n",
              "      <td>508</td>\n",
              "      <td>4</td>\n",
              "      <td>-1</td>\n",
              "      <td>0</td>\n",
              "      <td>3</td>\n",
              "    </tr>\n",
              "    <tr>\n",
              "      <th>45210</th>\n",
              "      <td>37</td>\n",
              "      <td>2</td>\n",
              "      <td>1</td>\n",
              "      <td>1</td>\n",
              "      <td>0</td>\n",
              "      <td>2971</td>\n",
              "      <td>0</td>\n",
              "      <td>0</td>\n",
              "      <td>0</td>\n",
              "      <td>17</td>\n",
              "      <td>9</td>\n",
              "      <td>361</td>\n",
              "      <td>2</td>\n",
              "      <td>188</td>\n",
              "      <td>11</td>\n",
              "      <td>1</td>\n",
              "    </tr>\n",
              "  </tbody>\n",
              "</table>\n",
              "<p>45211 rows × 16 columns</p>\n",
              "</div>\n",
              "      <button class=\"colab-df-convert\" onclick=\"convertToInteractive('df-8a58279e-8f48-42dc-b588-7f8ae088428b')\"\n",
              "              title=\"Convert this dataframe to an interactive table.\"\n",
              "              style=\"display:none;\">\n",
              "        \n",
              "  <svg xmlns=\"http://www.w3.org/2000/svg\" height=\"24px\"viewBox=\"0 0 24 24\"\n",
              "       width=\"24px\">\n",
              "    <path d=\"M0 0h24v24H0V0z\" fill=\"none\"/>\n",
              "    <path d=\"M18.56 5.44l.94 2.06.94-2.06 2.06-.94-2.06-.94-.94-2.06-.94 2.06-2.06.94zm-11 1L8.5 8.5l.94-2.06 2.06-.94-2.06-.94L8.5 2.5l-.94 2.06-2.06.94zm10 10l.94 2.06.94-2.06 2.06-.94-2.06-.94-.94-2.06-.94 2.06-2.06.94z\"/><path d=\"M17.41 7.96l-1.37-1.37c-.4-.4-.92-.59-1.43-.59-.52 0-1.04.2-1.43.59L10.3 9.45l-7.72 7.72c-.78.78-.78 2.05 0 2.83L4 21.41c.39.39.9.59 1.41.59.51 0 1.02-.2 1.41-.59l7.78-7.78 2.81-2.81c.8-.78.8-2.07 0-2.86zM5.41 20L4 18.59l7.72-7.72 1.47 1.35L5.41 20z\"/>\n",
              "  </svg>\n",
              "      </button>\n",
              "      \n",
              "  <style>\n",
              "    .colab-df-container {\n",
              "      display:flex;\n",
              "      flex-wrap:wrap;\n",
              "      gap: 12px;\n",
              "    }\n",
              "\n",
              "    .colab-df-convert {\n",
              "      background-color: #E8F0FE;\n",
              "      border: none;\n",
              "      border-radius: 50%;\n",
              "      cursor: pointer;\n",
              "      display: none;\n",
              "      fill: #1967D2;\n",
              "      height: 32px;\n",
              "      padding: 0 0 0 0;\n",
              "      width: 32px;\n",
              "    }\n",
              "\n",
              "    .colab-df-convert:hover {\n",
              "      background-color: #E2EBFA;\n",
              "      box-shadow: 0px 1px 2px rgba(60, 64, 67, 0.3), 0px 1px 3px 1px rgba(60, 64, 67, 0.15);\n",
              "      fill: #174EA6;\n",
              "    }\n",
              "\n",
              "    [theme=dark] .colab-df-convert {\n",
              "      background-color: #3B4455;\n",
              "      fill: #D2E3FC;\n",
              "    }\n",
              "\n",
              "    [theme=dark] .colab-df-convert:hover {\n",
              "      background-color: #434B5C;\n",
              "      box-shadow: 0px 1px 3px 1px rgba(0, 0, 0, 0.15);\n",
              "      filter: drop-shadow(0px 1px 2px rgba(0, 0, 0, 0.3));\n",
              "      fill: #FFFFFF;\n",
              "    }\n",
              "  </style>\n",
              "\n",
              "      <script>\n",
              "        const buttonEl =\n",
              "          document.querySelector('#df-8a58279e-8f48-42dc-b588-7f8ae088428b button.colab-df-convert');\n",
              "        buttonEl.style.display =\n",
              "          google.colab.kernel.accessAllowed ? 'block' : 'none';\n",
              "\n",
              "        async function convertToInteractive(key) {\n",
              "          const element = document.querySelector('#df-8a58279e-8f48-42dc-b588-7f8ae088428b');\n",
              "          const dataTable =\n",
              "            await google.colab.kernel.invokeFunction('convertToInteractive',\n",
              "                                                     [key], {});\n",
              "          if (!dataTable) return;\n",
              "\n",
              "          const docLinkHtml = 'Like what you see? Visit the ' +\n",
              "            '<a target=\"_blank\" href=https://colab.research.google.com/notebooks/data_table.ipynb>data table notebook</a>'\n",
              "            + ' to learn more about interactive tables.';\n",
              "          element.innerHTML = '';\n",
              "          dataTable['output_type'] = 'display_data';\n",
              "          await google.colab.output.renderOutput(dataTable, element);\n",
              "          const docLink = document.createElement('div');\n",
              "          docLink.innerHTML = docLinkHtml;\n",
              "          element.appendChild(docLink);\n",
              "        }\n",
              "      </script>\n",
              "    </div>\n",
              "  </div>\n",
              "  "
            ]
          },
          "metadata": {},
          "execution_count": 6
        }
      ]
    },
    {
      "cell_type": "code",
      "source": [
        "from sklearn.model_selection import  train_test_split\n",
        "\n",
        "\n",
        "X_train, X_test, y_train, y_test = train_test_split(X, y, test_size=0.25, random_state=17)"
      ],
      "metadata": {
        "id": "aC4sGAvybIGe"
      },
      "execution_count": 7,
      "outputs": []
    },
    {
      "cell_type": "markdown",
      "source": [
        " \n",
        "\n",
        "\n",
        "Q1)Using  Random Forest,XGBoost, Light GBM and Gradient Boosting Classifier with default parameters (no parameter specifications except random_state) calculate Accuracy on Test data. Which method gives the best accuracy on test data"
      ],
      "metadata": {
        "id": "VbZLvi_k2kjt"
      }
    },
    {
      "cell_type": "code",
      "source": [
        "from sklearn import preprocessing\n",
        "from sklearn.model_selection import train_test_split\n",
        "from sklearn.metrics import accuracy_score\n",
        "from sklearn.ensemble import RandomForestClassifier, GradientBoostingClassifier\n",
        "from xgboost import XGBClassifier\n",
        "from lightgbm import LGBMClassifier\n",
        "\n",
        "rf = RandomForestClassifier(random_state=17)\n",
        "xgb = XGBClassifier(random_state=17)\n",
        "lgbm = LGBMClassifier(random_state=17)\n",
        "gb = GradientBoostingClassifier(random_state=17)\n",
        "\n",
        "rf.fit(X_train, y_train)\n",
        "xgb.fit(X_train, y_train)\n",
        "lgbm.fit(X_train, y_train)\n",
        "gb.fit(X_train, y_train)\n",
        "\n",
        "y_pred_rf = rf.predict(X_test)\n",
        "y_pred_xgb = xgb.predict(X_test)\n",
        "y_pred_lgbm = lgbm.predict(X_test)\n",
        "y_pred_gb = gb.predict(X_test)\n",
        "\n",
        "acc_rf = accuracy_score(y_test, y_pred_rf)\n",
        "acc_xgb = accuracy_score(y_test, y_pred_xgb)\n",
        "acc_lgbm = accuracy_score(y_test, y_pred_lgbm)\n",
        "acc_gb = accuracy_score(y_test, y_pred_gb)\n",
        "\n",
        "print(\"Accuracy of Random Forest: \", acc_rf)\n",
        "print(\"Accuracy of XGBoost: \", acc_xgb)\n",
        "print(\"Accuracy of Light GBM: \", acc_lgbm)\n",
        "print(\"Accuracy of Gradient Boosting: \", acc_gb)"
      ],
      "metadata": {
        "colab": {
          "base_uri": "https://localhost:8080/"
        },
        "id": "nVEp9ZXA4UwF",
        "outputId": "20f8b449-4c0c-4eb8-99ab-0b31d99dbfd6"
      },
      "execution_count": 8,
      "outputs": [
        {
          "output_type": "stream",
          "name": "stdout",
          "text": [
            "Accuracy of Random Forest:  0.9025037600636999\n",
            "Accuracy of XGBoost:  0.9043616738918872\n",
            "Accuracy of Light GBM:  0.9073697248518092\n",
            "Accuracy of Gradient Boosting:  0.9018844554543042\n"
          ]
        }
      ]
    },
    {
      "cell_type": "code",
      "source": [
        "best_accuracy = max(acc_rf, acc_xgb, acc_lgbm, acc_gb)\n",
        "best_classifier = \"\"\n",
        "\n",
        "if best_accuracy == acc_rf:\n",
        "    best_classifier = \"Random Forest\"\n",
        "elif best_accuracy == acc_xgb:\n",
        "    best_classifier = \"XGBoost\"\n",
        "elif best_accuracy == acc_lgbm:\n",
        "    best_classifier = \"Light GBM\"\n",
        "else:\n",
        "    best_classifier = \"Gradient Boosting\"\n",
        "\n",
        "print(\"Best classifier: \", best_classifier)"
      ],
      "metadata": {
        "colab": {
          "base_uri": "https://localhost:8080/"
        },
        "id": "o6QrM5584q7q",
        "outputId": "a2d68d3f-5f96-473c-89ef-7eb4c57570bf"
      },
      "execution_count": 9,
      "outputs": [
        {
          "output_type": "stream",
          "name": "stdout",
          "text": [
            "Best classifier:  Light GBM\n"
          ]
        }
      ]
    },
    {
      "cell_type": "markdown",
      "source": [
        "Q2) Using optuna hyperparmeter optimization technique and 100 trial\n",
        "\n",
        " a)find best methods with  parameters  using Cross validation (CV=3) technique for the range of   parameters below. What are the best parameters for the method with highest cross validation accuracy?\n",
        "\n",
        "\"max_depth\": range(2, 16), \"max_features\": range(2, 16)\n",
        "\n",
        " b)Evaluate the performance of the  method with highest cross validation accuracy on test data.What is the accuracy value?\n"
      ],
      "metadata": {
        "id": "TK77k75qO7dW"
      }
    },
    {
      "cell_type": "code",
      "source": [
        "!pip install optuna"
      ],
      "metadata": {
        "colab": {
          "base_uri": "https://localhost:8080/"
        },
        "id": "oN4t553s5qfI",
        "outputId": "8e337c6b-eee1-4077-9c66-862aed203010"
      },
      "execution_count": 10,
      "outputs": [
        {
          "output_type": "stream",
          "name": "stdout",
          "text": [
            "Looking in indexes: https://pypi.org/simple, https://us-python.pkg.dev/colab-wheels/public/simple/\n",
            "Collecting optuna\n",
            "  Downloading optuna-3.1.0-py3-none-any.whl (365 kB)\n",
            "\u001b[2K     \u001b[90m━━━━━━━━━━━━━━━━━━━━━━━━━━━━━━━━━━━━━━━\u001b[0m \u001b[32m365.3/365.3 KB\u001b[0m \u001b[31m6.9 MB/s\u001b[0m eta \u001b[36m0:00:00\u001b[0m\n",
            "\u001b[?25hCollecting colorlog\n",
            "  Downloading colorlog-6.7.0-py2.py3-none-any.whl (11 kB)\n",
            "Requirement already satisfied: packaging>=20.0 in /usr/local/lib/python3.9/dist-packages (from optuna) (23.0)\n",
            "Collecting cmaes>=0.9.1\n",
            "  Downloading cmaes-0.9.1-py3-none-any.whl (21 kB)\n",
            "Requirement already satisfied: PyYAML in /usr/local/lib/python3.9/dist-packages (from optuna) (6.0)\n",
            "Requirement already satisfied: sqlalchemy>=1.3.0 in /usr/local/lib/python3.9/dist-packages (from optuna) (1.4.47)\n",
            "Requirement already satisfied: numpy in /usr/local/lib/python3.9/dist-packages (from optuna) (1.22.4)\n",
            "Requirement already satisfied: tqdm in /usr/local/lib/python3.9/dist-packages (from optuna) (4.65.0)\n",
            "Collecting alembic>=1.5.0\n",
            "  Downloading alembic-1.10.2-py3-none-any.whl (212 kB)\n",
            "\u001b[2K     \u001b[90m━━━━━━━━━━━━━━━━━━━━━━━━━━━━━━━━━━━━━━\u001b[0m \u001b[32m212.2/212.2 KB\u001b[0m \u001b[31m17.7 MB/s\u001b[0m eta \u001b[36m0:00:00\u001b[0m\n",
            "\u001b[?25hRequirement already satisfied: typing-extensions>=4 in /usr/local/lib/python3.9/dist-packages (from alembic>=1.5.0->optuna) (4.5.0)\n",
            "Collecting Mako\n",
            "  Downloading Mako-1.2.4-py3-none-any.whl (78 kB)\n",
            "\u001b[2K     \u001b[90m━━━━━━━━━━━━━━━━━━━━━━━━━━━━━━━━━━━━━━━━\u001b[0m \u001b[32m78.7/78.7 KB\u001b[0m \u001b[31m6.2 MB/s\u001b[0m eta \u001b[36m0:00:00\u001b[0m\n",
            "\u001b[?25hRequirement already satisfied: greenlet!=0.4.17 in /usr/local/lib/python3.9/dist-packages (from sqlalchemy>=1.3.0->optuna) (2.0.2)\n",
            "Requirement already satisfied: MarkupSafe>=0.9.2 in /usr/local/lib/python3.9/dist-packages (from Mako->alembic>=1.5.0->optuna) (2.1.2)\n",
            "Installing collected packages: Mako, colorlog, cmaes, alembic, optuna\n",
            "Successfully installed Mako-1.2.4 alembic-1.10.2 cmaes-0.9.1 colorlog-6.7.0 optuna-3.1.0\n"
          ]
        }
      ]
    },
    {
      "cell_type": "code",
      "source": [
        "import optuna\n",
        "from sklearn.model_selection import cross_val_score\n",
        "\n",
        "def objective_rf(trial):\n",
        "    max_depth = trial.suggest_int(\"max_depth\", 2, 7)\n",
        "    max_features = trial.suggest_int(\"max_features\", 2, 7)\n",
        "    clf = RandomForestClassifier(max_depth=max_depth, max_features=max_features, random_state=17, n_jobs=-1)\n",
        "    return np.mean(cross_val_score(clf, X_train, y_train, cv=3))\n",
        "\n",
        "def objective_xgb(trial):\n",
        "    max_depth = trial.suggest_int(\"max_depth\", 2, 7)\n",
        "    colsample_bytree = trial.suggest_float(\"colsample_bytree\", 0.1, 1)\n",
        "    clf = XGBClassifier(max_depth=max_depth, colsample_bytree=colsample_bytree, random_state=17)\n",
        "    return np.mean(cross_val_score(clf, X_train, y_train, cv=3))\n",
        "\n",
        "def objective_lgbm(trial):\n",
        "    max_depth = trial.suggest_int(\"max_depth\", 2, 7)\n",
        "    feature_fraction = trial.suggest_float(\"feature_fraction\", 0.1, 1)\n",
        "    clf = LGBMClassifier(max_depth=max_depth, feature_fraction=feature_fraction, random_state=17)\n",
        "    return np.mean(cross_val_score(clf, X_train, y_train, cv=3))\n",
        "\n",
        "def objective_gb(trial):\n",
        "    max_depth = trial.suggest_int(\"max_depth\", 2, 7)\n",
        "    max_features = trial.suggest_int(\"max_features\", 2, 7)\n",
        "    clf = GradientBoostingClassifier(max_depth=max_depth, max_features=max_features, random_state=17)\n",
        "    return np.mean(cross_val_score(clf, X_train, y_train, cv=3))\n",
        "\n",
        "\n",
        "study_rf = optuna.create_study(direction=\"maximize\")\n",
        "study_rf.optimize(objective_rf, n_trials=50)\n",
        "\n",
        "study_xgb = optuna.create_study(direction=\"maximize\")\n",
        "study_xgb.optimize(objective_xgb, n_trials=50)\n",
        "\n",
        "study_lgbm = optuna.create_study(direction=\"maximize\")\n",
        "study_lgbm.optimize(objective_lgbm, n_trials=50)\n",
        "\n",
        "study_gb = optuna.create_study(direction=\"maximize\")\n",
        "study_gb.optimize(objective_gb, n_trials=50)\n",
        "\n",
        "\n",
        "best_params_rf = study_rf.best_params\n",
        "best_score_rf = study_rf.best_value\n",
        "\n",
        "best_params_xgb = study_xgb.best_params\n",
        "best_score_xgb = study_xgb.best_value\n",
        "\n",
        "best_params_lgbm = study_lgbm.best_params\n",
        "best_score_lgbm = study_lgbm.best_value\n",
        "\n",
        "best_params_gb = study_gb.best_params\n",
        "best_score_gb = study_gb.best_value\n",
        "\n",
        "print(\"Best parameters for Random Forest: \", best_params_rf)\n",
        "print(\"Best cross-validation score for Random Forest: \", best_score_rf)\n",
        "\n",
        "print(\"Best parameters for XGBoost: \", best_params_xgb)\n",
        "print(\"Best cross-validation score for XGBoost: \", best_score_xgb)\n",
        "\n",
        "print(\"Best parameters for Light GBM: \", best_params_lgbm)\n",
        "print(\"Best cross-validation score for Light GBM: \", best_score_lgbm)\n",
        "\n",
        "print(\"Best parameters for Gradient Boosting: \", best_params_gb)"
      ],
      "metadata": {
        "id": "ZiYWyhdhiEps",
        "colab": {
          "base_uri": "https://localhost:8080/"
        },
        "outputId": "ee864f2e-0530-44f3-ac6d-f2ab759bda1c"
      },
      "execution_count": 14,
      "outputs": [
        {
          "output_type": "stream",
          "name": "stderr",
          "text": [
            "\u001b[32m[I 2023-04-03 12:53:54,638]\u001b[0m A new study created in memory with name: no-name-bdfad9a6-1a1f-4c57-a777-26439226d907\u001b[0m\n",
            "\u001b[32m[I 2023-04-03 12:53:58,125]\u001b[0m Trial 0 finished with value: 0.8838032329432165 and parameters: {'max_depth': 2, 'max_features': 3}. Best is trial 0 with value: 0.8838032329432165.\u001b[0m\n",
            "\u001b[32m[I 2023-04-03 12:54:05,462]\u001b[0m Trial 1 finished with value: 0.9025009367640422 and parameters: {'max_depth': 6, 'max_features': 7}. Best is trial 1 with value: 0.9025009367640422.\u001b[0m\n",
            "\u001b[32m[I 2023-04-03 12:54:08,342]\u001b[0m Trial 2 finished with value: 0.8865164186956315 and parameters: {'max_depth': 5, 'max_features': 2}. Best is trial 1 with value: 0.9025009367640422.\u001b[0m\n",
            "\u001b[32m[I 2023-04-03 12:54:10,426]\u001b[0m Trial 3 finished with value: 0.8838032329432165 and parameters: {'max_depth': 2, 'max_features': 2}. Best is trial 1 with value: 0.9025009367640422.\u001b[0m\n",
            "\u001b[32m[I 2023-04-03 12:54:14,110]\u001b[0m Trial 4 finished with value: 0.8900554326446053 and parameters: {'max_depth': 4, 'max_features': 4}. Best is trial 1 with value: 0.9025009367640422.\u001b[0m\n",
            "\u001b[32m[I 2023-04-03 12:54:18,152]\u001b[0m Trial 5 finished with value: 0.8865164186956315 and parameters: {'max_depth': 5, 'max_features': 2}. Best is trial 1 with value: 0.9025009367640422.\u001b[0m\n",
            "\u001b[32m[I 2023-04-03 12:54:22,194]\u001b[0m Trial 6 finished with value: 0.8955998556495418 and parameters: {'max_depth': 7, 'max_features': 3}. Best is trial 1 with value: 0.9025009367640422.\u001b[0m\n",
            "\u001b[32m[I 2023-04-03 12:54:26,390]\u001b[0m Trial 7 finished with value: 0.8962486692199629 and parameters: {'max_depth': 6, 'max_features': 4}. Best is trial 1 with value: 0.9025009367640422.\u001b[0m\n",
            "\u001b[32m[I 2023-04-03 12:54:31,312]\u001b[0m Trial 8 finished with value: 0.8908517127401251 and parameters: {'max_depth': 5, 'max_features': 3}. Best is trial 1 with value: 0.9025009367640422.\u001b[0m\n",
            "\u001b[32m[I 2023-04-03 12:54:33,660]\u001b[0m Trial 9 finished with value: 0.8838032329432165 and parameters: {'max_depth': 2, 'max_features': 4}. Best is trial 1 with value: 0.9025009367640422.\u001b[0m\n",
            "\u001b[32m[I 2023-04-03 12:54:40,119]\u001b[0m Trial 10 finished with value: 0.904594864875078 and parameters: {'max_depth': 7, 'max_features': 7}. Best is trial 10 with value: 0.904594864875078.\u001b[0m\n",
            "\u001b[32m[I 2023-04-03 12:54:48,183]\u001b[0m Trial 11 finished with value: 0.904594864875078 and parameters: {'max_depth': 7, 'max_features': 7}. Best is trial 10 with value: 0.904594864875078.\u001b[0m\n",
            "\u001b[32m[I 2023-04-03 12:54:55,577]\u001b[0m Trial 12 finished with value: 0.904594864875078 and parameters: {'max_depth': 7, 'max_features': 7}. Best is trial 10 with value: 0.904594864875078.\u001b[0m\n",
            "\u001b[32m[I 2023-04-03 12:55:02,027]\u001b[0m Trial 13 finished with value: 0.9032382537335307 and parameters: {'max_depth': 7, 'max_features': 6}. Best is trial 10 with value: 0.904594864875078.\u001b[0m\n",
            "\u001b[32m[I 2023-04-03 12:55:07,425]\u001b[0m Trial 14 finished with value: 0.9018815799679615 and parameters: {'max_depth': 6, 'max_features': 6}. Best is trial 10 with value: 0.904594864875078.\u001b[0m\n",
            "\u001b[32m[I 2023-04-03 12:55:12,835]\u001b[0m Trial 15 finished with value: 0.8911466196969803 and parameters: {'max_depth': 4, 'max_features': 6}. Best is trial 10 with value: 0.904594864875078.\u001b[0m\n",
            "\u001b[32m[I 2023-04-03 12:55:19,258]\u001b[0m Trial 16 finished with value: 0.904594864875078 and parameters: {'max_depth': 7, 'max_features': 7}. Best is trial 10 with value: 0.904594864875078.\u001b[0m\n",
            "\u001b[32m[I 2023-04-03 12:55:25,626]\u001b[0m Trial 17 finished with value: 0.8988439443763209 and parameters: {'max_depth': 6, 'max_features': 5}. Best is trial 10 with value: 0.904594864875078.\u001b[0m\n",
            "\u001b[32m[I 2023-04-03 12:55:28,978]\u001b[0m Trial 18 finished with value: 0.8862215404414532 and parameters: {'max_depth': 3, 'max_features': 5}. Best is trial 10 with value: 0.904594864875078.\u001b[0m\n",
            "\u001b[32m[I 2023-04-03 12:55:35,776]\u001b[0m Trial 19 finished with value: 0.9032382537335307 and parameters: {'max_depth': 7, 'max_features': 6}. Best is trial 10 with value: 0.904594864875078.\u001b[0m\n",
            "\u001b[32m[I 2023-04-03 12:55:42,968]\u001b[0m Trial 20 finished with value: 0.9025009367640422 and parameters: {'max_depth': 6, 'max_features': 7}. Best is trial 10 with value: 0.904594864875078.\u001b[0m\n",
            "\u001b[32m[I 2023-04-03 12:55:51,294]\u001b[0m Trial 21 finished with value: 0.904594864875078 and parameters: {'max_depth': 7, 'max_features': 7}. Best is trial 10 with value: 0.904594864875078.\u001b[0m\n",
            "\u001b[32m[I 2023-04-03 12:55:57,784]\u001b[0m Trial 22 finished with value: 0.904594864875078 and parameters: {'max_depth': 7, 'max_features': 7}. Best is trial 10 with value: 0.904594864875078.\u001b[0m\n",
            "\u001b[32m[I 2023-04-03 12:56:04,857]\u001b[0m Trial 23 finished with value: 0.9018815799679615 and parameters: {'max_depth': 6, 'max_features': 6}. Best is trial 10 with value: 0.904594864875078.\u001b[0m\n",
            "\u001b[32m[I 2023-04-03 12:56:11,908]\u001b[0m Trial 24 finished with value: 0.904594864875078 and parameters: {'max_depth': 7, 'max_features': 7}. Best is trial 10 with value: 0.904594864875078.\u001b[0m\n",
            "\u001b[32m[I 2023-04-03 12:56:18,631]\u001b[0m Trial 25 finished with value: 0.8988439443763209 and parameters: {'max_depth': 6, 'max_features': 5}. Best is trial 10 with value: 0.904594864875078.\u001b[0m\n",
            "\u001b[32m[I 2023-04-03 12:56:24,439]\u001b[0m Trial 26 finished with value: 0.9032382537335307 and parameters: {'max_depth': 7, 'max_features': 6}. Best is trial 10 with value: 0.904594864875078.\u001b[0m\n",
            "\u001b[32m[I 2023-04-03 12:56:30,965]\u001b[0m Trial 27 finished with value: 0.9003775205666552 and parameters: {'max_depth': 5, 'max_features': 7}. Best is trial 10 with value: 0.904594864875078.\u001b[0m\n",
            "\u001b[32m[I 2023-04-03 12:56:34,534]\u001b[0m Trial 28 finished with value: 0.8874306772298989 and parameters: {'max_depth': 3, 'max_features': 6}. Best is trial 10 with value: 0.904594864875078.\u001b[0m\n",
            "\u001b[32m[I 2023-04-03 12:56:40,944]\u001b[0m Trial 29 finished with value: 0.904594864875078 and parameters: {'max_depth': 7, 'max_features': 7}. Best is trial 10 with value: 0.904594864875078.\u001b[0m\n",
            "\u001b[32m[I 2023-04-03 12:56:47,229]\u001b[0m Trial 30 finished with value: 0.8988439443763209 and parameters: {'max_depth': 6, 'max_features': 5}. Best is trial 10 with value: 0.904594864875078.\u001b[0m\n",
            "\u001b[32m[I 2023-04-03 12:56:53,548]\u001b[0m Trial 31 finished with value: 0.904594864875078 and parameters: {'max_depth': 7, 'max_features': 7}. Best is trial 10 with value: 0.904594864875078.\u001b[0m\n",
            "\u001b[32m[I 2023-04-03 12:57:01,594]\u001b[0m Trial 32 finished with value: 0.904594864875078 and parameters: {'max_depth': 7, 'max_features': 7}. Best is trial 10 with value: 0.904594864875078.\u001b[0m\n",
            "\u001b[32m[I 2023-04-03 12:57:07,313]\u001b[0m Trial 33 finished with value: 0.9025009367640422 and parameters: {'max_depth': 6, 'max_features': 7}. Best is trial 10 with value: 0.904594864875078.\u001b[0m\n",
            "\u001b[32m[I 2023-04-03 12:57:15,263]\u001b[0m Trial 34 finished with value: 0.904594864875078 and parameters: {'max_depth': 7, 'max_features': 7}. Best is trial 10 with value: 0.904594864875078.\u001b[0m\n",
            "\u001b[32m[I 2023-04-03 12:57:20,362]\u001b[0m Trial 35 finished with value: 0.9018815799679615 and parameters: {'max_depth': 6, 'max_features': 6}. Best is trial 10 with value: 0.904594864875078.\u001b[0m\n",
            "\u001b[32m[I 2023-04-03 12:57:28,413]\u001b[0m Trial 36 finished with value: 0.904594864875078 and parameters: {'max_depth': 7, 'max_features': 7}. Best is trial 10 with value: 0.904594864875078.\u001b[0m\n",
            "\u001b[32m[I 2023-04-03 12:57:33,025]\u001b[0m Trial 37 finished with value: 0.8988734455093433 and parameters: {'max_depth': 5, 'max_features': 6}. Best is trial 10 with value: 0.904594864875078.\u001b[0m\n",
            "\u001b[32m[I 2023-04-03 12:57:41,026]\u001b[0m Trial 38 finished with value: 0.904594864875078 and parameters: {'max_depth': 7, 'max_features': 7}. Best is trial 10 with value: 0.904594864875078.\u001b[0m\n",
            "\u001b[32m[I 2023-04-03 12:57:48,377]\u001b[0m Trial 39 finished with value: 0.9025009367640422 and parameters: {'max_depth': 6, 'max_features': 7}. Best is trial 10 with value: 0.904594864875078.\u001b[0m\n",
            "\u001b[32m[I 2023-04-03 12:57:53,933]\u001b[0m Trial 40 finished with value: 0.8911466196969803 and parameters: {'max_depth': 4, 'max_features': 6}. Best is trial 10 with value: 0.904594864875078.\u001b[0m\n",
            "\u001b[32m[I 2023-04-03 12:58:00,336]\u001b[0m Trial 41 finished with value: 0.904594864875078 and parameters: {'max_depth': 7, 'max_features': 7}. Best is trial 10 with value: 0.904594864875078.\u001b[0m\n",
            "\u001b[32m[I 2023-04-03 12:58:08,313]\u001b[0m Trial 42 finished with value: 0.904594864875078 and parameters: {'max_depth': 7, 'max_features': 7}. Best is trial 10 with value: 0.904594864875078.\u001b[0m\n",
            "\u001b[32m[I 2023-04-03 12:58:14,709]\u001b[0m Trial 43 finished with value: 0.904594864875078 and parameters: {'max_depth': 7, 'max_features': 7}. Best is trial 10 with value: 0.904594864875078.\u001b[0m\n",
            "\u001b[32m[I 2023-04-03 12:58:22,684]\u001b[0m Trial 44 finished with value: 0.904594864875078 and parameters: {'max_depth': 7, 'max_features': 7}. Best is trial 10 with value: 0.904594864875078.\u001b[0m\n",
            "\u001b[32m[I 2023-04-03 12:58:26,062]\u001b[0m Trial 45 finished with value: 0.892326346679102 and parameters: {'max_depth': 7, 'max_features': 2}. Best is trial 10 with value: 0.904594864875078.\u001b[0m\n",
            "\u001b[32m[I 2023-04-03 12:58:29,704]\u001b[0m Trial 46 finished with value: 0.8939778360748277 and parameters: {'max_depth': 6, 'max_features': 3}. Best is trial 10 with value: 0.904594864875078.\u001b[0m\n",
            "\u001b[32m[I 2023-04-03 12:58:35,897]\u001b[0m Trial 47 finished with value: 0.8988734455093433 and parameters: {'max_depth': 5, 'max_features': 6}. Best is trial 10 with value: 0.904594864875078.\u001b[0m\n",
            "\u001b[32m[I 2023-04-03 12:58:40,066]\u001b[0m Trial 48 finished with value: 0.8962486692199629 and parameters: {'max_depth': 6, 'max_features': 4}. Best is trial 10 with value: 0.904594864875078.\u001b[0m\n",
            "\u001b[32m[I 2023-04-03 12:58:47,468]\u001b[0m Trial 49 finished with value: 0.9032382537335307 and parameters: {'max_depth': 7, 'max_features': 6}. Best is trial 10 with value: 0.904594864875078.\u001b[0m\n",
            "\u001b[32m[I 2023-04-03 12:58:47,470]\u001b[0m A new study created in memory with name: no-name-8b48c3a7-dd84-4156-887e-9717dc7d08ca\u001b[0m\n",
            "\u001b[32m[I 2023-04-03 12:58:51,988]\u001b[0m Trial 0 finished with value: 0.9056859632100883 and parameters: {'max_depth': 5, 'colsample_bytree': 0.7107070254587652}. Best is trial 0 with value: 0.9056859632100883.\u001b[0m\n",
            "\u001b[32m[I 2023-04-03 12:59:01,687]\u001b[0m Trial 1 finished with value: 0.903238214593517 and parameters: {'max_depth': 7, 'colsample_bytree': 0.9283431269325183}. Best is trial 0 with value: 0.9056859632100883.\u001b[0m\n",
            "\u001b[32m[I 2023-04-03 12:59:08,379]\u001b[0m Trial 2 finished with value: 0.9057155608884782 and parameters: {'max_depth': 6, 'colsample_bytree': 0.9469038237804045}. Best is trial 2 with value: 0.9057155608884782.\u001b[0m\n",
            "\u001b[32m[I 2023-04-03 12:59:15,761]\u001b[0m Trial 3 finished with value: 0.905509047738652 and parameters: {'max_depth': 6, 'colsample_bytree': 0.6633842201310433}. Best is trial 2 with value: 0.9057155608884782.\u001b[0m\n",
            "\u001b[32m[I 2023-04-03 12:59:18,009]\u001b[0m Trial 4 finished with value: 0.9068361577471767 and parameters: {'max_depth': 4, 'colsample_bytree': 0.2548180185994565}. Best is trial 4 with value: 0.9068361577471767.\u001b[0m\n",
            "\u001b[32m[I 2023-04-03 12:59:20,662]\u001b[0m Trial 5 finished with value: 0.9069836921149661 and parameters: {'max_depth': 3, 'colsample_bytree': 0.6692889554454913}. Best is trial 5 with value: 0.9069836921149661.\u001b[0m\n",
            "\u001b[32m[I 2023-04-03 12:59:22,136]\u001b[0m Trial 6 finished with value: 0.9047128172204831 and parameters: {'max_depth': 2, 'colsample_bytree': 0.36758083981434897}. Best is trial 5 with value: 0.9069836921149661.\u001b[0m\n",
            "\u001b[32m[I 2023-04-03 12:59:28,574]\u001b[0m Trial 7 finished with value: 0.9058630143669056 and parameters: {'max_depth': 5, 'colsample_bytree': 0.6809561280436102}. Best is trial 5 with value: 0.9069836921149661.\u001b[0m\n",
            "\u001b[32m[I 2023-04-03 12:59:34,748]\u001b[0m Trial 8 finished with value: 0.9048602759175791 and parameters: {'max_depth': 6, 'colsample_bytree': 0.8635486325834563}. Best is trial 5 with value: 0.9069836921149661.\u001b[0m\n",
            "\u001b[32m[I 2023-04-03 12:59:39,946]\u001b[0m Trial 9 finished with value: 0.906865677145539 and parameters: {'max_depth': 4, 'colsample_bytree': 0.537348742884052}. Best is trial 5 with value: 0.9069836921149661.\u001b[0m\n",
            "\u001b[32m[I 2023-04-03 12:59:41,052]\u001b[0m Trial 10 finished with value: 0.9007609048292352 and parameters: {'max_depth': 2, 'colsample_bytree': 0.1056935325152083}. Best is trial 5 with value: 0.9069836921149661.\u001b[0m\n",
            "\u001b[32m[I 2023-04-03 12:59:43,319]\u001b[0m Trial 11 finished with value: 0.9056565299197564 and parameters: {'max_depth': 3, 'colsample_bytree': 0.49303270951949113}. Best is trial 5 with value: 0.9069836921149661.\u001b[0m\n",
            "\u001b[32m[I 2023-04-03 12:59:46,415]\u001b[0m Trial 12 finished with value: 0.906865677145539 and parameters: {'max_depth': 4, 'colsample_bytree': 0.5033181826515165}. Best is trial 5 with value: 0.9069836921149661.\u001b[0m\n",
            "\u001b[32m[I 2023-04-03 12:59:51,099]\u001b[0m Trial 13 finished with value: 0.9055680578326998 and parameters: {'max_depth': 3, 'colsample_bytree': 0.5789791298189879}. Best is trial 5 with value: 0.9069836921149661.\u001b[0m\n",
            "\u001b[32m[I 2023-04-03 12:59:54,057]\u001b[0m Trial 14 finished with value: 0.9070131462799721 and parameters: {'max_depth': 3, 'colsample_bytree': 0.7925761763479856}. Best is trial 14 with value: 0.9070131462799721.\u001b[0m\n",
            "\u001b[32m[I 2023-04-03 12:59:56,982]\u001b[0m Trial 15 finished with value: 0.9070131462799721 and parameters: {'max_depth': 3, 'colsample_bytree': 0.7829321101208394}. Best is trial 14 with value: 0.9070131462799721.\u001b[0m\n",
            "\u001b[32m[I 2023-04-03 12:59:59,201]\u001b[0m Trial 16 finished with value: 0.905804014710195 and parameters: {'max_depth': 2, 'colsample_bytree': 0.8453775073655845}. Best is trial 14 with value: 0.9070131462799721.\u001b[0m\n",
            "\u001b[32m[I 2023-04-03 13:00:04,370]\u001b[0m Trial 17 finished with value: 0.9070131462799721 and parameters: {'max_depth': 3, 'colsample_bytree': 0.7935652305406228}. Best is trial 14 with value: 0.9070131462799721.\u001b[0m\n",
            "\u001b[32m[I 2023-04-03 13:00:07,748]\u001b[0m Trial 18 finished with value: 0.9072490953294644 and parameters: {'max_depth': 3, 'colsample_bytree': 0.9814147955544449}. Best is trial 18 with value: 0.9072490953294644.\u001b[0m\n",
            "\u001b[32m[I 2023-04-03 13:00:10,142]\u001b[0m Trial 19 finished with value: 0.9052731691411845 and parameters: {'max_depth': 2, 'colsample_bytree': 0.9625020413597754}. Best is trial 18 with value: 0.9072490953294644.\u001b[0m\n",
            "\u001b[32m[I 2023-04-03 13:00:16,750]\u001b[0m Trial 20 finished with value: 0.9074260525502488 and parameters: {'max_depth': 4, 'colsample_bytree': 0.9963909644072216}. Best is trial 20 with value: 0.9074260525502488.\u001b[0m\n",
            "\u001b[32m[I 2023-04-03 13:00:21,132]\u001b[0m Trial 21 finished with value: 0.9074260525502488 and parameters: {'max_depth': 4, 'colsample_bytree': 0.9948560346368933}. Best is trial 20 with value: 0.9074260525502488.\u001b[0m\n",
            "\u001b[32m[I 2023-04-03 13:00:26,097]\u001b[0m Trial 22 finished with value: 0.9074260525502488 and parameters: {'max_depth': 4, 'colsample_bytree': 0.9957766660755074}. Best is trial 20 with value: 0.9074260525502488.\u001b[0m\n",
            "\u001b[32m[I 2023-04-03 13:00:33,145]\u001b[0m Trial 23 finished with value: 0.9055090947066685 and parameters: {'max_depth': 5, 'colsample_bytree': 0.8910828154020909}. Best is trial 20 with value: 0.9074260525502488.\u001b[0m\n",
            "\u001b[32m[I 2023-04-03 13:00:37,630]\u001b[0m Trial 24 finished with value: 0.9074260525502488 and parameters: {'max_depth': 4, 'colsample_bytree': 0.9810461733919887}. Best is trial 20 with value: 0.9074260525502488.\u001b[0m\n",
            "\u001b[32m[I 2023-04-03 13:00:44,050]\u001b[0m Trial 25 finished with value: 0.9066297698453947 and parameters: {'max_depth': 4, 'colsample_bytree': 0.8955200660554719}. Best is trial 20 with value: 0.9074260525502488.\u001b[0m\n",
            "\u001b[32m[I 2023-04-03 13:00:49,732]\u001b[0m Trial 26 finished with value: 0.906039908963668 and parameters: {'max_depth': 5, 'colsample_bytree': 0.9918015061223696}. Best is trial 20 with value: 0.9074260525502488.\u001b[0m\n",
            "\u001b[32m[I 2023-04-03 13:00:56,190]\u001b[0m Trial 27 finished with value: 0.9066297698453947 and parameters: {'max_depth': 4, 'colsample_bytree': 0.8947784469060326}. Best is trial 20 with value: 0.9074260525502488.\u001b[0m\n",
            "\u001b[32m[I 2023-04-03 13:01:01,227]\u001b[0m Trial 28 finished with value: 0.9040050066026856 and parameters: {'max_depth': 5, 'colsample_bytree': 0.838364298691429}. Best is trial 20 with value: 0.9074260525502488.\u001b[0m\n",
            "\u001b[32m[I 2023-04-03 13:01:07,872]\u001b[0m Trial 29 finished with value: 0.9074260525502488 and parameters: {'max_depth': 4, 'colsample_bytree': 0.9894457499758419}. Best is trial 20 with value: 0.9074260525502488.\u001b[0m\n",
            "\u001b[32m[I 2023-04-03 13:01:12,743]\u001b[0m Trial 30 finished with value: 0.9060693840033481 and parameters: {'max_depth': 5, 'colsample_bytree': 0.7532499143701502}. Best is trial 20 with value: 0.9074260525502488.\u001b[0m\n",
            "\u001b[32m[I 2023-04-03 13:01:19,161]\u001b[0m Trial 31 finished with value: 0.9066297698453947 and parameters: {'max_depth': 4, 'colsample_bytree': 0.9325173589418794}. Best is trial 20 with value: 0.9074260525502488.\u001b[0m\n",
            "\u001b[32m[I 2023-04-03 13:01:23,826]\u001b[0m Trial 32 finished with value: 0.9074260525502488 and parameters: {'max_depth': 4, 'colsample_bytree': 0.9989691404751302}. Best is trial 20 with value: 0.9074260525502488.\u001b[0m\n",
            "\u001b[32m[I 2023-04-03 13:01:28,127]\u001b[0m Trial 33 finished with value: 0.9066297698453947 and parameters: {'max_depth': 4, 'colsample_bytree': 0.9237542710988627}. Best is trial 20 with value: 0.9074260525502488.\u001b[0m\n",
            "\u001b[32m[I 2023-04-03 13:01:37,087]\u001b[0m Trial 34 finished with value: 0.9057155608884782 and parameters: {'max_depth': 6, 'colsample_bytree': 0.94050190895544}. Best is trial 20 with value: 0.9074260525502488.\u001b[0m\n",
            "\u001b[32m[I 2023-04-03 13:01:44,501]\u001b[0m Trial 35 finished with value: 0.9055090947066685 and parameters: {'max_depth': 5, 'colsample_bytree': 0.9205962783587647}. Best is trial 20 with value: 0.9074260525502488.\u001b[0m\n",
            "\u001b[32m[I 2023-04-03 13:01:51,909]\u001b[0m Trial 36 finished with value: 0.903415179642304 and parameters: {'max_depth': 7, 'colsample_bytree': 0.828173714099162}. Best is trial 20 with value: 0.9074260525502488.\u001b[0m\n",
            "\u001b[32m[I 2023-04-03 13:01:58,392]\u001b[0m Trial 37 finished with value: 0.9074260525502488 and parameters: {'max_depth': 4, 'colsample_bytree': 0.9999548531149991}. Best is trial 20 with value: 0.9074260525502488.\u001b[0m\n",
            "\u001b[32m[I 2023-04-03 13:02:04,798]\u001b[0m Trial 38 finished with value: 0.9040050353053622 and parameters: {'max_depth': 6, 'colsample_bytree': 0.8760642554592748}. Best is trial 20 with value: 0.9074260525502488.\u001b[0m\n",
            "\u001b[32m[I 2023-04-03 13:02:11,386]\u001b[0m Trial 39 finished with value: 0.9074260525502488 and parameters: {'max_depth': 4, 'colsample_bytree': 0.9424245378318423}. Best is trial 20 with value: 0.9074260525502488.\u001b[0m\n",
            "\u001b[32m[I 2023-04-03 13:02:14,523]\u001b[0m Trial 40 finished with value: 0.907160644117082 and parameters: {'max_depth': 3, 'colsample_bytree': 0.8730006594845604}. Best is trial 20 with value: 0.9074260525502488.\u001b[0m\n",
            "\u001b[32m[I 2023-04-03 13:02:18,952]\u001b[0m Trial 41 finished with value: 0.9074260525502488 and parameters: {'max_depth': 4, 'colsample_bytree': 0.9603354727839959}. Best is trial 20 with value: 0.9074260525502488.\u001b[0m\n",
            "\u001b[32m[I 2023-04-03 13:02:25,418]\u001b[0m Trial 42 finished with value: 0.9074260525502488 and parameters: {'max_depth': 4, 'colsample_bytree': 0.9972973048622766}. Best is trial 20 with value: 0.9074260525502488.\u001b[0m\n",
            "\u001b[32m[I 2023-04-03 13:02:30,980]\u001b[0m Trial 43 finished with value: 0.906039908963668 and parameters: {'max_depth': 5, 'colsample_bytree': 0.9416998103625766}. Best is trial 20 with value: 0.9074260525502488.\u001b[0m\n",
            "\u001b[32m[I 2023-04-03 13:02:37,336]\u001b[0m Trial 44 finished with value: 0.9066297698453947 and parameters: {'max_depth': 4, 'colsample_bytree': 0.905307189225034}. Best is trial 20 with value: 0.9074260525502488.\u001b[0m\n",
            "\u001b[32m[I 2023-04-03 13:02:42,975]\u001b[0m Trial 45 finished with value: 0.906039908963668 and parameters: {'max_depth': 5, 'colsample_bytree': 0.9563458382482933}. Best is trial 20 with value: 0.9074260525502488.\u001b[0m\n",
            "\u001b[32m[I 2023-04-03 13:02:48,010]\u001b[0m Trial 46 finished with value: 0.906865718894887 and parameters: {'max_depth': 3, 'colsample_bytree': 0.7060282405169389}. Best is trial 20 with value: 0.9074260525502488.\u001b[0m\n",
            "\u001b[32m[I 2023-04-03 13:02:52,028]\u001b[0m Trial 47 finished with value: 0.9070426239289864 and parameters: {'max_depth': 4, 'colsample_bytree': 0.8496930331699373}. Best is trial 20 with value: 0.9074260525502488.\u001b[0m\n",
            "\u001b[32m[I 2023-04-03 13:02:56,395]\u001b[0m Trial 48 finished with value: 0.9074260525502488 and parameters: {'max_depth': 4, 'colsample_bytree': 0.9664597841507078}. Best is trial 20 with value: 0.9074260525502488.\u001b[0m\n",
            "\u001b[32m[I 2023-04-03 13:03:01,761]\u001b[0m Trial 49 finished with value: 0.9074555562926055 and parameters: {'max_depth': 3, 'colsample_bytree': 0.9144834355853232}. Best is trial 49 with value: 0.9074555562926055.\u001b[0m\n",
            "\u001b[32m[I 2023-04-03 13:03:01,767]\u001b[0m A new study created in memory with name: no-name-7fb71b01-7efa-435e-9a9a-412986b5c95e\u001b[0m\n"
          ]
        },
        {
          "output_type": "stream",
          "name": "stdout",
          "text": [
            "[LightGBM] [Warning] feature_fraction is set=0.29137632772368366, colsample_bytree=1.0 will be ignored. Current value: feature_fraction=0.29137632772368366\n",
            "[LightGBM] [Warning] feature_fraction is set=0.29137632772368366, colsample_bytree=1.0 will be ignored. Current value: feature_fraction=0.29137632772368366\n",
            "[LightGBM] [Warning] feature_fraction is set=0.29137632772368366, colsample_bytree=1.0 will be ignored. Current value: feature_fraction=0.29137632772368366\n"
          ]
        },
        {
          "output_type": "stream",
          "name": "stderr",
          "text": [
            "\u001b[32m[I 2023-04-03 13:03:02,796]\u001b[0m Trial 0 finished with value: 0.9053615838228876 and parameters: {'max_depth': 4, 'feature_fraction': 0.29137632772368366}. Best is trial 0 with value: 0.9053615838228876.\u001b[0m\n"
          ]
        },
        {
          "output_type": "stream",
          "name": "stdout",
          "text": [
            "[LightGBM] [Warning] feature_fraction is set=0.4940576230085143, colsample_bytree=1.0 will be ignored. Current value: feature_fraction=0.4940576230085143\n",
            "[LightGBM] [Warning] feature_fraction is set=0.4940576230085143, colsample_bytree=1.0 will be ignored. Current value: feature_fraction=0.4940576230085143\n",
            "[LightGBM] [Warning] feature_fraction is set=0.4940576230085143, colsample_bytree=1.0 will be ignored. Current value: feature_fraction=0.4940576230085143\n"
          ]
        },
        {
          "output_type": "stream",
          "name": "stderr",
          "text": [
            "\u001b[32m[I 2023-04-03 13:03:04,048]\u001b[0m Trial 1 finished with value: 0.9065118018439842 and parameters: {'max_depth': 5, 'feature_fraction': 0.4940576230085143}. Best is trial 1 with value: 0.9065118018439842.\u001b[0m\n"
          ]
        },
        {
          "output_type": "stream",
          "name": "stdout",
          "text": [
            "[LightGBM] [Warning] feature_fraction is set=0.2838911053288573, colsample_bytree=1.0 will be ignored. Current value: feature_fraction=0.2838911053288573\n",
            "[LightGBM] [Warning] feature_fraction is set=0.2838911053288573, colsample_bytree=1.0 will be ignored. Current value: feature_fraction=0.2838911053288573\n",
            "[LightGBM] [Warning] feature_fraction is set=0.2838911053288573, colsample_bytree=1.0 will be ignored. Current value: feature_fraction=0.2838911053288573\n"
          ]
        },
        {
          "output_type": "stream",
          "name": "stderr",
          "text": [
            "\u001b[32m[I 2023-04-03 13:03:05,085]\u001b[0m Trial 2 finished with value: 0.9053615838228876 and parameters: {'max_depth': 4, 'feature_fraction': 0.2838911053288573}. Best is trial 1 with value: 0.9065118018439842.\u001b[0m\n"
          ]
        },
        {
          "output_type": "stream",
          "name": "stdout",
          "text": [
            "[LightGBM] [Warning] feature_fraction is set=0.9872181935197862, colsample_bytree=1.0 will be ignored. Current value: feature_fraction=0.9872181935197862\n",
            "[LightGBM] [Warning] feature_fraction is set=0.9872181935197862, colsample_bytree=1.0 will be ignored. Current value: feature_fraction=0.9872181935197862\n",
            "[LightGBM] [Warning] feature_fraction is set=0.9872181935197862, colsample_bytree=1.0 will be ignored. Current value: feature_fraction=0.9872181935197862\n"
          ]
        },
        {
          "output_type": "stream",
          "name": "stderr",
          "text": [
            "\u001b[32m[I 2023-04-03 13:03:06,064]\u001b[0m Trial 3 finished with value: 0.9058040251475319 and parameters: {'max_depth': 4, 'feature_fraction': 0.9872181935197862}. Best is trial 1 with value: 0.9065118018439842.\u001b[0m\n"
          ]
        },
        {
          "output_type": "stream",
          "name": "stdout",
          "text": [
            "[LightGBM] [Warning] feature_fraction is set=0.6695852121092692, colsample_bytree=1.0 will be ignored. Current value: feature_fraction=0.6695852121092692\n",
            "[LightGBM] [Warning] feature_fraction is set=0.6695852121092692, colsample_bytree=1.0 will be ignored. Current value: feature_fraction=0.6695852121092692\n",
            "[LightGBM] [Warning] feature_fraction is set=0.6695852121092692, colsample_bytree=1.0 will be ignored. Current value: feature_fraction=0.6695852121092692\n"
          ]
        },
        {
          "output_type": "stream",
          "name": "stderr",
          "text": [
            "\u001b[32m[I 2023-04-03 13:03:06,883]\u001b[0m Trial 4 finished with value: 0.9046833108687921 and parameters: {'max_depth': 3, 'feature_fraction': 0.6695852121092692}. Best is trial 1 with value: 0.9065118018439842.\u001b[0m\n"
          ]
        },
        {
          "output_type": "stream",
          "name": "stdout",
          "text": [
            "[LightGBM] [Warning] feature_fraction is set=0.9106119982736761, colsample_bytree=1.0 will be ignored. Current value: feature_fraction=0.9106119982736761\n",
            "[LightGBM] [Warning] feature_fraction is set=0.9106119982736761, colsample_bytree=1.0 will be ignored. Current value: feature_fraction=0.9106119982736761\n",
            "[LightGBM] [Warning] feature_fraction is set=0.9106119982736761, colsample_bytree=1.0 will be ignored. Current value: feature_fraction=0.9106119982736761\n"
          ]
        },
        {
          "output_type": "stream",
          "name": "stderr",
          "text": [
            "\u001b[32m[I 2023-04-03 13:03:07,707]\u001b[0m Trial 5 finished with value: 0.904152480955787 and parameters: {'max_depth': 3, 'feature_fraction': 0.9106119982736761}. Best is trial 1 with value: 0.9065118018439842.\u001b[0m\n"
          ]
        },
        {
          "output_type": "stream",
          "name": "stdout",
          "text": [
            "[LightGBM] [Warning] feature_fraction is set=0.12118670609283841, colsample_bytree=1.0 will be ignored. Current value: feature_fraction=0.12118670609283841\n",
            "[LightGBM] [Warning] feature_fraction is set=0.12118670609283841, colsample_bytree=1.0 will be ignored. Current value: feature_fraction=0.12118670609283841\n",
            "[LightGBM] [Warning] feature_fraction is set=0.12118670609283841, colsample_bytree=1.0 will be ignored. Current value: feature_fraction=0.12118670609283841\n"
          ]
        },
        {
          "output_type": "stream",
          "name": "stderr",
          "text": [
            "\u001b[32m[I 2023-04-03 13:03:08,769]\u001b[0m Trial 6 finished with value: 0.9022354709255218 and parameters: {'max_depth': 6, 'feature_fraction': 0.12118670609283841}. Best is trial 1 with value: 0.9065118018439842.\u001b[0m\n"
          ]
        },
        {
          "output_type": "stream",
          "name": "stdout",
          "text": [
            "[LightGBM] [Warning] feature_fraction is set=0.18769241722745283, colsample_bytree=1.0 will be ignored. Current value: feature_fraction=0.18769241722745283\n",
            "[LightGBM] [Warning] feature_fraction is set=0.18769241722745283, colsample_bytree=1.0 will be ignored. Current value: feature_fraction=0.18769241722745283\n",
            "[LightGBM] [Warning] feature_fraction is set=0.18769241722745283, colsample_bytree=1.0 will be ignored. Current value: feature_fraction=0.18769241722745283\n"
          ]
        },
        {
          "output_type": "stream",
          "name": "stderr",
          "text": [
            "\u001b[32m[I 2023-04-03 13:03:09,831]\u001b[0m Trial 7 finished with value: 0.9040049518066663 and parameters: {'max_depth': 5, 'feature_fraction': 0.18769241722745283}. Best is trial 1 with value: 0.9065118018439842.\u001b[0m\n"
          ]
        },
        {
          "output_type": "stream",
          "name": "stdout",
          "text": [
            "[LightGBM] [Warning] feature_fraction is set=0.18195771561128768, colsample_bytree=1.0 will be ignored. Current value: feature_fraction=0.18195771561128768\n",
            "[LightGBM] [Warning] feature_fraction is set=0.18195771561128768, colsample_bytree=1.0 will be ignored. Current value: feature_fraction=0.18195771561128768\n",
            "[LightGBM] [Warning] feature_fraction is set=0.18195771561128768, colsample_bytree=1.0 will be ignored. Current value: feature_fraction=0.18195771561128768\n"
          ]
        },
        {
          "output_type": "stream",
          "name": "stderr",
          "text": [
            "\u001b[32m[I 2023-04-03 13:03:13,196]\u001b[0m Trial 8 finished with value: 0.9038575244215812 and parameters: {'max_depth': 6, 'feature_fraction': 0.18195771561128768}. Best is trial 1 with value: 0.9065118018439842.\u001b[0m\n"
          ]
        },
        {
          "output_type": "stream",
          "name": "stdout",
          "text": [
            "[LightGBM] [Warning] feature_fraction is set=0.7412801599105854, colsample_bytree=1.0 will be ignored. Current value: feature_fraction=0.7412801599105854\n",
            "[LightGBM] [Warning] feature_fraction is set=0.7412801599105854, colsample_bytree=1.0 will be ignored. Current value: feature_fraction=0.7412801599105854\n",
            "[LightGBM] [Warning] feature_fraction is set=0.7412801599105854, colsample_bytree=1.0 will be ignored. Current value: feature_fraction=0.7412801599105854\n"
          ]
        },
        {
          "output_type": "stream",
          "name": "stderr",
          "text": [
            "\u001b[32m[I 2023-04-03 13:03:13,899]\u001b[0m Trial 9 finished with value: 0.9016751581448341 and parameters: {'max_depth': 2, 'feature_fraction': 0.7412801599105854}. Best is trial 1 with value: 0.9065118018439842.\u001b[0m\n"
          ]
        },
        {
          "output_type": "stream",
          "name": "stdout",
          "text": [
            "[LightGBM] [Warning] feature_fraction is set=0.47010887878673097, colsample_bytree=1.0 will be ignored. Current value: feature_fraction=0.47010887878673097\n",
            "[LightGBM] [Warning] feature_fraction is set=0.47010887878673097, colsample_bytree=1.0 will be ignored. Current value: feature_fraction=0.47010887878673097\n",
            "[LightGBM] [Warning] feature_fraction is set=0.47010887878673097, colsample_bytree=1.0 will be ignored. Current value: feature_fraction=0.47010887878673097\n"
          ]
        },
        {
          "output_type": "stream",
          "name": "stderr",
          "text": [
            "\u001b[32m[I 2023-04-03 13:03:15,260]\u001b[0m Trial 10 finished with value: 0.9071900826260825 and parameters: {'max_depth': 7, 'feature_fraction': 0.47010887878673097}. Best is trial 10 with value: 0.9071900826260825.\u001b[0m\n"
          ]
        },
        {
          "output_type": "stream",
          "name": "stdout",
          "text": [
            "[LightGBM] [Warning] feature_fraction is set=0.4456462754182513, colsample_bytree=1.0 will be ignored. Current value: feature_fraction=0.4456462754182513\n",
            "[LightGBM] [Warning] feature_fraction is set=0.4456462754182513, colsample_bytree=1.0 will be ignored. Current value: feature_fraction=0.4456462754182513\n",
            "[LightGBM] [Warning] feature_fraction is set=0.4456462754182513, colsample_bytree=1.0 will be ignored. Current value: feature_fraction=0.4456462754182513\n"
          ]
        },
        {
          "output_type": "stream",
          "name": "stderr",
          "text": [
            "\u001b[32m[I 2023-04-03 13:03:16,572]\u001b[0m Trial 11 finished with value: 0.907543944880966 and parameters: {'max_depth': 7, 'feature_fraction': 0.4456462754182513}. Best is trial 11 with value: 0.907543944880966.\u001b[0m\n"
          ]
        },
        {
          "output_type": "stream",
          "name": "stdout",
          "text": [
            "[LightGBM] [Warning] feature_fraction is set=0.4971374658158872, colsample_bytree=1.0 will be ignored. Current value: feature_fraction=0.4971374658158872\n",
            "[LightGBM] [Warning] feature_fraction is set=0.4971374658158872, colsample_bytree=1.0 will be ignored. Current value: feature_fraction=0.4971374658158872\n",
            "[LightGBM] [Warning] feature_fraction is set=0.4971374658158872, colsample_bytree=1.0 will be ignored. Current value: feature_fraction=0.4971374658158872\n"
          ]
        },
        {
          "output_type": "stream",
          "name": "stderr",
          "text": [
            "\u001b[32m[I 2023-04-03 13:03:17,924]\u001b[0m Trial 12 finished with value: 0.9071900826260825 and parameters: {'max_depth': 7, 'feature_fraction': 0.4971374658158872}. Best is trial 11 with value: 0.907543944880966.\u001b[0m\n"
          ]
        },
        {
          "output_type": "stream",
          "name": "stdout",
          "text": [
            "[LightGBM] [Warning] feature_fraction is set=0.41676189562333715, colsample_bytree=1.0 will be ignored. Current value: feature_fraction=0.41676189562333715\n",
            "[LightGBM] [Warning] feature_fraction is set=0.41676189562333715, colsample_bytree=1.0 will be ignored. Current value: feature_fraction=0.41676189562333715\n",
            "[LightGBM] [Warning] feature_fraction is set=0.41676189562333715, colsample_bytree=1.0 will be ignored. Current value: feature_fraction=0.41676189562333715\n"
          ]
        },
        {
          "output_type": "stream",
          "name": "stderr",
          "text": [
            "\u001b[32m[I 2023-04-03 13:03:19,245]\u001b[0m Trial 13 finished with value: 0.907543944880966 and parameters: {'max_depth': 7, 'feature_fraction': 0.41676189562333715}. Best is trial 11 with value: 0.907543944880966.\u001b[0m\n"
          ]
        },
        {
          "output_type": "stream",
          "name": "stdout",
          "text": [
            "[LightGBM] [Warning] feature_fraction is set=0.3804835819998716, colsample_bytree=1.0 will be ignored. Current value: feature_fraction=0.3804835819998716\n",
            "[LightGBM] [Warning] feature_fraction is set=0.3804835819998716, colsample_bytree=1.0 will be ignored. Current value: feature_fraction=0.3804835819998716\n",
            "[LightGBM] [Warning] feature_fraction is set=0.3804835819998716, colsample_bytree=1.0 will be ignored. Current value: feature_fraction=0.3804835819998716\n"
          ]
        },
        {
          "output_type": "stream",
          "name": "stderr",
          "text": [
            "\u001b[32m[I 2023-04-03 13:03:20,535]\u001b[0m Trial 14 finished with value: 0.907219542009757 and parameters: {'max_depth': 7, 'feature_fraction': 0.3804835819998716}. Best is trial 11 with value: 0.907543944880966.\u001b[0m\n"
          ]
        },
        {
          "output_type": "stream",
          "name": "stdout",
          "text": [
            "[LightGBM] [Warning] feature_fraction is set=0.6009885527399826, colsample_bytree=1.0 will be ignored. Current value: feature_fraction=0.6009885527399826\n",
            "[LightGBM] [Warning] feature_fraction is set=0.6009885527399826, colsample_bytree=1.0 will be ignored. Current value: feature_fraction=0.6009885527399826\n",
            "[LightGBM] [Warning] feature_fraction is set=0.6009885527399826, colsample_bytree=1.0 will be ignored. Current value: feature_fraction=0.6009885527399826\n"
          ]
        },
        {
          "output_type": "stream",
          "name": "stderr",
          "text": [
            "\u001b[32m[I 2023-04-03 13:03:21,813]\u001b[0m Trial 15 finished with value: 0.9073080793301697 and parameters: {'max_depth': 6, 'feature_fraction': 0.6009885527399826}. Best is trial 11 with value: 0.907543944880966.\u001b[0m\n"
          ]
        },
        {
          "output_type": "stream",
          "name": "stdout",
          "text": [
            "[LightGBM] [Warning] feature_fraction is set=0.42856800353028535, colsample_bytree=1.0 will be ignored. Current value: feature_fraction=0.42856800353028535\n",
            "[LightGBM] [Warning] feature_fraction is set=0.42856800353028535, colsample_bytree=1.0 will be ignored. Current value: feature_fraction=0.42856800353028535\n",
            "[LightGBM] [Warning] feature_fraction is set=0.42856800353028535, colsample_bytree=1.0 will be ignored. Current value: feature_fraction=0.42856800353028535\n"
          ]
        },
        {
          "output_type": "stream",
          "name": "stderr",
          "text": [
            "\u001b[32m[I 2023-04-03 13:03:23,190]\u001b[0m Trial 16 finished with value: 0.9075144959346285 and parameters: {'max_depth': 6, 'feature_fraction': 0.42856800353028535}. Best is trial 11 with value: 0.907543944880966.\u001b[0m\n"
          ]
        },
        {
          "output_type": "stream",
          "name": "stdout",
          "text": [
            "[LightGBM] [Warning] feature_fraction is set=0.3614459859534127, colsample_bytree=1.0 will be ignored. Current value: feature_fraction=0.3614459859534127\n",
            "[LightGBM] [Warning] feature_fraction is set=0.3614459859534127, colsample_bytree=1.0 will be ignored. Current value: feature_fraction=0.3614459859534127\n",
            "[LightGBM] [Warning] feature_fraction is set=0.3614459859534127, colsample_bytree=1.0 will be ignored. Current value: feature_fraction=0.3614459859534127\n"
          ]
        },
        {
          "output_type": "stream",
          "name": "stderr",
          "text": [
            "\u001b[32m[I 2023-04-03 13:03:26,610]\u001b[0m Trial 17 finished with value: 0.907219542009757 and parameters: {'max_depth': 7, 'feature_fraction': 0.3614459859534127}. Best is trial 11 with value: 0.907543944880966.\u001b[0m\n"
          ]
        },
        {
          "output_type": "stream",
          "name": "stdout",
          "text": [
            "[LightGBM] [Warning] feature_fraction is set=0.5775559685186289, colsample_bytree=1.0 will be ignored. Current value: feature_fraction=0.5775559685186289\n",
            "[LightGBM] [Warning] feature_fraction is set=0.5775559685186289, colsample_bytree=1.0 will be ignored. Current value: feature_fraction=0.5775559685186289\n",
            "[LightGBM] [Warning] feature_fraction is set=0.5775559685186289, colsample_bytree=1.0 will be ignored. Current value: feature_fraction=0.5775559685186289\n"
          ]
        },
        {
          "output_type": "stream",
          "name": "stderr",
          "text": [
            "\u001b[32m[I 2023-04-03 13:03:27,830]\u001b[0m Trial 18 finished with value: 0.9064527839219337 and parameters: {'max_depth': 5, 'feature_fraction': 0.5775559685186289}. Best is trial 11 with value: 0.907543944880966.\u001b[0m\n"
          ]
        },
        {
          "output_type": "stream",
          "name": "stdout",
          "text": [
            "[LightGBM] [Warning] feature_fraction is set=0.33651794688449604, colsample_bytree=1.0 will be ignored. Current value: feature_fraction=0.33651794688449604\n",
            "[LightGBM] [Warning] feature_fraction is set=0.33651794688449604, colsample_bytree=1.0 will be ignored. Current value: feature_fraction=0.33651794688449604\n",
            "[LightGBM] [Warning] feature_fraction is set=0.33651794688449604, colsample_bytree=1.0 will be ignored. Current value: feature_fraction=0.33651794688449604\n"
          ]
        },
        {
          "output_type": "stream",
          "name": "stderr",
          "text": [
            "\u001b[32m[I 2023-04-03 13:03:29,082]\u001b[0m Trial 19 finished with value: 0.907367021581527 and parameters: {'max_depth': 7, 'feature_fraction': 0.33651794688449604}. Best is trial 11 with value: 0.907543944880966.\u001b[0m\n"
          ]
        },
        {
          "output_type": "stream",
          "name": "stdout",
          "text": [
            "[LightGBM] [Warning] feature_fraction is set=0.4264445626875285, colsample_bytree=1.0 will be ignored. Current value: feature_fraction=0.4264445626875285\n",
            "[LightGBM] [Warning] feature_fraction is set=0.4264445626875285, colsample_bytree=1.0 will be ignored. Current value: feature_fraction=0.4264445626875285\n",
            "[LightGBM] [Warning] feature_fraction is set=0.4264445626875285, colsample_bytree=1.0 will be ignored. Current value: feature_fraction=0.4264445626875285\n"
          ]
        },
        {
          "output_type": "stream",
          "name": "stderr",
          "text": [
            "\u001b[32m[I 2023-04-03 13:03:30,370]\u001b[0m Trial 20 finished with value: 0.9075144959346285 and parameters: {'max_depth': 6, 'feature_fraction': 0.4264445626875285}. Best is trial 11 with value: 0.907543944880966.\u001b[0m\n"
          ]
        },
        {
          "output_type": "stream",
          "name": "stdout",
          "text": [
            "[LightGBM] [Warning] feature_fraction is set=0.45813595956174025, colsample_bytree=1.0 will be ignored. Current value: feature_fraction=0.45813595956174025\n",
            "[LightGBM] [Warning] feature_fraction is set=0.45813595956174025, colsample_bytree=1.0 will be ignored. Current value: feature_fraction=0.45813595956174025\n",
            "[LightGBM] [Warning] feature_fraction is set=0.45813595956174025, colsample_bytree=1.0 will be ignored. Current value: feature_fraction=0.45813595956174025\n"
          ]
        },
        {
          "output_type": "stream",
          "name": "stderr",
          "text": [
            "\u001b[32m[I 2023-04-03 13:03:31,690]\u001b[0m Trial 21 finished with value: 0.9075144959346285 and parameters: {'max_depth': 6, 'feature_fraction': 0.45813595956174025}. Best is trial 11 with value: 0.907543944880966.\u001b[0m\n"
          ]
        },
        {
          "output_type": "stream",
          "name": "stdout",
          "text": [
            "[LightGBM] [Warning] feature_fraction is set=0.4000721810881515, colsample_bytree=1.0 will be ignored. Current value: feature_fraction=0.4000721810881515\n",
            "[LightGBM] [Warning] feature_fraction is set=0.4000721810881515, colsample_bytree=1.0 will be ignored. Current value: feature_fraction=0.4000721810881515\n",
            "[LightGBM] [Warning] feature_fraction is set=0.4000721810881515, colsample_bytree=1.0 will be ignored. Current value: feature_fraction=0.4000721810881515\n"
          ]
        },
        {
          "output_type": "stream",
          "name": "stderr",
          "text": [
            "\u001b[32m[I 2023-04-03 13:03:33,038]\u001b[0m Trial 22 finished with value: 0.907219542009757 and parameters: {'max_depth': 7, 'feature_fraction': 0.4000721810881515}. Best is trial 11 with value: 0.907543944880966.\u001b[0m\n"
          ]
        },
        {
          "output_type": "stream",
          "name": "stdout",
          "text": [
            "[LightGBM] [Warning] feature_fraction is set=0.5400699199172019, colsample_bytree=1.0 will be ignored. Current value: feature_fraction=0.5400699199172019\n",
            "[LightGBM] [Warning] feature_fraction is set=0.5400699199172019, colsample_bytree=1.0 will be ignored. Current value: feature_fraction=0.5400699199172019\n",
            "[LightGBM] [Warning] feature_fraction is set=0.5400699199172019, colsample_bytree=1.0 will be ignored. Current value: feature_fraction=0.5400699199172019\n"
          ]
        },
        {
          "output_type": "stream",
          "name": "stderr",
          "text": [
            "\u001b[32m[I 2023-04-03 13:03:34,347]\u001b[0m Trial 23 finished with value: 0.9065412507903217 and parameters: {'max_depth': 6, 'feature_fraction': 0.5400699199172019}. Best is trial 11 with value: 0.907543944880966.\u001b[0m\n"
          ]
        },
        {
          "output_type": "stream",
          "name": "stdout",
          "text": [
            "[LightGBM] [Warning] feature_fraction is set=0.29965462179021907, colsample_bytree=1.0 will be ignored. Current value: feature_fraction=0.29965462179021907\n",
            "[LightGBM] [Warning] feature_fraction is set=0.29965462179021907, colsample_bytree=1.0 will be ignored. Current value: feature_fraction=0.29965462179021907\n",
            "[LightGBM] [Warning] feature_fraction is set=0.29965462179021907, colsample_bytree=1.0 will be ignored. Current value: feature_fraction=0.29965462179021907\n"
          ]
        },
        {
          "output_type": "stream",
          "name": "stderr",
          "text": [
            "\u001b[32m[I 2023-04-03 13:03:35,783]\u001b[0m Trial 24 finished with value: 0.907367021581527 and parameters: {'max_depth': 7, 'feature_fraction': 0.29965462179021907}. Best is trial 11 with value: 0.907543944880966.\u001b[0m\n"
          ]
        },
        {
          "output_type": "stream",
          "name": "stdout",
          "text": [
            "[LightGBM] [Warning] feature_fraction is set=0.39142530104641093, colsample_bytree=1.0 will be ignored. Current value: feature_fraction=0.39142530104641093\n",
            "[LightGBM] [Warning] feature_fraction is set=0.39142530104641093, colsample_bytree=1.0 will be ignored. Current value: feature_fraction=0.39142530104641093\n",
            "[LightGBM] [Warning] feature_fraction is set=0.39142530104641093, colsample_bytree=1.0 will be ignored. Current value: feature_fraction=0.39142530104641093\n"
          ]
        },
        {
          "output_type": "stream",
          "name": "stderr",
          "text": [
            "\u001b[32m[I 2023-04-03 13:03:39,034]\u001b[0m Trial 25 finished with value: 0.906334774171175 and parameters: {'max_depth': 6, 'feature_fraction': 0.39142530104641093}. Best is trial 11 with value: 0.907543944880966.\u001b[0m\n"
          ]
        },
        {
          "output_type": "stream",
          "name": "stdout",
          "text": [
            "[LightGBM] [Warning] feature_fraction is set=0.5300205243012317, colsample_bytree=1.0 will be ignored. Current value: feature_fraction=0.5300205243012317\n",
            "[LightGBM] [Warning] feature_fraction is set=0.5300205243012317, colsample_bytree=1.0 will be ignored. Current value: feature_fraction=0.5300205243012317\n",
            "[LightGBM] [Warning] feature_fraction is set=0.5300205243012317, colsample_bytree=1.0 will be ignored. Current value: feature_fraction=0.5300205243012317\n"
          ]
        },
        {
          "output_type": "stream",
          "name": "stderr",
          "text": [
            "\u001b[32m[I 2023-04-03 13:03:40,290]\u001b[0m Trial 26 finished with value: 0.9065118018439842 and parameters: {'max_depth': 5, 'feature_fraction': 0.5300205243012317}. Best is trial 11 with value: 0.907543944880966.\u001b[0m\n"
          ]
        },
        {
          "output_type": "stream",
          "name": "stdout",
          "text": [
            "[LightGBM] [Warning] feature_fraction is set=0.4414522760587287, colsample_bytree=1.0 will be ignored. Current value: feature_fraction=0.4414522760587287\n",
            "[LightGBM] [Warning] feature_fraction is set=0.4414522760587287, colsample_bytree=1.0 will be ignored. Current value: feature_fraction=0.4414522760587287\n",
            "[LightGBM] [Warning] feature_fraction is set=0.4414522760587287, colsample_bytree=1.0 will be ignored. Current value: feature_fraction=0.4414522760587287\n"
          ]
        },
        {
          "output_type": "stream",
          "name": "stderr",
          "text": [
            "\u001b[32m[I 2023-04-03 13:03:41,616]\u001b[0m Trial 27 finished with value: 0.907543944880966 and parameters: {'max_depth': 7, 'feature_fraction': 0.4414522760587287}. Best is trial 11 with value: 0.907543944880966.\u001b[0m\n"
          ]
        },
        {
          "output_type": "stream",
          "name": "stdout",
          "text": [
            "[LightGBM] [Warning] feature_fraction is set=0.6008402670188888, colsample_bytree=1.0 will be ignored. Current value: feature_fraction=0.6008402670188888\n",
            "[LightGBM] [Warning] feature_fraction is set=0.6008402670188888, colsample_bytree=1.0 will be ignored. Current value: feature_fraction=0.6008402670188888\n",
            "[LightGBM] [Warning] feature_fraction is set=0.6008402670188888, colsample_bytree=1.0 will be ignored. Current value: feature_fraction=0.6008402670188888\n"
          ]
        },
        {
          "output_type": "stream",
          "name": "stderr",
          "text": [
            "\u001b[32m[I 2023-04-03 13:03:42,910]\u001b[0m Trial 28 finished with value: 0.9075144541852805 and parameters: {'max_depth': 7, 'feature_fraction': 0.6008402670188888}. Best is trial 11 with value: 0.907543944880966.\u001b[0m\n"
          ]
        },
        {
          "output_type": "stream",
          "name": "stdout",
          "text": [
            "[LightGBM] [Warning] feature_fraction is set=0.27093713772855754, colsample_bytree=1.0 will be ignored. Current value: feature_fraction=0.27093713772855754\n",
            "[LightGBM] [Warning] feature_fraction is set=0.27093713772855754, colsample_bytree=1.0 will be ignored. Current value: feature_fraction=0.27093713772855754\n",
            "[LightGBM] [Warning] feature_fraction is set=0.27093713772855754, colsample_bytree=1.0 will be ignored. Current value: feature_fraction=0.27093713772855754\n"
          ]
        },
        {
          "output_type": "stream",
          "name": "stderr",
          "text": [
            "\u001b[32m[I 2023-04-03 13:03:44,175]\u001b[0m Trial 29 finished with value: 0.9056269974747228 and parameters: {'max_depth': 7, 'feature_fraction': 0.27093713772855754}. Best is trial 11 with value: 0.907543944880966.\u001b[0m\n"
          ]
        },
        {
          "output_type": "stream",
          "name": "stdout",
          "text": [
            "[LightGBM] [Warning] feature_fraction is set=0.3195580198400042, colsample_bytree=1.0 will be ignored. Current value: feature_fraction=0.3195580198400042\n",
            "[LightGBM] [Warning] feature_fraction is set=0.3195580198400042, colsample_bytree=1.0 will be ignored. Current value: feature_fraction=0.3195580198400042\n",
            "[LightGBM] [Warning] feature_fraction is set=0.3195580198400042, colsample_bytree=1.0 will be ignored. Current value: feature_fraction=0.3195580198400042\n"
          ]
        },
        {
          "output_type": "stream",
          "name": "stderr",
          "text": [
            "\u001b[32m[I 2023-04-03 13:03:45,008]\u001b[0m Trial 30 finished with value: 0.8999056537796815 and parameters: {'max_depth': 2, 'feature_fraction': 0.3195580198400042}. Best is trial 11 with value: 0.907543944880966.\u001b[0m\n"
          ]
        },
        {
          "output_type": "stream",
          "name": "stdout",
          "text": [
            "[LightGBM] [Warning] feature_fraction is set=0.4403221407382838, colsample_bytree=1.0 will be ignored. Current value: feature_fraction=0.4403221407382838\n",
            "[LightGBM] [Warning] feature_fraction is set=0.4403221407382838, colsample_bytree=1.0 will be ignored. Current value: feature_fraction=0.4403221407382838\n",
            "[LightGBM] [Warning] feature_fraction is set=0.4403221407382838, colsample_bytree=1.0 will be ignored. Current value: feature_fraction=0.4403221407382838\n"
          ]
        },
        {
          "output_type": "stream",
          "name": "stderr",
          "text": [
            "\u001b[32m[I 2023-04-03 13:03:46,353]\u001b[0m Trial 31 finished with value: 0.9075144959346285 and parameters: {'max_depth': 6, 'feature_fraction': 0.4403221407382838}. Best is trial 11 with value: 0.907543944880966.\u001b[0m\n"
          ]
        },
        {
          "output_type": "stream",
          "name": "stdout",
          "text": [
            "[LightGBM] [Warning] feature_fraction is set=0.44500860638853257, colsample_bytree=1.0 will be ignored. Current value: feature_fraction=0.44500860638853257\n",
            "[LightGBM] [Warning] feature_fraction is set=0.44500860638853257, colsample_bytree=1.0 will be ignored. Current value: feature_fraction=0.44500860638853257\n",
            "[LightGBM] [Warning] feature_fraction is set=0.44500860638853257, colsample_bytree=1.0 will be ignored. Current value: feature_fraction=0.44500860638853257\n"
          ]
        },
        {
          "output_type": "stream",
          "name": "stderr",
          "text": [
            "\u001b[32m[I 2023-04-03 13:03:48,049]\u001b[0m Trial 32 finished with value: 0.907543944880966 and parameters: {'max_depth': 7, 'feature_fraction': 0.44500860638853257}. Best is trial 11 with value: 0.907543944880966.\u001b[0m\n"
          ]
        },
        {
          "output_type": "stream",
          "name": "stdout",
          "text": [
            "[LightGBM] [Warning] feature_fraction is set=0.48274552631415124, colsample_bytree=1.0 will be ignored. Current value: feature_fraction=0.48274552631415124\n",
            "[LightGBM] [Warning] feature_fraction is set=0.48274552631415124, colsample_bytree=1.0 will be ignored. Current value: feature_fraction=0.48274552631415124\n",
            "[LightGBM] [Warning] feature_fraction is set=0.48274552631415124, colsample_bytree=1.0 will be ignored. Current value: feature_fraction=0.48274552631415124\n"
          ]
        },
        {
          "output_type": "stream",
          "name": "stderr",
          "text": [
            "\u001b[32m[I 2023-04-03 13:03:51,414]\u001b[0m Trial 33 finished with value: 0.9071900826260825 and parameters: {'max_depth': 7, 'feature_fraction': 0.48274552631415124}. Best is trial 11 with value: 0.907543944880966.\u001b[0m\n"
          ]
        },
        {
          "output_type": "stream",
          "name": "stdout",
          "text": [
            "[LightGBM] [Warning] feature_fraction is set=0.3560812515004486, colsample_bytree=1.0 will be ignored. Current value: feature_fraction=0.3560812515004486\n",
            "[LightGBM] [Warning] feature_fraction is set=0.3560812515004486, colsample_bytree=1.0 will be ignored. Current value: feature_fraction=0.3560812515004486\n",
            "[LightGBM] [Warning] feature_fraction is set=0.3560812515004486, colsample_bytree=1.0 will be ignored. Current value: feature_fraction=0.3560812515004486\n"
          ]
        },
        {
          "output_type": "stream",
          "name": "stderr",
          "text": [
            "\u001b[32m[I 2023-04-03 13:03:52,684]\u001b[0m Trial 34 finished with value: 0.907219542009757 and parameters: {'max_depth': 7, 'feature_fraction': 0.3560812515004486}. Best is trial 11 with value: 0.907543944880966.\u001b[0m\n"
          ]
        },
        {
          "output_type": "stream",
          "name": "stdout",
          "text": [
            "[LightGBM] [Warning] feature_fraction is set=0.5001957356232191, colsample_bytree=1.0 will be ignored. Current value: feature_fraction=0.5001957356232191\n",
            "[LightGBM] [Warning] feature_fraction is set=0.5001957356232191, colsample_bytree=1.0 will be ignored. Current value: feature_fraction=0.5001957356232191\n",
            "[LightGBM] [Warning] feature_fraction is set=0.5001957356232191, colsample_bytree=1.0 will be ignored. Current value: feature_fraction=0.5001957356232191\n"
          ]
        },
        {
          "output_type": "stream",
          "name": "stderr",
          "text": [
            "\u001b[32m[I 2023-04-03 13:03:54,006]\u001b[0m Trial 35 finished with value: 0.9071900826260825 and parameters: {'max_depth': 7, 'feature_fraction': 0.5001957356232191}. Best is trial 11 with value: 0.907543944880966.\u001b[0m\n"
          ]
        },
        {
          "output_type": "stream",
          "name": "stdout",
          "text": [
            "[LightGBM] [Warning] feature_fraction is set=0.407596402784354, colsample_bytree=1.0 will be ignored. Current value: feature_fraction=0.407596402784354\n",
            "[LightGBM] [Warning] feature_fraction is set=0.407596402784354, colsample_bytree=1.0 will be ignored. Current value: feature_fraction=0.407596402784354\n",
            "[LightGBM] [Warning] feature_fraction is set=0.407596402784354, colsample_bytree=1.0 will be ignored. Current value: feature_fraction=0.407596402784354\n"
          ]
        },
        {
          "output_type": "stream",
          "name": "stderr",
          "text": [
            "\u001b[32m[I 2023-04-03 13:03:55,243]\u001b[0m Trial 36 finished with value: 0.9069541309672559 and parameters: {'max_depth': 5, 'feature_fraction': 0.407596402784354}. Best is trial 11 with value: 0.907543944880966.\u001b[0m\n"
          ]
        },
        {
          "output_type": "stream",
          "name": "stdout",
          "text": [
            "[LightGBM] [Warning] feature_fraction is set=0.5309385214075939, colsample_bytree=1.0 will be ignored. Current value: feature_fraction=0.5309385214075939\n",
            "[LightGBM] [Warning] feature_fraction is set=0.5309385214075939, colsample_bytree=1.0 will be ignored. Current value: feature_fraction=0.5309385214075939\n",
            "[LightGBM] [Warning] feature_fraction is set=0.5309385214075939, colsample_bytree=1.0 will be ignored. Current value: feature_fraction=0.5309385214075939\n"
          ]
        },
        {
          "output_type": "stream",
          "name": "stderr",
          "text": [
            "\u001b[32m[I 2023-04-03 13:03:56,230]\u001b[0m Trial 37 finished with value: 0.9042999135595405 and parameters: {'max_depth': 3, 'feature_fraction': 0.5309385214075939}. Best is trial 11 with value: 0.907543944880966.\u001b[0m\n"
          ]
        },
        {
          "output_type": "stream",
          "name": "stdout",
          "text": [
            "[LightGBM] [Warning] feature_fraction is set=0.26041066604746976, colsample_bytree=1.0 will be ignored. Current value: feature_fraction=0.26041066604746976\n",
            "[LightGBM] [Warning] feature_fraction is set=0.26041066604746976, colsample_bytree=1.0 will be ignored. Current value: feature_fraction=0.26041066604746976\n",
            "[LightGBM] [Warning] feature_fraction is set=0.26041066604746976, colsample_bytree=1.0 will be ignored. Current value: feature_fraction=0.26041066604746976\n"
          ]
        },
        {
          "output_type": "stream",
          "name": "stderr",
          "text": [
            "\u001b[32m[I 2023-04-03 13:03:57,314]\u001b[0m Trial 38 finished with value: 0.9058334532191954 and parameters: {'max_depth': 4, 'feature_fraction': 0.26041066604746976}. Best is trial 11 with value: 0.907543944880966.\u001b[0m\n"
          ]
        },
        {
          "output_type": "stream",
          "name": "stdout",
          "text": [
            "[LightGBM] [Warning] feature_fraction is set=0.3342425170552981, colsample_bytree=1.0 will be ignored. Current value: feature_fraction=0.3342425170552981\n",
            "[LightGBM] [Warning] feature_fraction is set=0.3342425170552981, colsample_bytree=1.0 will be ignored. Current value: feature_fraction=0.3342425170552981\n",
            "[LightGBM] [Warning] feature_fraction is set=0.3342425170552981, colsample_bytree=1.0 will be ignored. Current value: feature_fraction=0.3342425170552981\n"
          ]
        },
        {
          "output_type": "stream",
          "name": "stderr",
          "text": [
            "\u001b[32m[I 2023-04-03 13:03:58,604]\u001b[0m Trial 39 finished with value: 0.9061283784413904 and parameters: {'max_depth': 6, 'feature_fraction': 0.3342425170552981}. Best is trial 11 with value: 0.907543944880966.\u001b[0m\n"
          ]
        },
        {
          "output_type": "stream",
          "name": "stdout",
          "text": [
            "[LightGBM] [Warning] feature_fraction is set=0.4438763333729, colsample_bytree=1.0 will be ignored. Current value: feature_fraction=0.4438763333729\n",
            "[LightGBM] [Warning] feature_fraction is set=0.4438763333729, colsample_bytree=1.0 will be ignored. Current value: feature_fraction=0.4438763333729\n",
            "[LightGBM] [Warning] feature_fraction is set=0.4438763333729, colsample_bytree=1.0 will be ignored. Current value: feature_fraction=0.4438763333729\n"
          ]
        },
        {
          "output_type": "stream",
          "name": "stderr",
          "text": [
            "\u001b[32m[I 2023-04-03 13:03:59,920]\u001b[0m Trial 40 finished with value: 0.907543944880966 and parameters: {'max_depth': 7, 'feature_fraction': 0.4438763333729}. Best is trial 11 with value: 0.907543944880966.\u001b[0m\n"
          ]
        },
        {
          "output_type": "stream",
          "name": "stdout",
          "text": [
            "[LightGBM] [Warning] feature_fraction is set=0.43218849267309484, colsample_bytree=1.0 will be ignored. Current value: feature_fraction=0.43218849267309484\n",
            "[LightGBM] [Warning] feature_fraction is set=0.43218849267309484, colsample_bytree=1.0 will be ignored. Current value: feature_fraction=0.43218849267309484\n",
            "[LightGBM] [Warning] feature_fraction is set=0.43218849267309484, colsample_bytree=1.0 will be ignored. Current value: feature_fraction=0.43218849267309484\n"
          ]
        },
        {
          "output_type": "stream",
          "name": "stderr",
          "text": [
            "\u001b[32m[I 2023-04-03 13:04:01,332]\u001b[0m Trial 41 finished with value: 0.907543944880966 and parameters: {'max_depth': 7, 'feature_fraction': 0.43218849267309484}. Best is trial 11 with value: 0.907543944880966.\u001b[0m\n"
          ]
        },
        {
          "output_type": "stream",
          "name": "stdout",
          "text": [
            "[LightGBM] [Warning] feature_fraction is set=0.45779139378201317, colsample_bytree=1.0 will be ignored. Current value: feature_fraction=0.45779139378201317\n",
            "[LightGBM] [Warning] feature_fraction is set=0.45779139378201317, colsample_bytree=1.0 will be ignored. Current value: feature_fraction=0.45779139378201317\n",
            "[LightGBM] [Warning] feature_fraction is set=0.45779139378201317, colsample_bytree=1.0 will be ignored. Current value: feature_fraction=0.45779139378201317\n"
          ]
        },
        {
          "output_type": "stream",
          "name": "stderr",
          "text": [
            "\u001b[32m[I 2023-04-03 13:04:04,568]\u001b[0m Trial 42 finished with value: 0.907543944880966 and parameters: {'max_depth': 7, 'feature_fraction': 0.45779139378201317}. Best is trial 11 with value: 0.907543944880966.\u001b[0m\n"
          ]
        },
        {
          "output_type": "stream",
          "name": "stdout",
          "text": [
            "[LightGBM] [Warning] feature_fraction is set=0.38025195822906555, colsample_bytree=1.0 will be ignored. Current value: feature_fraction=0.38025195822906555\n",
            "[LightGBM] [Warning] feature_fraction is set=0.38025195822906555, colsample_bytree=1.0 will be ignored. Current value: feature_fraction=0.38025195822906555\n",
            "[LightGBM] [Warning] feature_fraction is set=0.38025195822906555, colsample_bytree=1.0 will be ignored. Current value: feature_fraction=0.38025195822906555\n"
          ]
        },
        {
          "output_type": "stream",
          "name": "stderr",
          "text": [
            "\u001b[32m[I 2023-04-03 13:04:05,849]\u001b[0m Trial 43 finished with value: 0.907219542009757 and parameters: {'max_depth': 7, 'feature_fraction': 0.38025195822906555}. Best is trial 11 with value: 0.907543944880966.\u001b[0m\n"
          ]
        },
        {
          "output_type": "stream",
          "name": "stdout",
          "text": [
            "[LightGBM] [Warning] feature_fraction is set=0.503601795148377, colsample_bytree=1.0 will be ignored. Current value: feature_fraction=0.503601795148377\n",
            "[LightGBM] [Warning] feature_fraction is set=0.503601795148377, colsample_bytree=1.0 will be ignored. Current value: feature_fraction=0.503601795148377\n",
            "[LightGBM] [Warning] feature_fraction is set=0.503601795148377, colsample_bytree=1.0 will be ignored. Current value: feature_fraction=0.503601795148377\n"
          ]
        },
        {
          "output_type": "stream",
          "name": "stderr",
          "text": [
            "\u001b[32m[I 2023-04-03 13:04:07,146]\u001b[0m Trial 44 finished with value: 0.9071310986253772 and parameters: {'max_depth': 6, 'feature_fraction': 0.503601795148377}. Best is trial 11 with value: 0.907543944880966.\u001b[0m\n"
          ]
        },
        {
          "output_type": "stream",
          "name": "stdout",
          "text": [
            "[LightGBM] [Warning] feature_fraction is set=0.5675276628937476, colsample_bytree=1.0 will be ignored. Current value: feature_fraction=0.5675276628937476\n",
            "[LightGBM] [Warning] feature_fraction is set=0.5675276628937476, colsample_bytree=1.0 will be ignored. Current value: feature_fraction=0.5675276628937476\n",
            "[LightGBM] [Warning] feature_fraction is set=0.5675276628937476, colsample_bytree=1.0 will be ignored. Current value: feature_fraction=0.5675276628937476\n"
          ]
        },
        {
          "output_type": "stream",
          "name": "stderr",
          "text": [
            "\u001b[32m[I 2023-04-03 13:04:08,491]\u001b[0m Trial 45 finished with value: 0.9075734538419913 and parameters: {'max_depth': 7, 'feature_fraction': 0.5675276628937476}. Best is trial 45 with value: 0.9075734538419913.\u001b[0m\n"
          ]
        },
        {
          "output_type": "stream",
          "name": "stdout",
          "text": [
            "[LightGBM] [Warning] feature_fraction is set=0.6379213654582759, colsample_bytree=1.0 will be ignored. Current value: feature_fraction=0.6379213654582759\n",
            "[LightGBM] [Warning] feature_fraction is set=0.6379213654582759, colsample_bytree=1.0 will be ignored. Current value: feature_fraction=0.6379213654582759\n",
            "[LightGBM] [Warning] feature_fraction is set=0.6379213654582759, colsample_bytree=1.0 will be ignored. Current value: feature_fraction=0.6379213654582759\n"
          ]
        },
        {
          "output_type": "stream",
          "name": "stderr",
          "text": [
            "\u001b[32m[I 2023-04-03 13:04:09,792]\u001b[0m Trial 46 finished with value: 0.9075144541852805 and parameters: {'max_depth': 7, 'feature_fraction': 0.6379213654582759}. Best is trial 45 with value: 0.9075734538419913.\u001b[0m\n"
          ]
        },
        {
          "output_type": "stream",
          "name": "stdout",
          "text": [
            "[LightGBM] [Warning] feature_fraction is set=0.5549680379970041, colsample_bytree=1.0 will be ignored. Current value: feature_fraction=0.5549680379970041\n",
            "[LightGBM] [Warning] feature_fraction is set=0.5549680379970041, colsample_bytree=1.0 will be ignored. Current value: feature_fraction=0.5549680379970041\n",
            "[LightGBM] [Warning] feature_fraction is set=0.5549680379970041, colsample_bytree=1.0 will be ignored. Current value: feature_fraction=0.5549680379970041\n"
          ]
        },
        {
          "output_type": "stream",
          "name": "stderr",
          "text": [
            "\u001b[32m[I 2023-04-03 13:04:10,753]\u001b[0m Trial 47 finished with value: 0.9040344894703684 and parameters: {'max_depth': 3, 'feature_fraction': 0.5549680379970041}. Best is trial 45 with value: 0.9075734538419913.\u001b[0m\n"
          ]
        },
        {
          "output_type": "stream",
          "name": "stdout",
          "text": [
            "[LightGBM] [Warning] feature_fraction is set=0.49629853823409215, colsample_bytree=1.0 will be ignored. Current value: feature_fraction=0.49629853823409215\n",
            "[LightGBM] [Warning] feature_fraction is set=0.49629853823409215, colsample_bytree=1.0 will be ignored. Current value: feature_fraction=0.49629853823409215\n",
            "[LightGBM] [Warning] feature_fraction is set=0.49629853823409215, colsample_bytree=1.0 will be ignored. Current value: feature_fraction=0.49629853823409215\n"
          ]
        },
        {
          "output_type": "stream",
          "name": "stderr",
          "text": [
            "\u001b[32m[I 2023-04-03 13:04:12,068]\u001b[0m Trial 48 finished with value: 0.9071310986253772 and parameters: {'max_depth': 6, 'feature_fraction': 0.49629853823409215}. Best is trial 45 with value: 0.9075734538419913.\u001b[0m\n"
          ]
        },
        {
          "output_type": "stream",
          "name": "stdout",
          "text": [
            "[LightGBM] [Warning] feature_fraction is set=0.6517826773290124, colsample_bytree=1.0 will be ignored. Current value: feature_fraction=0.6517826773290124\n",
            "[LightGBM] [Warning] feature_fraction is set=0.6517826773290124, colsample_bytree=1.0 will be ignored. Current value: feature_fraction=0.6517826773290124\n",
            "[LightGBM] [Warning] feature_fraction is set=0.6517826773290124, colsample_bytree=1.0 will be ignored. Current value: feature_fraction=0.6517826773290124\n"
          ]
        },
        {
          "output_type": "stream",
          "name": "stderr",
          "text": [
            "\u001b[32m[I 2023-04-03 13:04:13,350]\u001b[0m Trial 49 finished with value: 0.9075144541852805 and parameters: {'max_depth': 7, 'feature_fraction': 0.6517826773290124}. Best is trial 45 with value: 0.9075734538419913.\u001b[0m\n",
            "\u001b[32m[I 2023-04-03 13:04:13,356]\u001b[0m A new study created in memory with name: no-name-52a09cc0-1d9a-455a-a4f6-3085fffde370\u001b[0m\n",
            "\u001b[32m[I 2023-04-03 13:04:20,281]\u001b[0m Trial 0 finished with value: 0.9068066905354994 and parameters: {'max_depth': 6, 'max_features': 3}. Best is trial 0 with value: 0.9068066905354994.\u001b[0m\n",
            "\u001b[32m[I 2023-04-03 13:04:23,513]\u001b[0m Trial 1 finished with value: 0.9030317458023731 and parameters: {'max_depth': 4, 'max_features': 2}. Best is trial 0 with value: 0.9068066905354994.\u001b[0m\n",
            "\u001b[32m[I 2023-04-03 13:04:28,731]\u001b[0m Trial 2 finished with value: 0.9052731691411845 and parameters: {'max_depth': 4, 'max_features': 4}. Best is trial 0 with value: 0.9068066905354994.\u001b[0m\n",
            "\u001b[32m[I 2023-04-03 13:04:36,013]\u001b[0m Trial 3 finished with value: 0.9065707597513469 and parameters: {'max_depth': 6, 'max_features': 4}. Best is trial 0 with value: 0.9068066905354994.\u001b[0m\n",
            "\u001b[32m[I 2023-04-03 13:04:39,771]\u001b[0m Trial 4 finished with value: 0.901321269796608 and parameters: {'max_depth': 2, 'max_features': 7}. Best is trial 0 with value: 0.9068066905354994.\u001b[0m\n",
            "\u001b[32m[I 2023-04-03 13:04:46,649]\u001b[0m Trial 5 finished with value: 0.9068066905354994 and parameters: {'max_depth': 6, 'max_features': 3}. Best is trial 0 with value: 0.9068066905354994.\u001b[0m\n",
            "\u001b[32m[I 2023-04-03 13:04:59,521]\u001b[0m Trial 6 finished with value: 0.9065117313919594 and parameters: {'max_depth': 7, 'max_features': 7}. Best is trial 0 with value: 0.9068066905354994.\u001b[0m\n",
            "\u001b[32m[I 2023-04-03 13:05:03,349]\u001b[0m Trial 7 finished with value: 0.9056565090450824 and parameters: {'max_depth': 4, 'max_features': 3}. Best is trial 0 with value: 0.9068066905354994.\u001b[0m\n",
            "\u001b[32m[I 2023-04-03 13:05:08,750]\u001b[0m Trial 8 finished with value: 0.9041819481674643 and parameters: {'max_depth': 3, 'max_features': 6}. Best is trial 0 with value: 0.9068066905354994.\u001b[0m\n",
            "\u001b[32m[I 2023-04-03 13:05:12,166]\u001b[0m Trial 9 finished with value: 0.9035920925044061 and parameters: {'max_depth': 3, 'max_features': 3}. Best is trial 0 with value: 0.9068066905354994.\u001b[0m\n",
            "\u001b[32m[I 2023-04-03 13:05:20,169]\u001b[0m Trial 10 finished with value: 0.907543944880966 and parameters: {'max_depth': 6, 'max_features': 5}. Best is trial 10 with value: 0.907543944880966.\u001b[0m\n",
            "\u001b[32m[I 2023-04-03 13:05:28,915]\u001b[0m Trial 11 finished with value: 0.907543944880966 and parameters: {'max_depth': 6, 'max_features': 5}. Best is trial 10 with value: 0.907543944880966.\u001b[0m\n",
            "\u001b[32m[I 2023-04-03 13:05:39,321]\u001b[0m Trial 12 finished with value: 0.9068066696608256 and parameters: {'max_depth': 7, 'max_features': 5}. Best is trial 10 with value: 0.907543944880966.\u001b[0m\n",
            "\u001b[32m[I 2023-04-03 13:05:45,858]\u001b[0m Trial 13 finished with value: 0.9067771894024771 and parameters: {'max_depth': 5, 'max_features': 5}. Best is trial 10 with value: 0.907543944880966.\u001b[0m\n",
            "\u001b[32m[I 2023-04-03 13:05:54,346]\u001b[0m Trial 14 finished with value: 0.906806695754168 and parameters: {'max_depth': 5, 'max_features': 6}. Best is trial 10 with value: 0.907543944880966.\u001b[0m\n",
            "\u001b[32m[I 2023-04-03 13:06:04,320]\u001b[0m Trial 15 finished with value: 0.9054206017449381 and parameters: {'max_depth': 6, 'max_features': 6}. Best is trial 10 with value: 0.907543944880966.\u001b[0m\n",
            "\u001b[32m[I 2023-04-03 13:06:14,606]\u001b[0m Trial 16 finished with value: 0.9068066696608256 and parameters: {'max_depth': 7, 'max_features': 5}. Best is trial 10 with value: 0.907543944880966.\u001b[0m\n",
            "\u001b[32m[I 2023-04-03 13:06:20,663]\u001b[0m Trial 17 finished with value: 0.9074260081915666 and parameters: {'max_depth': 5, 'max_features': 4}. Best is trial 10 with value: 0.907543944880966.\u001b[0m\n",
            "\u001b[32m[I 2023-04-03 13:06:30,622]\u001b[0m Trial 18 finished with value: 0.9054206017449381 and parameters: {'max_depth': 6, 'max_features': 6}. Best is trial 10 with value: 0.907543944880966.\u001b[0m\n",
            "\u001b[32m[I 2023-04-03 13:06:42,166]\u001b[0m Trial 19 finished with value: 0.9068066696608256 and parameters: {'max_depth': 7, 'max_features': 5}. Best is trial 10 with value: 0.907543944880966.\u001b[0m\n",
            "\u001b[32m[I 2023-04-03 13:06:47,930]\u001b[0m Trial 20 finished with value: 0.9074260081915666 and parameters: {'max_depth': 5, 'max_features': 4}. Best is trial 10 with value: 0.907543944880966.\u001b[0m\n",
            "\u001b[32m[I 2023-04-03 13:06:54,576]\u001b[0m Trial 21 finished with value: 0.9074260081915666 and parameters: {'max_depth': 5, 'max_features': 4}. Best is trial 10 with value: 0.907543944880966.\u001b[0m\n",
            "\u001b[32m[I 2023-04-03 13:07:02,683]\u001b[0m Trial 22 finished with value: 0.907543944880966 and parameters: {'max_depth': 6, 'max_features': 5}. Best is trial 10 with value: 0.907543944880966.\u001b[0m\n",
            "\u001b[32m[I 2023-04-03 13:07:11,605]\u001b[0m Trial 23 finished with value: 0.907543944880966 and parameters: {'max_depth': 6, 'max_features': 5}. Best is trial 10 with value: 0.907543944880966.\u001b[0m\n",
            "\u001b[32m[I 2023-04-03 13:07:23,383]\u001b[0m Trial 24 finished with value: 0.9060694153153591 and parameters: {'max_depth': 7, 'max_features': 6}. Best is trial 10 with value: 0.907543944880966.\u001b[0m\n",
            "\u001b[32m[I 2023-04-03 13:07:31,485]\u001b[0m Trial 25 finished with value: 0.907543944880966 and parameters: {'max_depth': 6, 'max_features': 5}. Best is trial 10 with value: 0.907543944880966.\u001b[0m\n",
            "\u001b[32m[I 2023-04-03 13:07:41,634]\u001b[0m Trial 26 finished with value: 0.9054206017449381 and parameters: {'max_depth': 6, 'max_features': 6}. Best is trial 10 with value: 0.907543944880966.\u001b[0m\n",
            "\u001b[32m[I 2023-04-03 13:07:49,268]\u001b[0m Trial 27 finished with value: 0.9067771894024771 and parameters: {'max_depth': 5, 'max_features': 5}. Best is trial 10 with value: 0.907543944880966.\u001b[0m\n",
            "\u001b[32m[I 2023-04-03 13:08:02,469]\u001b[0m Trial 28 finished with value: 0.9065117313919594 and parameters: {'max_depth': 7, 'max_features': 7}. Best is trial 10 with value: 0.907543944880966.\u001b[0m\n",
            "\u001b[32m[I 2023-04-03 13:08:07,250]\u001b[0m Trial 29 finished with value: 0.9055680656607025 and parameters: {'max_depth': 6, 'max_features': 2}. Best is trial 10 with value: 0.907543944880966.\u001b[0m\n",
            "\u001b[32m[I 2023-04-03 13:08:15,278]\u001b[0m Trial 30 finished with value: 0.9065707597513469 and parameters: {'max_depth': 6, 'max_features': 4}. Best is trial 10 with value: 0.907543944880966.\u001b[0m\n",
            "\u001b[32m[I 2023-04-03 13:08:23,230]\u001b[0m Trial 31 finished with value: 0.907543944880966 and parameters: {'max_depth': 6, 'max_features': 5}. Best is trial 10 with value: 0.907543944880966.\u001b[0m\n",
            "\u001b[32m[I 2023-04-03 13:08:32,135]\u001b[0m Trial 32 finished with value: 0.907543944880966 and parameters: {'max_depth': 6, 'max_features': 5}. Best is trial 10 with value: 0.907543944880966.\u001b[0m\n",
            "\u001b[32m[I 2023-04-03 13:08:39,398]\u001b[0m Trial 33 finished with value: 0.9067771894024771 and parameters: {'max_depth': 5, 'max_features': 5}. Best is trial 10 with value: 0.907543944880966.\u001b[0m\n",
            "\u001b[32m[I 2023-04-03 13:08:48,154]\u001b[0m Trial 34 finished with value: 0.9075734486233227 and parameters: {'max_depth': 7, 'max_features': 4}. Best is trial 34 with value: 0.9075734486233227.\u001b[0m\n",
            "\u001b[32m[I 2023-04-03 13:08:57,519]\u001b[0m Trial 35 finished with value: 0.9075734486233227 and parameters: {'max_depth': 7, 'max_features': 4}. Best is trial 34 with value: 0.9075734486233227.\u001b[0m\n",
            "\u001b[32m[I 2023-04-03 13:09:07,001]\u001b[0m Trial 36 finished with value: 0.9075734486233227 and parameters: {'max_depth': 7, 'max_features': 4}. Best is trial 34 with value: 0.9075734486233227.\u001b[0m\n",
            "\u001b[32m[I 2023-04-03 13:09:14,390]\u001b[0m Trial 37 finished with value: 0.904889730082585 and parameters: {'max_depth': 7, 'max_features': 3}. Best is trial 34 with value: 0.9075734486233227.\u001b[0m\n",
            "\u001b[32m[I 2023-04-03 13:09:22,431]\u001b[0m Trial 38 finished with value: 0.9057449863508075 and parameters: {'max_depth': 7, 'max_features': 2}. Best is trial 34 with value: 0.9075734486233227.\u001b[0m\n",
            "\u001b[32m[I 2023-04-03 13:09:31,368]\u001b[0m Trial 39 finished with value: 0.9075734486233227 and parameters: {'max_depth': 7, 'max_features': 4}. Best is trial 34 with value: 0.9075734486233227.\u001b[0m\n",
            "\u001b[32m[I 2023-04-03 13:09:40,894]\u001b[0m Trial 40 finished with value: 0.9075734486233227 and parameters: {'max_depth': 7, 'max_features': 4}. Best is trial 34 with value: 0.9075734486233227.\u001b[0m\n",
            "\u001b[32m[I 2023-04-03 13:09:50,352]\u001b[0m Trial 41 finished with value: 0.9075734486233227 and parameters: {'max_depth': 7, 'max_features': 4}. Best is trial 34 with value: 0.9075734486233227.\u001b[0m\n",
            "\u001b[32m[I 2023-04-03 13:09:57,437]\u001b[0m Trial 42 finished with value: 0.904889730082585 and parameters: {'max_depth': 7, 'max_features': 3}. Best is trial 34 with value: 0.9075734486233227.\u001b[0m\n",
            "\u001b[32m[I 2023-04-03 13:10:06,780]\u001b[0m Trial 43 finished with value: 0.9075734486233227 and parameters: {'max_depth': 7, 'max_features': 4}. Best is trial 34 with value: 0.9075734486233227.\u001b[0m\n",
            "\u001b[32m[I 2023-04-03 13:10:14,976]\u001b[0m Trial 44 finished with value: 0.904889730082585 and parameters: {'max_depth': 7, 'max_features': 3}. Best is trial 34 with value: 0.9075734486233227.\u001b[0m\n",
            "\u001b[32m[I 2023-04-03 13:10:17,734]\u001b[0m Trial 45 finished with value: 0.9012327794442117 and parameters: {'max_depth': 2, 'max_features': 4}. Best is trial 34 with value: 0.9075734486233227.\u001b[0m\n",
            "\u001b[32m[I 2023-04-03 13:10:27,088]\u001b[0m Trial 46 finished with value: 0.9075734486233227 and parameters: {'max_depth': 7, 'max_features': 4}. Best is trial 34 with value: 0.9075734486233227.\u001b[0m\n",
            "\u001b[32m[I 2023-04-03 13:10:30,261]\u001b[0m Trial 47 finished with value: 0.9035920925044061 and parameters: {'max_depth': 3, 'max_features': 3}. Best is trial 34 with value: 0.9075734486233227.\u001b[0m\n",
            "\u001b[32m[I 2023-04-03 13:10:39,523]\u001b[0m Trial 48 finished with value: 0.9075734486233227 and parameters: {'max_depth': 7, 'max_features': 4}. Best is trial 34 with value: 0.9075734486233227.\u001b[0m\n",
            "\u001b[32m[I 2023-04-03 13:10:48,154]\u001b[0m Trial 49 finished with value: 0.9075734486233227 and parameters: {'max_depth': 7, 'max_features': 4}. Best is trial 34 with value: 0.9075734486233227.\u001b[0m\n"
          ]
        },
        {
          "output_type": "stream",
          "name": "stdout",
          "text": [
            "Best parameters for Random Forest:  {'max_depth': 7, 'max_features': 7}\n",
            "Best cross-validation score for Random Forest:  0.904594864875078\n",
            "Best parameters for XGBoost:  {'max_depth': 3, 'colsample_bytree': 0.9144834355853232}\n",
            "Best cross-validation score for XGBoost:  0.9074555562926055\n",
            "Best parameters for Light GBM:  {'max_depth': 7, 'feature_fraction': 0.5675276628937476}\n",
            "Best cross-validation score for Light GBM:  0.9075734538419913\n",
            "Best parameters for Gradient Boosting:  {'max_depth': 7, 'max_features': 4}\n"
          ]
        }
      ]
    },
    {
      "cell_type": "markdown",
      "source": [
        "For Q3 and Q4 ,use the following data."
      ],
      "metadata": {
        "id": "jR2k2_rfg5PD"
      }
    },
    {
      "cell_type": "code",
      "source": [
        "dr=pd.read_csv('https://raw.githubusercontent.com/ogut77/DataScience/main/data/diamond.csv')\n",
        "dr"
      ],
      "metadata": {
        "id": "1XezD-d0fKRD",
        "outputId": "1f0c5fe1-186d-4c14-bf39-db49916f47b7",
        "colab": {
          "base_uri": "https://localhost:8080/",
          "height": 424
        }
      },
      "execution_count": 15,
      "outputs": [
        {
          "output_type": "execute_result",
          "data": {
            "text/plain": [
              "      Carat Weight              Cut Color Clarity Polish Symmetry Report  \\\n",
              "0             1.10            Ideal     H     SI1     VG       EX    GIA   \n",
              "1             0.83            Ideal     H     VS1     ID       ID   AGSL   \n",
              "2             0.85            Ideal     H     SI1     EX       EX    GIA   \n",
              "3             0.91            Ideal     E     SI1     VG       VG    GIA   \n",
              "4             0.83            Ideal     G     SI1     EX       EX    GIA   \n",
              "...            ...              ...   ...     ...    ...      ...    ...   \n",
              "5995          1.03            Ideal     D     SI1     EX       EX    GIA   \n",
              "5996          1.00        Very Good     D     SI1     VG       VG    GIA   \n",
              "5997          1.02            Ideal     D     SI1     EX       EX    GIA   \n",
              "5998          1.27  Signature-Ideal     G     VS1     EX       EX    GIA   \n",
              "5999          2.19            Ideal     E     VS1     EX       EX    GIA   \n",
              "\n",
              "      Price  \n",
              "0      5169  \n",
              "1      3470  \n",
              "2      3183  \n",
              "3      4370  \n",
              "4      3171  \n",
              "...     ...  \n",
              "5995   6250  \n",
              "5996   5328  \n",
              "5997   6157  \n",
              "5998  11206  \n",
              "5999  30507  \n",
              "\n",
              "[6000 rows x 8 columns]"
            ],
            "text/html": [
              "\n",
              "  <div id=\"df-b9e2107f-c31f-43b0-b960-88e500dbf6fc\">\n",
              "    <div class=\"colab-df-container\">\n",
              "      <div>\n",
              "<style scoped>\n",
              "    .dataframe tbody tr th:only-of-type {\n",
              "        vertical-align: middle;\n",
              "    }\n",
              "\n",
              "    .dataframe tbody tr th {\n",
              "        vertical-align: top;\n",
              "    }\n",
              "\n",
              "    .dataframe thead th {\n",
              "        text-align: right;\n",
              "    }\n",
              "</style>\n",
              "<table border=\"1\" class=\"dataframe\">\n",
              "  <thead>\n",
              "    <tr style=\"text-align: right;\">\n",
              "      <th></th>\n",
              "      <th>Carat Weight</th>\n",
              "      <th>Cut</th>\n",
              "      <th>Color</th>\n",
              "      <th>Clarity</th>\n",
              "      <th>Polish</th>\n",
              "      <th>Symmetry</th>\n",
              "      <th>Report</th>\n",
              "      <th>Price</th>\n",
              "    </tr>\n",
              "  </thead>\n",
              "  <tbody>\n",
              "    <tr>\n",
              "      <th>0</th>\n",
              "      <td>1.10</td>\n",
              "      <td>Ideal</td>\n",
              "      <td>H</td>\n",
              "      <td>SI1</td>\n",
              "      <td>VG</td>\n",
              "      <td>EX</td>\n",
              "      <td>GIA</td>\n",
              "      <td>5169</td>\n",
              "    </tr>\n",
              "    <tr>\n",
              "      <th>1</th>\n",
              "      <td>0.83</td>\n",
              "      <td>Ideal</td>\n",
              "      <td>H</td>\n",
              "      <td>VS1</td>\n",
              "      <td>ID</td>\n",
              "      <td>ID</td>\n",
              "      <td>AGSL</td>\n",
              "      <td>3470</td>\n",
              "    </tr>\n",
              "    <tr>\n",
              "      <th>2</th>\n",
              "      <td>0.85</td>\n",
              "      <td>Ideal</td>\n",
              "      <td>H</td>\n",
              "      <td>SI1</td>\n",
              "      <td>EX</td>\n",
              "      <td>EX</td>\n",
              "      <td>GIA</td>\n",
              "      <td>3183</td>\n",
              "    </tr>\n",
              "    <tr>\n",
              "      <th>3</th>\n",
              "      <td>0.91</td>\n",
              "      <td>Ideal</td>\n",
              "      <td>E</td>\n",
              "      <td>SI1</td>\n",
              "      <td>VG</td>\n",
              "      <td>VG</td>\n",
              "      <td>GIA</td>\n",
              "      <td>4370</td>\n",
              "    </tr>\n",
              "    <tr>\n",
              "      <th>4</th>\n",
              "      <td>0.83</td>\n",
              "      <td>Ideal</td>\n",
              "      <td>G</td>\n",
              "      <td>SI1</td>\n",
              "      <td>EX</td>\n",
              "      <td>EX</td>\n",
              "      <td>GIA</td>\n",
              "      <td>3171</td>\n",
              "    </tr>\n",
              "    <tr>\n",
              "      <th>...</th>\n",
              "      <td>...</td>\n",
              "      <td>...</td>\n",
              "      <td>...</td>\n",
              "      <td>...</td>\n",
              "      <td>...</td>\n",
              "      <td>...</td>\n",
              "      <td>...</td>\n",
              "      <td>...</td>\n",
              "    </tr>\n",
              "    <tr>\n",
              "      <th>5995</th>\n",
              "      <td>1.03</td>\n",
              "      <td>Ideal</td>\n",
              "      <td>D</td>\n",
              "      <td>SI1</td>\n",
              "      <td>EX</td>\n",
              "      <td>EX</td>\n",
              "      <td>GIA</td>\n",
              "      <td>6250</td>\n",
              "    </tr>\n",
              "    <tr>\n",
              "      <th>5996</th>\n",
              "      <td>1.00</td>\n",
              "      <td>Very Good</td>\n",
              "      <td>D</td>\n",
              "      <td>SI1</td>\n",
              "      <td>VG</td>\n",
              "      <td>VG</td>\n",
              "      <td>GIA</td>\n",
              "      <td>5328</td>\n",
              "    </tr>\n",
              "    <tr>\n",
              "      <th>5997</th>\n",
              "      <td>1.02</td>\n",
              "      <td>Ideal</td>\n",
              "      <td>D</td>\n",
              "      <td>SI1</td>\n",
              "      <td>EX</td>\n",
              "      <td>EX</td>\n",
              "      <td>GIA</td>\n",
              "      <td>6157</td>\n",
              "    </tr>\n",
              "    <tr>\n",
              "      <th>5998</th>\n",
              "      <td>1.27</td>\n",
              "      <td>Signature-Ideal</td>\n",
              "      <td>G</td>\n",
              "      <td>VS1</td>\n",
              "      <td>EX</td>\n",
              "      <td>EX</td>\n",
              "      <td>GIA</td>\n",
              "      <td>11206</td>\n",
              "    </tr>\n",
              "    <tr>\n",
              "      <th>5999</th>\n",
              "      <td>2.19</td>\n",
              "      <td>Ideal</td>\n",
              "      <td>E</td>\n",
              "      <td>VS1</td>\n",
              "      <td>EX</td>\n",
              "      <td>EX</td>\n",
              "      <td>GIA</td>\n",
              "      <td>30507</td>\n",
              "    </tr>\n",
              "  </tbody>\n",
              "</table>\n",
              "<p>6000 rows × 8 columns</p>\n",
              "</div>\n",
              "      <button class=\"colab-df-convert\" onclick=\"convertToInteractive('df-b9e2107f-c31f-43b0-b960-88e500dbf6fc')\"\n",
              "              title=\"Convert this dataframe to an interactive table.\"\n",
              "              style=\"display:none;\">\n",
              "        \n",
              "  <svg xmlns=\"http://www.w3.org/2000/svg\" height=\"24px\"viewBox=\"0 0 24 24\"\n",
              "       width=\"24px\">\n",
              "    <path d=\"M0 0h24v24H0V0z\" fill=\"none\"/>\n",
              "    <path d=\"M18.56 5.44l.94 2.06.94-2.06 2.06-.94-2.06-.94-.94-2.06-.94 2.06-2.06.94zm-11 1L8.5 8.5l.94-2.06 2.06-.94-2.06-.94L8.5 2.5l-.94 2.06-2.06.94zm10 10l.94 2.06.94-2.06 2.06-.94-2.06-.94-.94-2.06-.94 2.06-2.06.94z\"/><path d=\"M17.41 7.96l-1.37-1.37c-.4-.4-.92-.59-1.43-.59-.52 0-1.04.2-1.43.59L10.3 9.45l-7.72 7.72c-.78.78-.78 2.05 0 2.83L4 21.41c.39.39.9.59 1.41.59.51 0 1.02-.2 1.41-.59l7.78-7.78 2.81-2.81c.8-.78.8-2.07 0-2.86zM5.41 20L4 18.59l7.72-7.72 1.47 1.35L5.41 20z\"/>\n",
              "  </svg>\n",
              "      </button>\n",
              "      \n",
              "  <style>\n",
              "    .colab-df-container {\n",
              "      display:flex;\n",
              "      flex-wrap:wrap;\n",
              "      gap: 12px;\n",
              "    }\n",
              "\n",
              "    .colab-df-convert {\n",
              "      background-color: #E8F0FE;\n",
              "      border: none;\n",
              "      border-radius: 50%;\n",
              "      cursor: pointer;\n",
              "      display: none;\n",
              "      fill: #1967D2;\n",
              "      height: 32px;\n",
              "      padding: 0 0 0 0;\n",
              "      width: 32px;\n",
              "    }\n",
              "\n",
              "    .colab-df-convert:hover {\n",
              "      background-color: #E2EBFA;\n",
              "      box-shadow: 0px 1px 2px rgba(60, 64, 67, 0.3), 0px 1px 3px 1px rgba(60, 64, 67, 0.15);\n",
              "      fill: #174EA6;\n",
              "    }\n",
              "\n",
              "    [theme=dark] .colab-df-convert {\n",
              "      background-color: #3B4455;\n",
              "      fill: #D2E3FC;\n",
              "    }\n",
              "\n",
              "    [theme=dark] .colab-df-convert:hover {\n",
              "      background-color: #434B5C;\n",
              "      box-shadow: 0px 1px 3px 1px rgba(0, 0, 0, 0.15);\n",
              "      filter: drop-shadow(0px 1px 2px rgba(0, 0, 0, 0.3));\n",
              "      fill: #FFFFFF;\n",
              "    }\n",
              "  </style>\n",
              "\n",
              "      <script>\n",
              "        const buttonEl =\n",
              "          document.querySelector('#df-b9e2107f-c31f-43b0-b960-88e500dbf6fc button.colab-df-convert');\n",
              "        buttonEl.style.display =\n",
              "          google.colab.kernel.accessAllowed ? 'block' : 'none';\n",
              "\n",
              "        async function convertToInteractive(key) {\n",
              "          const element = document.querySelector('#df-b9e2107f-c31f-43b0-b960-88e500dbf6fc');\n",
              "          const dataTable =\n",
              "            await google.colab.kernel.invokeFunction('convertToInteractive',\n",
              "                                                     [key], {});\n",
              "          if (!dataTable) return;\n",
              "\n",
              "          const docLinkHtml = 'Like what you see? Visit the ' +\n",
              "            '<a target=\"_blank\" href=https://colab.research.google.com/notebooks/data_table.ipynb>data table notebook</a>'\n",
              "            + ' to learn more about interactive tables.';\n",
              "          element.innerHTML = '';\n",
              "          dataTable['output_type'] = 'display_data';\n",
              "          await google.colab.output.renderOutput(dataTable, element);\n",
              "          const docLink = document.createElement('div');\n",
              "          docLink.innerHTML = docLinkHtml;\n",
              "          element.appendChild(docLink);\n",
              "        }\n",
              "      </script>\n",
              "    </div>\n",
              "  </div>\n",
              "  "
            ]
          },
          "metadata": {},
          "execution_count": 15
        }
      ]
    },
    {
      "cell_type": "code",
      "source": [
        "def Encoder(df):\n",
        "          from sklearn import preprocessing\n",
        "          columnsToEncode = list(df.select_dtypes(include=['category','object']))\n",
        "          le = preprocessing.LabelEncoder()\n",
        "          for feature in columnsToEncode:\n",
        "              try:\n",
        "                  df[feature] = le.fit_transform(df[feature])\n",
        "              except:\n",
        "                  print('Error encoding '+feature)\n",
        "          return df\n"
      ],
      "metadata": {
        "id": "zTuFQHpVfoxH"
      },
      "execution_count": 16,
      "outputs": []
    },
    {
      "cell_type": "code",
      "source": [
        "dr=Encoder(dr)\n",
        "dr"
      ],
      "metadata": {
        "id": "nxX6G5tNgWOh",
        "outputId": "c2c17aef-bbf1-4c7a-b4f6-a206c06a4c6a",
        "colab": {
          "base_uri": "https://localhost:8080/",
          "height": 424
        }
      },
      "execution_count": 17,
      "outputs": [
        {
          "output_type": "execute_result",
          "data": {
            "text/plain": [
              "      Carat Weight  Cut  Color  Clarity  Polish  Symmetry  Report  Price\n",
              "0             1.10    2      4        2       3         0       1   5169\n",
              "1             0.83    2      4        3       2         2       0   3470\n",
              "2             0.85    2      4        2       0         0       1   3183\n",
              "3             0.91    2      1        2       3         3       1   4370\n",
              "4             0.83    2      3        2       0         0       1   3171\n",
              "...            ...  ...    ...      ...     ...       ...     ...    ...\n",
              "5995          1.03    2      0        2       0         0       1   6250\n",
              "5996          1.00    4      0        2       3         3       1   5328\n",
              "5997          1.02    2      0        2       0         0       1   6157\n",
              "5998          1.27    3      3        3       0         0       1  11206\n",
              "5999          2.19    2      1        3       0         0       1  30507\n",
              "\n",
              "[6000 rows x 8 columns]"
            ],
            "text/html": [
              "\n",
              "  <div id=\"df-8f9a6e8f-d60c-43ee-bf34-7f369c45592d\">\n",
              "    <div class=\"colab-df-container\">\n",
              "      <div>\n",
              "<style scoped>\n",
              "    .dataframe tbody tr th:only-of-type {\n",
              "        vertical-align: middle;\n",
              "    }\n",
              "\n",
              "    .dataframe tbody tr th {\n",
              "        vertical-align: top;\n",
              "    }\n",
              "\n",
              "    .dataframe thead th {\n",
              "        text-align: right;\n",
              "    }\n",
              "</style>\n",
              "<table border=\"1\" class=\"dataframe\">\n",
              "  <thead>\n",
              "    <tr style=\"text-align: right;\">\n",
              "      <th></th>\n",
              "      <th>Carat Weight</th>\n",
              "      <th>Cut</th>\n",
              "      <th>Color</th>\n",
              "      <th>Clarity</th>\n",
              "      <th>Polish</th>\n",
              "      <th>Symmetry</th>\n",
              "      <th>Report</th>\n",
              "      <th>Price</th>\n",
              "    </tr>\n",
              "  </thead>\n",
              "  <tbody>\n",
              "    <tr>\n",
              "      <th>0</th>\n",
              "      <td>1.10</td>\n",
              "      <td>2</td>\n",
              "      <td>4</td>\n",
              "      <td>2</td>\n",
              "      <td>3</td>\n",
              "      <td>0</td>\n",
              "      <td>1</td>\n",
              "      <td>5169</td>\n",
              "    </tr>\n",
              "    <tr>\n",
              "      <th>1</th>\n",
              "      <td>0.83</td>\n",
              "      <td>2</td>\n",
              "      <td>4</td>\n",
              "      <td>3</td>\n",
              "      <td>2</td>\n",
              "      <td>2</td>\n",
              "      <td>0</td>\n",
              "      <td>3470</td>\n",
              "    </tr>\n",
              "    <tr>\n",
              "      <th>2</th>\n",
              "      <td>0.85</td>\n",
              "      <td>2</td>\n",
              "      <td>4</td>\n",
              "      <td>2</td>\n",
              "      <td>0</td>\n",
              "      <td>0</td>\n",
              "      <td>1</td>\n",
              "      <td>3183</td>\n",
              "    </tr>\n",
              "    <tr>\n",
              "      <th>3</th>\n",
              "      <td>0.91</td>\n",
              "      <td>2</td>\n",
              "      <td>1</td>\n",
              "      <td>2</td>\n",
              "      <td>3</td>\n",
              "      <td>3</td>\n",
              "      <td>1</td>\n",
              "      <td>4370</td>\n",
              "    </tr>\n",
              "    <tr>\n",
              "      <th>4</th>\n",
              "      <td>0.83</td>\n",
              "      <td>2</td>\n",
              "      <td>3</td>\n",
              "      <td>2</td>\n",
              "      <td>0</td>\n",
              "      <td>0</td>\n",
              "      <td>1</td>\n",
              "      <td>3171</td>\n",
              "    </tr>\n",
              "    <tr>\n",
              "      <th>...</th>\n",
              "      <td>...</td>\n",
              "      <td>...</td>\n",
              "      <td>...</td>\n",
              "      <td>...</td>\n",
              "      <td>...</td>\n",
              "      <td>...</td>\n",
              "      <td>...</td>\n",
              "      <td>...</td>\n",
              "    </tr>\n",
              "    <tr>\n",
              "      <th>5995</th>\n",
              "      <td>1.03</td>\n",
              "      <td>2</td>\n",
              "      <td>0</td>\n",
              "      <td>2</td>\n",
              "      <td>0</td>\n",
              "      <td>0</td>\n",
              "      <td>1</td>\n",
              "      <td>6250</td>\n",
              "    </tr>\n",
              "    <tr>\n",
              "      <th>5996</th>\n",
              "      <td>1.00</td>\n",
              "      <td>4</td>\n",
              "      <td>0</td>\n",
              "      <td>2</td>\n",
              "      <td>3</td>\n",
              "      <td>3</td>\n",
              "      <td>1</td>\n",
              "      <td>5328</td>\n",
              "    </tr>\n",
              "    <tr>\n",
              "      <th>5997</th>\n",
              "      <td>1.02</td>\n",
              "      <td>2</td>\n",
              "      <td>0</td>\n",
              "      <td>2</td>\n",
              "      <td>0</td>\n",
              "      <td>0</td>\n",
              "      <td>1</td>\n",
              "      <td>6157</td>\n",
              "    </tr>\n",
              "    <tr>\n",
              "      <th>5998</th>\n",
              "      <td>1.27</td>\n",
              "      <td>3</td>\n",
              "      <td>3</td>\n",
              "      <td>3</td>\n",
              "      <td>0</td>\n",
              "      <td>0</td>\n",
              "      <td>1</td>\n",
              "      <td>11206</td>\n",
              "    </tr>\n",
              "    <tr>\n",
              "      <th>5999</th>\n",
              "      <td>2.19</td>\n",
              "      <td>2</td>\n",
              "      <td>1</td>\n",
              "      <td>3</td>\n",
              "      <td>0</td>\n",
              "      <td>0</td>\n",
              "      <td>1</td>\n",
              "      <td>30507</td>\n",
              "    </tr>\n",
              "  </tbody>\n",
              "</table>\n",
              "<p>6000 rows × 8 columns</p>\n",
              "</div>\n",
              "      <button class=\"colab-df-convert\" onclick=\"convertToInteractive('df-8f9a6e8f-d60c-43ee-bf34-7f369c45592d')\"\n",
              "              title=\"Convert this dataframe to an interactive table.\"\n",
              "              style=\"display:none;\">\n",
              "        \n",
              "  <svg xmlns=\"http://www.w3.org/2000/svg\" height=\"24px\"viewBox=\"0 0 24 24\"\n",
              "       width=\"24px\">\n",
              "    <path d=\"M0 0h24v24H0V0z\" fill=\"none\"/>\n",
              "    <path d=\"M18.56 5.44l.94 2.06.94-2.06 2.06-.94-2.06-.94-.94-2.06-.94 2.06-2.06.94zm-11 1L8.5 8.5l.94-2.06 2.06-.94-2.06-.94L8.5 2.5l-.94 2.06-2.06.94zm10 10l.94 2.06.94-2.06 2.06-.94-2.06-.94-.94-2.06-.94 2.06-2.06.94z\"/><path d=\"M17.41 7.96l-1.37-1.37c-.4-.4-.92-.59-1.43-.59-.52 0-1.04.2-1.43.59L10.3 9.45l-7.72 7.72c-.78.78-.78 2.05 0 2.83L4 21.41c.39.39.9.59 1.41.59.51 0 1.02-.2 1.41-.59l7.78-7.78 2.81-2.81c.8-.78.8-2.07 0-2.86zM5.41 20L4 18.59l7.72-7.72 1.47 1.35L5.41 20z\"/>\n",
              "  </svg>\n",
              "      </button>\n",
              "      \n",
              "  <style>\n",
              "    .colab-df-container {\n",
              "      display:flex;\n",
              "      flex-wrap:wrap;\n",
              "      gap: 12px;\n",
              "    }\n",
              "\n",
              "    .colab-df-convert {\n",
              "      background-color: #E8F0FE;\n",
              "      border: none;\n",
              "      border-radius: 50%;\n",
              "      cursor: pointer;\n",
              "      display: none;\n",
              "      fill: #1967D2;\n",
              "      height: 32px;\n",
              "      padding: 0 0 0 0;\n",
              "      width: 32px;\n",
              "    }\n",
              "\n",
              "    .colab-df-convert:hover {\n",
              "      background-color: #E2EBFA;\n",
              "      box-shadow: 0px 1px 2px rgba(60, 64, 67, 0.3), 0px 1px 3px 1px rgba(60, 64, 67, 0.15);\n",
              "      fill: #174EA6;\n",
              "    }\n",
              "\n",
              "    [theme=dark] .colab-df-convert {\n",
              "      background-color: #3B4455;\n",
              "      fill: #D2E3FC;\n",
              "    }\n",
              "\n",
              "    [theme=dark] .colab-df-convert:hover {\n",
              "      background-color: #434B5C;\n",
              "      box-shadow: 0px 1px 3px 1px rgba(0, 0, 0, 0.15);\n",
              "      filter: drop-shadow(0px 1px 2px rgba(0, 0, 0, 0.3));\n",
              "      fill: #FFFFFF;\n",
              "    }\n",
              "  </style>\n",
              "\n",
              "      <script>\n",
              "        const buttonEl =\n",
              "          document.querySelector('#df-8f9a6e8f-d60c-43ee-bf34-7f369c45592d button.colab-df-convert');\n",
              "        buttonEl.style.display =\n",
              "          google.colab.kernel.accessAllowed ? 'block' : 'none';\n",
              "\n",
              "        async function convertToInteractive(key) {\n",
              "          const element = document.querySelector('#df-8f9a6e8f-d60c-43ee-bf34-7f369c45592d');\n",
              "          const dataTable =\n",
              "            await google.colab.kernel.invokeFunction('convertToInteractive',\n",
              "                                                     [key], {});\n",
              "          if (!dataTable) return;\n",
              "\n",
              "          const docLinkHtml = 'Like what you see? Visit the ' +\n",
              "            '<a target=\"_blank\" href=https://colab.research.google.com/notebooks/data_table.ipynb>data table notebook</a>'\n",
              "            + ' to learn more about interactive tables.';\n",
              "          element.innerHTML = '';\n",
              "          dataTable['output_type'] = 'display_data';\n",
              "          await google.colab.output.renderOutput(dataTable, element);\n",
              "          const docLink = document.createElement('div');\n",
              "          docLink.innerHTML = docLinkHtml;\n",
              "          element.appendChild(docLink);\n",
              "        }\n",
              "      </script>\n",
              "    </div>\n",
              "  </div>\n",
              "  "
            ]
          },
          "metadata": {},
          "execution_count": 17
        }
      ]
    },
    {
      "cell_type": "code",
      "source": [
        "y = dr['Price'] #Output\n",
        "X = dr.drop('Price',axis=1)\n",
        "X"
      ],
      "metadata": {
        "id": "Kv7SnSAahe1-",
        "outputId": "fa554255-71f2-4e19-c59d-54857b86edf6",
        "colab": {
          "base_uri": "https://localhost:8080/",
          "height": 424
        }
      },
      "execution_count": 18,
      "outputs": [
        {
          "output_type": "execute_result",
          "data": {
            "text/plain": [
              "      Carat Weight  Cut  Color  Clarity  Polish  Symmetry  Report\n",
              "0             1.10    2      4        2       3         0       1\n",
              "1             0.83    2      4        3       2         2       0\n",
              "2             0.85    2      4        2       0         0       1\n",
              "3             0.91    2      1        2       3         3       1\n",
              "4             0.83    2      3        2       0         0       1\n",
              "...            ...  ...    ...      ...     ...       ...     ...\n",
              "5995          1.03    2      0        2       0         0       1\n",
              "5996          1.00    4      0        2       3         3       1\n",
              "5997          1.02    2      0        2       0         0       1\n",
              "5998          1.27    3      3        3       0         0       1\n",
              "5999          2.19    2      1        3       0         0       1\n",
              "\n",
              "[6000 rows x 7 columns]"
            ],
            "text/html": [
              "\n",
              "  <div id=\"df-8a184506-0338-44fc-849c-a28ebcd49372\">\n",
              "    <div class=\"colab-df-container\">\n",
              "      <div>\n",
              "<style scoped>\n",
              "    .dataframe tbody tr th:only-of-type {\n",
              "        vertical-align: middle;\n",
              "    }\n",
              "\n",
              "    .dataframe tbody tr th {\n",
              "        vertical-align: top;\n",
              "    }\n",
              "\n",
              "    .dataframe thead th {\n",
              "        text-align: right;\n",
              "    }\n",
              "</style>\n",
              "<table border=\"1\" class=\"dataframe\">\n",
              "  <thead>\n",
              "    <tr style=\"text-align: right;\">\n",
              "      <th></th>\n",
              "      <th>Carat Weight</th>\n",
              "      <th>Cut</th>\n",
              "      <th>Color</th>\n",
              "      <th>Clarity</th>\n",
              "      <th>Polish</th>\n",
              "      <th>Symmetry</th>\n",
              "      <th>Report</th>\n",
              "    </tr>\n",
              "  </thead>\n",
              "  <tbody>\n",
              "    <tr>\n",
              "      <th>0</th>\n",
              "      <td>1.10</td>\n",
              "      <td>2</td>\n",
              "      <td>4</td>\n",
              "      <td>2</td>\n",
              "      <td>3</td>\n",
              "      <td>0</td>\n",
              "      <td>1</td>\n",
              "    </tr>\n",
              "    <tr>\n",
              "      <th>1</th>\n",
              "      <td>0.83</td>\n",
              "      <td>2</td>\n",
              "      <td>4</td>\n",
              "      <td>3</td>\n",
              "      <td>2</td>\n",
              "      <td>2</td>\n",
              "      <td>0</td>\n",
              "    </tr>\n",
              "    <tr>\n",
              "      <th>2</th>\n",
              "      <td>0.85</td>\n",
              "      <td>2</td>\n",
              "      <td>4</td>\n",
              "      <td>2</td>\n",
              "      <td>0</td>\n",
              "      <td>0</td>\n",
              "      <td>1</td>\n",
              "    </tr>\n",
              "    <tr>\n",
              "      <th>3</th>\n",
              "      <td>0.91</td>\n",
              "      <td>2</td>\n",
              "      <td>1</td>\n",
              "      <td>2</td>\n",
              "      <td>3</td>\n",
              "      <td>3</td>\n",
              "      <td>1</td>\n",
              "    </tr>\n",
              "    <tr>\n",
              "      <th>4</th>\n",
              "      <td>0.83</td>\n",
              "      <td>2</td>\n",
              "      <td>3</td>\n",
              "      <td>2</td>\n",
              "      <td>0</td>\n",
              "      <td>0</td>\n",
              "      <td>1</td>\n",
              "    </tr>\n",
              "    <tr>\n",
              "      <th>...</th>\n",
              "      <td>...</td>\n",
              "      <td>...</td>\n",
              "      <td>...</td>\n",
              "      <td>...</td>\n",
              "      <td>...</td>\n",
              "      <td>...</td>\n",
              "      <td>...</td>\n",
              "    </tr>\n",
              "    <tr>\n",
              "      <th>5995</th>\n",
              "      <td>1.03</td>\n",
              "      <td>2</td>\n",
              "      <td>0</td>\n",
              "      <td>2</td>\n",
              "      <td>0</td>\n",
              "      <td>0</td>\n",
              "      <td>1</td>\n",
              "    </tr>\n",
              "    <tr>\n",
              "      <th>5996</th>\n",
              "      <td>1.00</td>\n",
              "      <td>4</td>\n",
              "      <td>0</td>\n",
              "      <td>2</td>\n",
              "      <td>3</td>\n",
              "      <td>3</td>\n",
              "      <td>1</td>\n",
              "    </tr>\n",
              "    <tr>\n",
              "      <th>5997</th>\n",
              "      <td>1.02</td>\n",
              "      <td>2</td>\n",
              "      <td>0</td>\n",
              "      <td>2</td>\n",
              "      <td>0</td>\n",
              "      <td>0</td>\n",
              "      <td>1</td>\n",
              "    </tr>\n",
              "    <tr>\n",
              "      <th>5998</th>\n",
              "      <td>1.27</td>\n",
              "      <td>3</td>\n",
              "      <td>3</td>\n",
              "      <td>3</td>\n",
              "      <td>0</td>\n",
              "      <td>0</td>\n",
              "      <td>1</td>\n",
              "    </tr>\n",
              "    <tr>\n",
              "      <th>5999</th>\n",
              "      <td>2.19</td>\n",
              "      <td>2</td>\n",
              "      <td>1</td>\n",
              "      <td>3</td>\n",
              "      <td>0</td>\n",
              "      <td>0</td>\n",
              "      <td>1</td>\n",
              "    </tr>\n",
              "  </tbody>\n",
              "</table>\n",
              "<p>6000 rows × 7 columns</p>\n",
              "</div>\n",
              "      <button class=\"colab-df-convert\" onclick=\"convertToInteractive('df-8a184506-0338-44fc-849c-a28ebcd49372')\"\n",
              "              title=\"Convert this dataframe to an interactive table.\"\n",
              "              style=\"display:none;\">\n",
              "        \n",
              "  <svg xmlns=\"http://www.w3.org/2000/svg\" height=\"24px\"viewBox=\"0 0 24 24\"\n",
              "       width=\"24px\">\n",
              "    <path d=\"M0 0h24v24H0V0z\" fill=\"none\"/>\n",
              "    <path d=\"M18.56 5.44l.94 2.06.94-2.06 2.06-.94-2.06-.94-.94-2.06-.94 2.06-2.06.94zm-11 1L8.5 8.5l.94-2.06 2.06-.94-2.06-.94L8.5 2.5l-.94 2.06-2.06.94zm10 10l.94 2.06.94-2.06 2.06-.94-2.06-.94-.94-2.06-.94 2.06-2.06.94z\"/><path d=\"M17.41 7.96l-1.37-1.37c-.4-.4-.92-.59-1.43-.59-.52 0-1.04.2-1.43.59L10.3 9.45l-7.72 7.72c-.78.78-.78 2.05 0 2.83L4 21.41c.39.39.9.59 1.41.59.51 0 1.02-.2 1.41-.59l7.78-7.78 2.81-2.81c.8-.78.8-2.07 0-2.86zM5.41 20L4 18.59l7.72-7.72 1.47 1.35L5.41 20z\"/>\n",
              "  </svg>\n",
              "      </button>\n",
              "      \n",
              "  <style>\n",
              "    .colab-df-container {\n",
              "      display:flex;\n",
              "      flex-wrap:wrap;\n",
              "      gap: 12px;\n",
              "    }\n",
              "\n",
              "    .colab-df-convert {\n",
              "      background-color: #E8F0FE;\n",
              "      border: none;\n",
              "      border-radius: 50%;\n",
              "      cursor: pointer;\n",
              "      display: none;\n",
              "      fill: #1967D2;\n",
              "      height: 32px;\n",
              "      padding: 0 0 0 0;\n",
              "      width: 32px;\n",
              "    }\n",
              "\n",
              "    .colab-df-convert:hover {\n",
              "      background-color: #E2EBFA;\n",
              "      box-shadow: 0px 1px 2px rgba(60, 64, 67, 0.3), 0px 1px 3px 1px rgba(60, 64, 67, 0.15);\n",
              "      fill: #174EA6;\n",
              "    }\n",
              "\n",
              "    [theme=dark] .colab-df-convert {\n",
              "      background-color: #3B4455;\n",
              "      fill: #D2E3FC;\n",
              "    }\n",
              "\n",
              "    [theme=dark] .colab-df-convert:hover {\n",
              "      background-color: #434B5C;\n",
              "      box-shadow: 0px 1px 3px 1px rgba(0, 0, 0, 0.15);\n",
              "      filter: drop-shadow(0px 1px 2px rgba(0, 0, 0, 0.3));\n",
              "      fill: #FFFFFF;\n",
              "    }\n",
              "  </style>\n",
              "\n",
              "      <script>\n",
              "        const buttonEl =\n",
              "          document.querySelector('#df-8a184506-0338-44fc-849c-a28ebcd49372 button.colab-df-convert');\n",
              "        buttonEl.style.display =\n",
              "          google.colab.kernel.accessAllowed ? 'block' : 'none';\n",
              "\n",
              "        async function convertToInteractive(key) {\n",
              "          const element = document.querySelector('#df-8a184506-0338-44fc-849c-a28ebcd49372');\n",
              "          const dataTable =\n",
              "            await google.colab.kernel.invokeFunction('convertToInteractive',\n",
              "                                                     [key], {});\n",
              "          if (!dataTable) return;\n",
              "\n",
              "          const docLinkHtml = 'Like what you see? Visit the ' +\n",
              "            '<a target=\"_blank\" href=https://colab.research.google.com/notebooks/data_table.ipynb>data table notebook</a>'\n",
              "            + ' to learn more about interactive tables.';\n",
              "          element.innerHTML = '';\n",
              "          dataTable['output_type'] = 'display_data';\n",
              "          await google.colab.output.renderOutput(dataTable, element);\n",
              "          const docLink = document.createElement('div');\n",
              "          docLink.innerHTML = docLinkHtml;\n",
              "          element.appendChild(docLink);\n",
              "        }\n",
              "      </script>\n",
              "    </div>\n",
              "  </div>\n",
              "  "
            ]
          },
          "metadata": {},
          "execution_count": 18
        }
      ]
    },
    {
      "cell_type": "code",
      "source": [
        "from sklearn.model_selection import  train_test_split\n",
        "X_train, X_test, y_train, y_test = train_test_split(X, y, test_size=0.25, random_state=17)"
      ],
      "metadata": {
        "id": "KOLT3hfbgz7F"
      },
      "execution_count": 19,
      "outputs": []
    },
    {
      "cell_type": "markdown",
      "source": [
        "Q3)Using Linear Regression,Decison Tree Random Forest,XGBoost, Light GBM and Gradient Boosting Classifier with default parameters (no parameter specifications except random_state) calculate R2 statistics on test data. Which method gives the best accuracy on test data"
      ],
      "metadata": {
        "id": "GzkaMEVGZ0pS"
      }
    },
    {
      "cell_type": "code",
      "source": [
        "from sklearn.linear_model import LinearRegression\n",
        "from sklearn.tree import DecisionTreeRegressor\n",
        "from sklearn.ensemble import RandomForestRegressor, GradientBoostingRegressor\n",
        "from xgboost import XGBRegressor\n",
        "from lightgbm import LGBMRegressor\n",
        "from sklearn.metrics import r2_score\n",
        "\n",
        "lr = LinearRegression()\n",
        "lr.fit(X_train, y_train)\n",
        "lr_preds = lr.predict(X_test)\n",
        "lr_r2 = r2_score(y_test, lr_preds)\n",
        "\n",
        "dt = DecisionTreeRegressor(random_state=17)\n",
        "dt.fit(X_train, y_train)\n",
        "dt_preds = dt.predict(X_test)\n",
        "dt_r2 = r2_score(y_test, dt_preds)\n",
        "\n",
        "rf = RandomForestRegressor(random_state=17)\n",
        "rf.fit(X_train, y_train)\n",
        "rf_preds = rf.predict(X_test)\n",
        "rf_r2 = r2_score(y_test, rf_preds)\n",
        "\n",
        "xgb = XGBRegressor(random_state=17)\n",
        "xgb.fit(X_train, y_train)\n",
        "xgb_preds = xgb.predict(X_test)\n",
        "xgb_r2 = r2_score(y_test, xgb_preds)\n",
        "\n",
        "lgbm = LGBMRegressor(random_state=17)\n",
        "lgbm.fit(X_train, y_train)\n",
        "lgbm_preds = lgbm.predict(X_test)\n",
        "lgbm_r2 = r2_score(y_test, lgbm_preds)\n",
        "\n",
        "gb = GradientBoostingRegressor(random_state=17)\n",
        "gb.fit(X_train, y_train)\n",
        "gb_preds = gb.predict(X_test)\n",
        "gb_r2 = r2_score(y_test, gb_preds)\n",
        "\n",
        "\n",
        "print(f\"Linear Regression R2: {lr_r2}\")\n",
        "print(f\"Decision Tree R2: {dt_r2}\")\n",
        "print(f\"Random Forest R2: {rf_r2}\")\n",
        "print(f\"XGBoost R2: {xgb_r2}\")\n",
        "print(f\"Light GBM R2: {lgbm_r2}\")\n",
        "print(f\"Gradient Boosting R2: {gb_r2}\")"
      ],
      "metadata": {
        "colab": {
          "base_uri": "https://localhost:8080/"
        },
        "id": "hX9lUJ9BVu-M",
        "outputId": "ff0cb47d-7c1c-40fd-e18b-461ff32f731c"
      },
      "execution_count": 20,
      "outputs": [
        {
          "output_type": "stream",
          "name": "stdout",
          "text": [
            "Linear Regression R2: 0.823384582969696\n",
            "Decision Tree R2: 0.95923297527452\n",
            "Random Forest R2: 0.9799660276771226\n",
            "XGBoost R2: 0.9803113835881238\n",
            "Light GBM R2: 0.9812609895578275\n",
            "Gradient Boosting R2: 0.9739035655494326\n"
          ]
        }
      ]
    },
    {
      "cell_type": "code",
      "source": [
        "models = ['Linear Regression', 'Decision Tree', 'Random Forest', 'XGBoost', 'Light GBM', 'Gradient Boosting']\n",
        "r2_scores = [lr_r2, dt_r2, rf_r2, xgb_r2, lgbm_r2, gb_r2]\n",
        "best_model = models[np.argmax(r2_scores)]\n",
        "print(f\"The best model is {best_model} with an R2 score of {max(r2_scores)}\")"
      ],
      "metadata": {
        "colab": {
          "base_uri": "https://localhost:8080/"
        },
        "id": "3Ss_PiD8VyRG",
        "outputId": "143f9a3d-a03e-47bc-d814-598e7d156cbc"
      },
      "execution_count": 21,
      "outputs": [
        {
          "output_type": "stream",
          "name": "stdout",
          "text": [
            "The best model is Light GBM with an R2 score of 0.9812609895578275\n"
          ]
        }
      ]
    },
    {
      "cell_type": "markdown",
      "source": [
        "Q4) Using optuna hyperparmeter optimization technique (100 trial)  with Random Forest,XGBoost, Light GBM and Gradient Boosting Regressor\n",
        "\n",
        "a)find best methods with  parameters  using Cross validation (CV=3) technique for the range of   parameters below. What are the best parameters for the method with highest cross validation R2?\n",
        "\n",
        "\"max_depth\": range(2, 7), \"max_features\": range(2, 7)\n",
        "\n",
        " b)Evaluate the performance of the  method with highest cross validation R2 on test data. What is the R2 value?\n"
      ],
      "metadata": {
        "id": "nksEpGl5bDv3"
      }
    },
    {
      "cell_type": "code",
      "source": [
        "def objective_rf(trial):\n",
        "    max_depth = trial.suggest_int(\"max_depth\", 2, 7)\n",
        "    max_features = trial.suggest_int(\"max_features\", 2, 7)\n",
        "    clf = RandomForestRegressor(max_depth=max_depth, max_features=max_features, random_state=17, n_jobs=-1)\n",
        "    return np.mean(cross_val_score(clf, X_train, y_train, cv=3, scoring='r2'))\n",
        "\n",
        "def objective_xgb(trial):\n",
        "    max_depth = trial.suggest_int(\"max_depth\", 2, 7)\n",
        "    colsample_bytree = trial.suggest_float(\"colsample_bytree\", 0.1, 1)\n",
        "    clf = XGBRegressor(max_depth=max_depth, colsample_bytree=colsample_bytree, random_state=17)\n",
        "    return np.mean(cross_val_score(clf, X_train, y_train, cv=3, scoring='r2'))\n",
        "\n",
        "def objective_lgbm(trial):\n",
        "    max_depth = trial.suggest_int(\"max_depth\", 2, 7)\n",
        "    feature_fraction = trial.suggest_float(\"feature_fraction\", 0.1, 1)\n",
        "    clf = LGBMRegressor(max_depth=max_depth, feature_fraction=feature_fraction, random_state=17)\n",
        "    return np.mean(cross_val_score(clf, X_train, y_train, cv=3, scoring='r2'))\n",
        "\n",
        "def objective_gb(trial):\n",
        "    max_depth = trial.suggest_int(\"max_depth\", 2, 7)\n",
        "    max_features = trial.suggest_int(\"max_features\", 2, 7)\n",
        "    clf = GradientBoostingRegressor(max_depth=max_depth, max_features=max_features, random_state=17)\n",
        "    return np.mean(cross_val_score(clf, X_train, y_train, cv=3, scoring='r2'))\n",
        "\n",
        "\n",
        "study_rf = optuna.create_study(direction=\"maximize\")\n",
        "study_rf.optimize(objective_rf, n_trials=100)\n",
        "\n",
        "study_xgb = optuna.create_study(direction=\"maximize\")\n",
        "study_xgb.optimize(objective_xgb, n_trials=100)\n",
        "\n",
        "study_lgbm = optuna.create_study(direction=\"maximize\")\n",
        "study_lgbm.optimize(objective_lgbm, n_trials=100)\n",
        "\n",
        "study_gb = optuna.create_study(direction=\"maximize\")\n",
        "study_gb.optimize(objective_gb, n_trials=100)"
      ],
      "metadata": {
        "colab": {
          "base_uri": "https://localhost:8080/"
        },
        "id": "QU9TAvtwWzaU",
        "outputId": "a8b6bb66-b489-49a5-c99f-452d8e5599e6"
      },
      "execution_count": 22,
      "outputs": [
        {
          "output_type": "stream",
          "name": "stderr",
          "text": [
            "\u001b[32m[I 2023-04-03 13:45:18,801]\u001b[0m A new study created in memory with name: no-name-98de43ef-a3c3-4329-8a87-bc2030ce6f29\u001b[0m\n",
            "\u001b[32m[I 2023-04-03 13:45:20,687]\u001b[0m Trial 0 finished with value: 0.8639582097697365 and parameters: {'max_depth': 3, 'max_features': 5}. Best is trial 0 with value: 0.8639582097697365.\u001b[0m\n",
            "\u001b[32m[I 2023-04-03 13:45:22,163]\u001b[0m Trial 1 finished with value: 0.9407314378830723 and parameters: {'max_depth': 5, 'max_features': 4}. Best is trial 1 with value: 0.9407314378830723.\u001b[0m\n",
            "\u001b[32m[I 2023-04-03 13:45:23,715]\u001b[0m Trial 2 finished with value: 0.9111873329071346 and parameters: {'max_depth': 7, 'max_features': 2}. Best is trial 1 with value: 0.9407314378830723.\u001b[0m\n",
            "\u001b[32m[I 2023-04-03 13:45:24,680]\u001b[0m Trial 3 finished with value: 0.8572252151886985 and parameters: {'max_depth': 3, 'max_features': 7}. Best is trial 1 with value: 0.9407314378830723.\u001b[0m\n",
            "\u001b[32m[I 2023-04-03 13:45:25,610]\u001b[0m Trial 4 finished with value: 0.9451625573691955 and parameters: {'max_depth': 5, 'max_features': 6}. Best is trial 4 with value: 0.9451625573691955.\u001b[0m\n",
            "\u001b[32m[I 2023-04-03 13:45:26,326]\u001b[0m Trial 5 finished with value: 0.7739509743309535 and parameters: {'max_depth': 2, 'max_features': 5}. Best is trial 4 with value: 0.9451625573691955.\u001b[0m\n",
            "\u001b[32m[I 2023-04-03 13:45:27,256]\u001b[0m Trial 6 finished with value: 0.9684653578103969 and parameters: {'max_depth': 7, 'max_features': 4}. Best is trial 6 with value: 0.9684653578103969.\u001b[0m\n",
            "\u001b[32m[I 2023-04-03 13:45:28,140]\u001b[0m Trial 7 finished with value: 0.9459607335237087 and parameters: {'max_depth': 5, 'max_features': 5}. Best is trial 6 with value: 0.9684653578103969.\u001b[0m\n",
            "\u001b[32m[I 2023-04-03 13:45:28,910]\u001b[0m Trial 8 finished with value: 0.907429524548952 and parameters: {'max_depth': 4, 'max_features': 4}. Best is trial 6 with value: 0.9684653578103969.\u001b[0m\n",
            "\u001b[32m[I 2023-04-03 13:45:29,680]\u001b[0m Trial 9 finished with value: 0.8437742151001094 and parameters: {'max_depth': 5, 'max_features': 2}. Best is trial 6 with value: 0.9684653578103969.\u001b[0m\n",
            "\u001b[32m[I 2023-04-03 13:45:30,606]\u001b[0m Trial 10 finished with value: 0.9533571582401862 and parameters: {'max_depth': 7, 'max_features': 3}. Best is trial 6 with value: 0.9684653578103969.\u001b[0m\n",
            "\u001b[32m[I 2023-04-03 13:45:31,505]\u001b[0m Trial 11 finished with value: 0.9533571582401862 and parameters: {'max_depth': 7, 'max_features': 3}. Best is trial 6 with value: 0.9684653578103969.\u001b[0m\n",
            "\u001b[32m[I 2023-04-03 13:45:32,393]\u001b[0m Trial 12 finished with value: 0.9533571582401862 and parameters: {'max_depth': 7, 'max_features': 3}. Best is trial 6 with value: 0.9684653578103969.\u001b[0m\n",
            "\u001b[32m[I 2023-04-03 13:45:33,193]\u001b[0m Trial 13 finished with value: 0.9375844290578602 and parameters: {'max_depth': 6, 'max_features': 3}. Best is trial 6 with value: 0.9684653578103969.\u001b[0m\n",
            "\u001b[32m[I 2023-04-03 13:45:34,076]\u001b[0m Trial 14 finished with value: 0.9571036896251935 and parameters: {'max_depth': 6, 'max_features': 4}. Best is trial 6 with value: 0.9684653578103969.\u001b[0m\n",
            "\u001b[32m[I 2023-04-03 13:45:35,663]\u001b[0m Trial 15 finished with value: 0.9571036896251935 and parameters: {'max_depth': 6, 'max_features': 4}. Best is trial 6 with value: 0.9684653578103969.\u001b[0m\n",
            "\u001b[32m[I 2023-04-03 13:45:37,509]\u001b[0m Trial 16 finished with value: 0.9633435487968379 and parameters: {'max_depth': 6, 'max_features': 6}. Best is trial 6 with value: 0.9684653578103969.\u001b[0m\n",
            "\u001b[32m[I 2023-04-03 13:45:38,661]\u001b[0m Trial 17 finished with value: 0.9609405790363023 and parameters: {'max_depth': 6, 'max_features': 7}. Best is trial 6 with value: 0.9684653578103969.\u001b[0m\n",
            "\u001b[32m[I 2023-04-03 13:45:39,659]\u001b[0m Trial 18 finished with value: 0.9633435487968379 and parameters: {'max_depth': 6, 'max_features': 6}. Best is trial 6 with value: 0.9684653578103969.\u001b[0m\n",
            "\u001b[32m[I 2023-04-03 13:45:40,517]\u001b[0m Trial 19 finished with value: 0.9153488693549434 and parameters: {'max_depth': 4, 'max_features': 6}. Best is trial 6 with value: 0.9684653578103969.\u001b[0m\n",
            "\u001b[32m[I 2023-04-03 13:45:41,582]\u001b[0m Trial 20 finished with value: 0.9720558623263608 and parameters: {'max_depth': 7, 'max_features': 6}. Best is trial 20 with value: 0.9720558623263608.\u001b[0m\n",
            "\u001b[32m[I 2023-04-03 13:45:42,665]\u001b[0m Trial 21 finished with value: 0.9720558623263608 and parameters: {'max_depth': 7, 'max_features': 6}. Best is trial 20 with value: 0.9720558623263608.\u001b[0m\n",
            "\u001b[32m[I 2023-04-03 13:45:43,797]\u001b[0m Trial 22 finished with value: 0.9710219510219829 and parameters: {'max_depth': 7, 'max_features': 7}. Best is trial 20 with value: 0.9720558623263608.\u001b[0m\n",
            "\u001b[32m[I 2023-04-03 13:45:44,910]\u001b[0m Trial 23 finished with value: 0.9710219510219829 and parameters: {'max_depth': 7, 'max_features': 7}. Best is trial 20 with value: 0.9720558623263608.\u001b[0m\n",
            "\u001b[32m[I 2023-04-03 13:45:46,011]\u001b[0m Trial 24 finished with value: 0.9710219510219829 and parameters: {'max_depth': 7, 'max_features': 7}. Best is trial 20 with value: 0.9720558623263608.\u001b[0m\n",
            "\u001b[32m[I 2023-04-03 13:45:47,080]\u001b[0m Trial 25 finished with value: 0.9720558623263608 and parameters: {'max_depth': 7, 'max_features': 6}. Best is trial 20 with value: 0.9720558623263608.\u001b[0m\n",
            "\u001b[32m[I 2023-04-03 13:45:48,270]\u001b[0m Trial 26 finished with value: 0.9633435487968379 and parameters: {'max_depth': 6, 'max_features': 6}. Best is trial 20 with value: 0.9720558623263608.\u001b[0m\n",
            "\u001b[32m[I 2023-04-03 13:45:50,220]\u001b[0m Trial 27 finished with value: 0.9720609785033627 and parameters: {'max_depth': 7, 'max_features': 5}. Best is trial 27 with value: 0.9720609785033627.\u001b[0m\n",
            "\u001b[32m[I 2023-04-03 13:45:51,676]\u001b[0m Trial 28 finished with value: 0.9634604096785503 and parameters: {'max_depth': 6, 'max_features': 5}. Best is trial 27 with value: 0.9720609785033627.\u001b[0m\n",
            "\u001b[32m[I 2023-04-03 13:45:52,458]\u001b[0m Trial 29 finished with value: 0.7739509743309535 and parameters: {'max_depth': 2, 'max_features': 5}. Best is trial 27 with value: 0.9720609785033627.\u001b[0m\n",
            "\u001b[32m[I 2023-04-03 13:45:53,295]\u001b[0m Trial 30 finished with value: 0.9187436916750902 and parameters: {'max_depth': 4, 'max_features': 5}. Best is trial 27 with value: 0.9720609785033627.\u001b[0m\n",
            "\u001b[32m[I 2023-04-03 13:45:54,391]\u001b[0m Trial 31 finished with value: 0.9720558623263608 and parameters: {'max_depth': 7, 'max_features': 6}. Best is trial 27 with value: 0.9720609785033627.\u001b[0m\n",
            "\u001b[32m[I 2023-04-03 13:45:55,495]\u001b[0m Trial 32 finished with value: 0.9720558623263608 and parameters: {'max_depth': 7, 'max_features': 6}. Best is trial 27 with value: 0.9720609785033627.\u001b[0m\n",
            "\u001b[32m[I 2023-04-03 13:45:56,562]\u001b[0m Trial 33 finished with value: 0.9720558623263608 and parameters: {'max_depth': 7, 'max_features': 6}. Best is trial 27 with value: 0.9720609785033627.\u001b[0m\n",
            "\u001b[32m[I 2023-04-03 13:45:57,556]\u001b[0m Trial 34 finished with value: 0.9720609785033627 and parameters: {'max_depth': 7, 'max_features': 5}. Best is trial 27 with value: 0.9720609785033627.\u001b[0m\n",
            "\u001b[32m[I 2023-04-03 13:45:58,497]\u001b[0m Trial 35 finished with value: 0.9634604096785503 and parameters: {'max_depth': 6, 'max_features': 5}. Best is trial 27 with value: 0.9720609785033627.\u001b[0m\n",
            "\u001b[32m[I 2023-04-03 13:45:59,269]\u001b[0m Trial 36 finished with value: 0.8639582097697365 and parameters: {'max_depth': 3, 'max_features': 5}. Best is trial 27 with value: 0.9720609785033627.\u001b[0m\n",
            "\u001b[32m[I 2023-04-03 13:46:00,139]\u001b[0m Trial 37 finished with value: 0.9459607335237087 and parameters: {'max_depth': 5, 'max_features': 5}. Best is trial 27 with value: 0.9720609785033627.\u001b[0m\n",
            "\u001b[32m[I 2023-04-03 13:46:01,145]\u001b[0m Trial 38 finished with value: 0.9720609785033627 and parameters: {'max_depth': 7, 'max_features': 5}. Best is trial 27 with value: 0.9720609785033627.\u001b[0m\n",
            "\u001b[32m[I 2023-04-03 13:46:02,612]\u001b[0m Trial 39 finished with value: 0.9407314378830723 and parameters: {'max_depth': 5, 'max_features': 4}. Best is trial 27 with value: 0.9720609785033627.\u001b[0m\n",
            "\u001b[32m[I 2023-04-03 13:46:04,541]\u001b[0m Trial 40 finished with value: 0.9720609785033627 and parameters: {'max_depth': 7, 'max_features': 5}. Best is trial 27 with value: 0.9720609785033627.\u001b[0m\n",
            "\u001b[32m[I 2023-04-03 13:46:05,644]\u001b[0m Trial 41 finished with value: 0.9720609785033627 and parameters: {'max_depth': 7, 'max_features': 5}. Best is trial 27 with value: 0.9720609785033627.\u001b[0m\n",
            "\u001b[32m[I 2023-04-03 13:46:06,740]\u001b[0m Trial 42 finished with value: 0.9720609785033627 and parameters: {'max_depth': 7, 'max_features': 5}. Best is trial 27 with value: 0.9720609785033627.\u001b[0m\n",
            "\u001b[32m[I 2023-04-03 13:46:07,756]\u001b[0m Trial 43 finished with value: 0.9720609785033627 and parameters: {'max_depth': 7, 'max_features': 5}. Best is trial 27 with value: 0.9720609785033627.\u001b[0m\n",
            "\u001b[32m[I 2023-04-03 13:46:08,675]\u001b[0m Trial 44 finished with value: 0.9571036896251935 and parameters: {'max_depth': 6, 'max_features': 4}. Best is trial 27 with value: 0.9720609785033627.\u001b[0m\n",
            "\u001b[32m[I 2023-04-03 13:46:09,659]\u001b[0m Trial 45 finished with value: 0.9720609785033627 and parameters: {'max_depth': 7, 'max_features': 5}. Best is trial 27 with value: 0.9720609785033627.\u001b[0m\n",
            "\u001b[32m[I 2023-04-03 13:46:10,657]\u001b[0m Trial 46 finished with value: 0.9720609785033627 and parameters: {'max_depth': 7, 'max_features': 5}. Best is trial 27 with value: 0.9720609785033627.\u001b[0m\n",
            "\u001b[32m[I 2023-04-03 13:46:11,562]\u001b[0m Trial 47 finished with value: 0.9571036896251935 and parameters: {'max_depth': 6, 'max_features': 4}. Best is trial 27 with value: 0.9720609785033627.\u001b[0m\n",
            "\u001b[32m[I 2023-04-03 13:46:12,512]\u001b[0m Trial 48 finished with value: 0.9684653578103969 and parameters: {'max_depth': 7, 'max_features': 4}. Best is trial 27 with value: 0.9720609785033627.\u001b[0m\n",
            "\u001b[32m[I 2023-04-03 13:46:13,517]\u001b[0m Trial 49 finished with value: 0.9634604096785503 and parameters: {'max_depth': 6, 'max_features': 5}. Best is trial 27 with value: 0.9720609785033627.\u001b[0m\n",
            "\u001b[32m[I 2023-04-03 13:46:14,497]\u001b[0m Trial 50 finished with value: 0.9720609785033627 and parameters: {'max_depth': 7, 'max_features': 5}. Best is trial 27 with value: 0.9720609785033627.\u001b[0m\n",
            "\u001b[32m[I 2023-04-03 13:46:16,223]\u001b[0m Trial 51 finished with value: 0.9720609785033627 and parameters: {'max_depth': 7, 'max_features': 5}. Best is trial 27 with value: 0.9720609785033627.\u001b[0m\n",
            "\u001b[32m[I 2023-04-03 13:46:18,087]\u001b[0m Trial 52 finished with value: 0.9720609785033627 and parameters: {'max_depth': 7, 'max_features': 5}. Best is trial 27 with value: 0.9720609785033627.\u001b[0m\n",
            "\u001b[32m[I 2023-04-03 13:46:19,078]\u001b[0m Trial 53 finished with value: 0.9720609785033627 and parameters: {'max_depth': 7, 'max_features': 5}. Best is trial 27 with value: 0.9720609785033627.\u001b[0m\n",
            "\u001b[32m[I 2023-04-03 13:46:20,053]\u001b[0m Trial 54 finished with value: 0.9684653578103969 and parameters: {'max_depth': 7, 'max_features': 4}. Best is trial 27 with value: 0.9720609785033627.\u001b[0m\n",
            "\u001b[32m[I 2023-04-03 13:46:21,000]\u001b[0m Trial 55 finished with value: 0.9634604096785503 and parameters: {'max_depth': 6, 'max_features': 5}. Best is trial 27 with value: 0.9720609785033627.\u001b[0m\n",
            "\u001b[32m[I 2023-04-03 13:46:21,946]\u001b[0m Trial 56 finished with value: 0.9684653578103969 and parameters: {'max_depth': 7, 'max_features': 4}. Best is trial 27 with value: 0.9720609785033627.\u001b[0m\n",
            "\u001b[32m[I 2023-04-03 13:46:22,898]\u001b[0m Trial 57 finished with value: 0.9684653578103969 and parameters: {'max_depth': 7, 'max_features': 4}. Best is trial 27 with value: 0.9720609785033627.\u001b[0m\n",
            "\u001b[32m[I 2023-04-03 13:46:23,868]\u001b[0m Trial 58 finished with value: 0.9634604096785503 and parameters: {'max_depth': 6, 'max_features': 5}. Best is trial 27 with value: 0.9720609785033627.\u001b[0m\n",
            "\u001b[32m[I 2023-04-03 13:46:25,478]\u001b[0m Trial 59 finished with value: 0.9720558623263608 and parameters: {'max_depth': 7, 'max_features': 6}. Best is trial 27 with value: 0.9720609785033627.\u001b[0m\n",
            "\u001b[32m[I 2023-04-03 13:46:26,424]\u001b[0m Trial 60 finished with value: 0.9634604096785503 and parameters: {'max_depth': 6, 'max_features': 5}. Best is trial 27 with value: 0.9720609785033627.\u001b[0m\n",
            "\u001b[32m[I 2023-04-03 13:46:27,407]\u001b[0m Trial 61 finished with value: 0.9720609785033627 and parameters: {'max_depth': 7, 'max_features': 5}. Best is trial 27 with value: 0.9720609785033627.\u001b[0m\n",
            "\u001b[32m[I 2023-04-03 13:46:28,728]\u001b[0m Trial 62 finished with value: 0.9720609785033627 and parameters: {'max_depth': 7, 'max_features': 5}. Best is trial 27 with value: 0.9720609785033627.\u001b[0m\n",
            "\u001b[32m[I 2023-04-03 13:46:29,981]\u001b[0m Trial 63 finished with value: 0.6998666277730955 and parameters: {'max_depth': 3, 'max_features': 2}. Best is trial 27 with value: 0.9720609785033627.\u001b[0m\n",
            "\u001b[32m[I 2023-04-03 13:46:31,737]\u001b[0m Trial 64 finished with value: 0.9720609785033627 and parameters: {'max_depth': 7, 'max_features': 5}. Best is trial 27 with value: 0.9720609785033627.\u001b[0m\n",
            "\u001b[32m[I 2023-04-03 13:46:32,741]\u001b[0m Trial 65 finished with value: 0.9720609785033627 and parameters: {'max_depth': 7, 'max_features': 5}. Best is trial 27 with value: 0.9720609785033627.\u001b[0m\n",
            "\u001b[32m[I 2023-04-03 13:46:33,667]\u001b[0m Trial 66 finished with value: 0.9684653578103969 and parameters: {'max_depth': 7, 'max_features': 4}. Best is trial 27 with value: 0.9720609785033627.\u001b[0m\n",
            "\u001b[32m[I 2023-04-03 13:46:34,652]\u001b[0m Trial 67 finished with value: 0.9720609785033627 and parameters: {'max_depth': 7, 'max_features': 5}. Best is trial 27 with value: 0.9720609785033627.\u001b[0m\n",
            "\u001b[32m[I 2023-04-03 13:46:35,412]\u001b[0m Trial 68 finished with value: 0.77614653774809 and parameters: {'max_depth': 2, 'max_features': 6}. Best is trial 27 with value: 0.9720609785033627.\u001b[0m\n",
            "\u001b[32m[I 2023-04-03 13:46:36,230]\u001b[0m Trial 69 finished with value: 0.9187436916750902 and parameters: {'max_depth': 4, 'max_features': 5}. Best is trial 27 with value: 0.9720609785033627.\u001b[0m\n",
            "\u001b[32m[I 2023-04-03 13:46:37,207]\u001b[0m Trial 70 finished with value: 0.9633435487968379 and parameters: {'max_depth': 6, 'max_features': 6}. Best is trial 27 with value: 0.9720609785033627.\u001b[0m\n",
            "\u001b[32m[I 2023-04-03 13:46:38,192]\u001b[0m Trial 71 finished with value: 0.9720609785033627 and parameters: {'max_depth': 7, 'max_features': 5}. Best is trial 27 with value: 0.9720609785033627.\u001b[0m\n",
            "\u001b[32m[I 2023-04-03 13:46:39,195]\u001b[0m Trial 72 finished with value: 0.9720609785033627 and parameters: {'max_depth': 7, 'max_features': 5}. Best is trial 27 with value: 0.9720609785033627.\u001b[0m\n",
            "\u001b[32m[I 2023-04-03 13:46:40,203]\u001b[0m Trial 73 finished with value: 0.9720609785033627 and parameters: {'max_depth': 7, 'max_features': 5}. Best is trial 27 with value: 0.9720609785033627.\u001b[0m\n",
            "\u001b[32m[I 2023-04-03 13:46:41,186]\u001b[0m Trial 74 finished with value: 0.9720609785033627 and parameters: {'max_depth': 7, 'max_features': 5}. Best is trial 27 with value: 0.9720609785033627.\u001b[0m\n",
            "\u001b[32m[I 2023-04-03 13:46:42,542]\u001b[0m Trial 75 finished with value: 0.9720609785033627 and parameters: {'max_depth': 7, 'max_features': 5}. Best is trial 27 with value: 0.9720609785033627.\u001b[0m\n",
            "\u001b[32m[I 2023-04-03 13:46:44,359]\u001b[0m Trial 76 finished with value: 0.9684653578103969 and parameters: {'max_depth': 7, 'max_features': 4}. Best is trial 27 with value: 0.9720609785033627.\u001b[0m\n",
            "\u001b[32m[I 2023-04-03 13:46:45,692]\u001b[0m Trial 77 finished with value: 0.9720609785033627 and parameters: {'max_depth': 7, 'max_features': 5}. Best is trial 27 with value: 0.9720609785033627.\u001b[0m\n",
            "\u001b[32m[I 2023-04-03 13:46:46,680]\u001b[0m Trial 78 finished with value: 0.9633435487968379 and parameters: {'max_depth': 6, 'max_features': 6}. Best is trial 27 with value: 0.9720609785033627.\u001b[0m\n",
            "\u001b[32m[I 2023-04-03 13:46:47,698]\u001b[0m Trial 79 finished with value: 0.9720609785033627 and parameters: {'max_depth': 7, 'max_features': 5}. Best is trial 27 with value: 0.9720609785033627.\u001b[0m\n",
            "\u001b[32m[I 2023-04-03 13:46:48,706]\u001b[0m Trial 80 finished with value: 0.9720609785033627 and parameters: {'max_depth': 7, 'max_features': 5}. Best is trial 27 with value: 0.9720609785033627.\u001b[0m\n",
            "\u001b[32m[I 2023-04-03 13:46:49,685]\u001b[0m Trial 81 finished with value: 0.9720609785033627 and parameters: {'max_depth': 7, 'max_features': 5}. Best is trial 27 with value: 0.9720609785033627.\u001b[0m\n",
            "\u001b[32m[I 2023-04-03 13:46:50,708]\u001b[0m Trial 82 finished with value: 0.9720609785033627 and parameters: {'max_depth': 7, 'max_features': 5}. Best is trial 27 with value: 0.9720609785033627.\u001b[0m\n",
            "\u001b[32m[I 2023-04-03 13:46:51,700]\u001b[0m Trial 83 finished with value: 0.9720609785033627 and parameters: {'max_depth': 7, 'max_features': 5}. Best is trial 27 with value: 0.9720609785033627.\u001b[0m\n",
            "\u001b[32m[I 2023-04-03 13:46:52,704]\u001b[0m Trial 84 finished with value: 0.9720609785033627 and parameters: {'max_depth': 7, 'max_features': 5}. Best is trial 27 with value: 0.9720609785033627.\u001b[0m\n",
            "\u001b[32m[I 2023-04-03 13:46:53,688]\u001b[0m Trial 85 finished with value: 0.9720609785033627 and parameters: {'max_depth': 7, 'max_features': 5}. Best is trial 27 with value: 0.9720609785033627.\u001b[0m\n",
            "\u001b[32m[I 2023-04-03 13:46:54,575]\u001b[0m Trial 86 finished with value: 0.9571036896251935 and parameters: {'max_depth': 6, 'max_features': 4}. Best is trial 27 with value: 0.9720609785033627.\u001b[0m\n",
            "\u001b[32m[I 2023-04-03 13:46:56,014]\u001b[0m Trial 87 finished with value: 0.9720558623263608 and parameters: {'max_depth': 7, 'max_features': 6}. Best is trial 27 with value: 0.9720609785033627.\u001b[0m\n",
            "\u001b[32m[I 2023-04-03 13:46:57,909]\u001b[0m Trial 88 finished with value: 0.9720609785033627 and parameters: {'max_depth': 7, 'max_features': 5}. Best is trial 27 with value: 0.9720609785033627.\u001b[0m\n",
            "\u001b[32m[I 2023-04-03 13:46:59,169]\u001b[0m Trial 89 finished with value: 0.9634604096785503 and parameters: {'max_depth': 6, 'max_features': 5}. Best is trial 27 with value: 0.9720609785033627.\u001b[0m\n",
            "\u001b[32m[I 2023-04-03 13:47:00,098]\u001b[0m Trial 90 finished with value: 0.9684653578103969 and parameters: {'max_depth': 7, 'max_features': 4}. Best is trial 27 with value: 0.9720609785033627.\u001b[0m\n",
            "\u001b[32m[I 2023-04-03 13:47:01,109]\u001b[0m Trial 91 finished with value: 0.9720609785033627 and parameters: {'max_depth': 7, 'max_features': 5}. Best is trial 27 with value: 0.9720609785033627.\u001b[0m\n",
            "\u001b[32m[I 2023-04-03 13:47:02,103]\u001b[0m Trial 92 finished with value: 0.9720609785033627 and parameters: {'max_depth': 7, 'max_features': 5}. Best is trial 27 with value: 0.9720609785033627.\u001b[0m\n",
            "\u001b[32m[I 2023-04-03 13:47:03,108]\u001b[0m Trial 93 finished with value: 0.9720609785033627 and parameters: {'max_depth': 7, 'max_features': 5}. Best is trial 27 with value: 0.9720609785033627.\u001b[0m\n",
            "\u001b[32m[I 2023-04-03 13:47:04,102]\u001b[0m Trial 94 finished with value: 0.9720609785033627 and parameters: {'max_depth': 7, 'max_features': 5}. Best is trial 27 with value: 0.9720609785033627.\u001b[0m\n",
            "\u001b[32m[I 2023-04-03 13:47:05,167]\u001b[0m Trial 95 finished with value: 0.9720609785033627 and parameters: {'max_depth': 7, 'max_features': 5}. Best is trial 27 with value: 0.9720609785033627.\u001b[0m\n",
            "\u001b[32m[I 2023-04-03 13:47:06,268]\u001b[0m Trial 96 finished with value: 0.9720558623263608 and parameters: {'max_depth': 7, 'max_features': 6}. Best is trial 27 with value: 0.9720609785033627.\u001b[0m\n",
            "\u001b[32m[I 2023-04-03 13:47:07,294]\u001b[0m Trial 97 finished with value: 0.9720609785033627 and parameters: {'max_depth': 7, 'max_features': 5}. Best is trial 27 with value: 0.9720609785033627.\u001b[0m\n",
            "\u001b[32m[I 2023-04-03 13:47:08,297]\u001b[0m Trial 98 finished with value: 0.9720609785033627 and parameters: {'max_depth': 7, 'max_features': 5}. Best is trial 27 with value: 0.9720609785033627.\u001b[0m\n",
            "\u001b[32m[I 2023-04-03 13:47:09,856]\u001b[0m Trial 99 finished with value: 0.9634604096785503 and parameters: {'max_depth': 6, 'max_features': 5}. Best is trial 27 with value: 0.9720609785033627.\u001b[0m\n",
            "\u001b[32m[I 2023-04-03 13:47:09,862]\u001b[0m A new study created in memory with name: no-name-81c93c25-2ee2-4f1b-acde-cbee41fa7f43\u001b[0m\n",
            "\u001b[32m[I 2023-04-03 13:47:11,492]\u001b[0m Trial 0 finished with value: 0.9216922162291116 and parameters: {'max_depth': 2, 'colsample_bytree': 0.32606975088763057}. Best is trial 0 with value: 0.9216922162291116.\u001b[0m\n",
            "\u001b[32m[I 2023-04-03 13:47:12,066]\u001b[0m Trial 1 finished with value: 0.9800333020308166 and parameters: {'max_depth': 6, 'colsample_bytree': 0.8119138796891952}. Best is trial 1 with value: 0.9800333020308166.\u001b[0m\n",
            "\u001b[32m[I 2023-04-03 13:47:12,378]\u001b[0m Trial 2 finished with value: 0.9824351637404617 and parameters: {'max_depth': 3, 'colsample_bytree': 0.9184682041720896}. Best is trial 2 with value: 0.9824351637404617.\u001b[0m\n",
            "\u001b[32m[I 2023-04-03 13:47:12,808]\u001b[0m Trial 3 finished with value: 0.9851168637573302 and parameters: {'max_depth': 4, 'colsample_bytree': 0.9873731275294111}. Best is trial 3 with value: 0.9851168637573302.\u001b[0m\n",
            "\u001b[32m[I 2023-04-03 13:47:13,191]\u001b[0m Trial 4 finished with value: 0.972854585505149 and parameters: {'max_depth': 5, 'colsample_bytree': 0.5478613872580884}. Best is trial 3 with value: 0.9851168637573302.\u001b[0m\n",
            "\u001b[32m[I 2023-04-03 13:47:13,702]\u001b[0m Trial 5 finished with value: 0.9766028537721837 and parameters: {'max_depth': 6, 'colsample_bytree': 0.6877244422908504}. Best is trial 3 with value: 0.9851168637573302.\u001b[0m\n",
            "\u001b[32m[I 2023-04-03 13:47:13,929]\u001b[0m Trial 6 finished with value: 0.9532568228862521 and parameters: {'max_depth': 3, 'colsample_bytree': 0.29952879125061527}. Best is trial 3 with value: 0.9851168637573302.\u001b[0m\n",
            "\u001b[32m[I 2023-04-03 13:47:14,152]\u001b[0m Trial 7 finished with value: 0.949325166508897 and parameters: {'max_depth': 2, 'colsample_bytree': 0.48264699555784907}. Best is trial 3 with value: 0.9851168637573302.\u001b[0m\n",
            "\u001b[32m[I 2023-04-03 13:47:14,692]\u001b[0m Trial 8 finished with value: 0.9694045598014895 and parameters: {'max_depth': 7, 'colsample_bytree': 0.5611115995352323}. Best is trial 3 with value: 0.9851168637573302.\u001b[0m\n",
            "\u001b[32m[I 2023-04-03 13:47:14,915]\u001b[0m Trial 9 finished with value: 0.9596004054163791 and parameters: {'max_depth': 2, 'colsample_bytree': 0.624368028492142}. Best is trial 3 with value: 0.9851168637573302.\u001b[0m\n",
            "\u001b[32m[I 2023-04-03 13:47:15,314]\u001b[0m Trial 10 finished with value: 0.9851168637573302 and parameters: {'max_depth': 4, 'colsample_bytree': 0.9925429621612634}. Best is trial 3 with value: 0.9851168637573302.\u001b[0m\n",
            "\u001b[32m[I 2023-04-03 13:47:15,734]\u001b[0m Trial 11 finished with value: 0.9851168637573302 and parameters: {'max_depth': 4, 'colsample_bytree': 0.994888018875461}. Best is trial 3 with value: 0.9851168637573302.\u001b[0m\n",
            "\u001b[32m[I 2023-04-03 13:47:16,108]\u001b[0m Trial 12 finished with value: 0.981867041370052 and parameters: {'max_depth': 4, 'colsample_bytree': 0.8491171653950408}. Best is trial 3 with value: 0.9851168637573302.\u001b[0m\n",
            "\u001b[32m[I 2023-04-03 13:47:16,629]\u001b[0m Trial 13 finished with value: 0.9835437414460005 and parameters: {'max_depth': 5, 'colsample_bytree': 0.9892494271312617}. Best is trial 3 with value: 0.9851168637573302.\u001b[0m\n",
            "\u001b[32m[I 2023-04-03 13:47:17,045]\u001b[0m Trial 14 finished with value: 0.981867041370052 and parameters: {'max_depth': 4, 'colsample_bytree': 0.7804304352205821}. Best is trial 3 with value: 0.9851168637573302.\u001b[0m\n",
            "\u001b[32m[I 2023-04-03 13:47:17,365]\u001b[0m Trial 15 finished with value: 0.9824351637404617 and parameters: {'max_depth': 3, 'colsample_bytree': 0.8815318844502344}. Best is trial 3 with value: 0.9851168637573302.\u001b[0m\n",
            "\u001b[32m[I 2023-04-03 13:47:17,835]\u001b[0m Trial 16 finished with value: 0.9818627839544369 and parameters: {'max_depth': 5, 'colsample_bytree': 0.7230158399074205}. Best is trial 3 with value: 0.9851168637573302.\u001b[0m\n",
            "\u001b[32m[I 2023-04-03 13:47:18,250]\u001b[0m Trial 17 finished with value: 0.9851168637573302 and parameters: {'max_depth': 4, 'colsample_bytree': 0.9972174383468377}. Best is trial 3 with value: 0.9851168637573302.\u001b[0m\n",
            "\u001b[32m[I 2023-04-03 13:47:18,876]\u001b[0m Trial 18 finished with value: 0.9810616629117043 and parameters: {'max_depth': 6, 'colsample_bytree': 0.894321448402239}. Best is trial 3 with value: 0.9851168637573302.\u001b[0m\n",
            "\u001b[32m[I 2023-04-03 13:47:19,110]\u001b[0m Trial 19 finished with value: 0.8682297796481925 and parameters: {'max_depth': 3, 'colsample_bytree': 0.1267453481773606}. Best is trial 3 with value: 0.9851168637573302.\u001b[0m\n",
            "\u001b[32m[I 2023-04-03 13:47:19,568]\u001b[0m Trial 20 finished with value: 0.9818627839544369 and parameters: {'max_depth': 5, 'colsample_bytree': 0.79376275403052}. Best is trial 3 with value: 0.9851168637573302.\u001b[0m\n",
            "\u001b[32m[I 2023-04-03 13:47:19,983]\u001b[0m Trial 21 finished with value: 0.9851168637573302 and parameters: {'max_depth': 4, 'colsample_bytree': 0.9870228618730885}. Best is trial 3 with value: 0.9851168637573302.\u001b[0m\n",
            "\u001b[32m[I 2023-04-03 13:47:20,461]\u001b[0m Trial 22 finished with value: 0.9851168637573302 and parameters: {'max_depth': 4, 'colsample_bytree': 0.9216352939012498}. Best is trial 3 with value: 0.9851168637573302.\u001b[0m\n",
            "\u001b[32m[I 2023-04-03 13:47:20,809]\u001b[0m Trial 23 finished with value: 0.9824351637404617 and parameters: {'max_depth': 3, 'colsample_bytree': 0.99670062881403}. Best is trial 3 with value: 0.9851168637573302.\u001b[0m\n",
            "\u001b[32m[I 2023-04-03 13:47:21,245]\u001b[0m Trial 24 finished with value: 0.9851168637573302 and parameters: {'max_depth': 4, 'colsample_bytree': 0.860842888094239}. Best is trial 3 with value: 0.9851168637573302.\u001b[0m\n",
            "\u001b[32m[I 2023-04-03 13:47:24,013]\u001b[0m Trial 25 finished with value: 0.9835437414460005 and parameters: {'max_depth': 5, 'colsample_bytree': 0.9200879695856057}. Best is trial 3 with value: 0.9851168637573302.\u001b[0m\n",
            "\u001b[32m[I 2023-04-03 13:47:24,393]\u001b[0m Trial 26 finished with value: 0.981867041370052 and parameters: {'max_depth': 4, 'colsample_bytree': 0.7664474156813033}. Best is trial 3 with value: 0.9851168637573302.\u001b[0m\n",
            "\u001b[32m[I 2023-04-03 13:47:24,726]\u001b[0m Trial 27 finished with value: 0.9824351637404617 and parameters: {'max_depth': 3, 'colsample_bytree': 0.9349666592395364}. Best is trial 3 with value: 0.9851168637573302.\u001b[0m\n",
            "\u001b[32m[I 2023-04-03 13:47:25,209]\u001b[0m Trial 28 finished with value: 0.9818627839544369 and parameters: {'max_depth': 5, 'colsample_bytree': 0.8398527748968863}. Best is trial 3 with value: 0.9851168637573302.\u001b[0m\n",
            "\u001b[32m[I 2023-04-03 13:47:25,454]\u001b[0m Trial 29 finished with value: 0.9664855963886038 and parameters: {'max_depth': 2, 'colsample_bytree': 0.7271838211966887}. Best is trial 3 with value: 0.9851168637573302.\u001b[0m\n",
            "\u001b[32m[I 2023-04-03 13:47:26,195]\u001b[0m Trial 30 finished with value: 0.9794241766026582 and parameters: {'max_depth': 7, 'colsample_bytree': 0.9475373812471952}. Best is trial 3 with value: 0.9851168637573302.\u001b[0m\n",
            "\u001b[32m[I 2023-04-03 13:47:26,625]\u001b[0m Trial 31 finished with value: 0.9851168637573302 and parameters: {'max_depth': 4, 'colsample_bytree': 0.9869847834316441}. Best is trial 3 with value: 0.9851168637573302.\u001b[0m\n",
            "\u001b[32m[I 2023-04-03 13:47:27,034]\u001b[0m Trial 32 finished with value: 0.981867041370052 and parameters: {'max_depth': 4, 'colsample_bytree': 0.8512325318252869}. Best is trial 3 with value: 0.9851168637573302.\u001b[0m\n",
            "\u001b[32m[I 2023-04-03 13:47:27,447]\u001b[0m Trial 33 finished with value: 0.9851168637573302 and parameters: {'max_depth': 4, 'colsample_bytree': 0.9436371087515962}. Best is trial 3 with value: 0.9851168637573302.\u001b[0m\n",
            "\u001b[32m[I 2023-04-03 13:47:27,764]\u001b[0m Trial 34 finished with value: 0.9824351637404617 and parameters: {'max_depth': 3, 'colsample_bytree': 0.8888047044365733}. Best is trial 3 with value: 0.9851168637573302.\u001b[0m\n",
            "\u001b[32m[I 2023-04-03 13:47:28,287]\u001b[0m Trial 35 finished with value: 0.9835437414460005 and parameters: {'max_depth': 5, 'colsample_bytree': 0.9937963669338413}. Best is trial 3 with value: 0.9851168637573302.\u001b[0m\n",
            "\u001b[32m[I 2023-04-03 13:47:28,591]\u001b[0m Trial 36 finished with value: 0.979824287718345 and parameters: {'max_depth': 3, 'colsample_bytree': 0.8109456100676435}. Best is trial 3 with value: 0.9851168637573302.\u001b[0m\n",
            "\u001b[32m[I 2023-04-03 13:47:29,222]\u001b[0m Trial 37 finished with value: 0.9810616629117043 and parameters: {'max_depth': 6, 'colsample_bytree': 0.9431681171636843}. Best is trial 3 with value: 0.9851168637573302.\u001b[0m\n",
            "\u001b[32m[I 2023-04-03 13:47:29,617]\u001b[0m Trial 38 finished with value: 0.9851168637573302 and parameters: {'max_depth': 4, 'colsample_bytree': 0.8844635391652599}. Best is trial 3 with value: 0.9851168637573302.\u001b[0m\n",
            "\u001b[32m[I 2023-04-03 13:47:30,114]\u001b[0m Trial 39 finished with value: 0.9818627839544369 and parameters: {'max_depth': 5, 'colsample_bytree': 0.81839103232114}. Best is trial 3 with value: 0.9851168637573302.\u001b[0m\n",
            "\u001b[32m[I 2023-04-03 13:47:30,447]\u001b[0m Trial 40 finished with value: 0.9824351637404617 and parameters: {'max_depth': 3, 'colsample_bytree': 0.9447388607790498}. Best is trial 3 with value: 0.9851168637573302.\u001b[0m\n",
            "\u001b[32m[I 2023-04-03 13:47:30,861]\u001b[0m Trial 41 finished with value: 0.9851168637573302 and parameters: {'max_depth': 4, 'colsample_bytree': 0.9963431050964173}. Best is trial 3 with value: 0.9851168637573302.\u001b[0m\n",
            "\u001b[32m[I 2023-04-03 13:47:31,275]\u001b[0m Trial 42 finished with value: 0.9851168637573302 and parameters: {'max_depth': 4, 'colsample_bytree': 0.8924354171697588}. Best is trial 3 with value: 0.9851168637573302.\u001b[0m\n",
            "\u001b[32m[I 2023-04-03 13:47:31,706]\u001b[0m Trial 43 finished with value: 0.9851168637573302 and parameters: {'max_depth': 4, 'colsample_bytree': 0.9700101766312442}. Best is trial 3 with value: 0.9851168637573302.\u001b[0m\n",
            "\u001b[32m[I 2023-04-03 13:47:32,126]\u001b[0m Trial 44 finished with value: 0.9851168637573302 and parameters: {'max_depth': 4, 'colsample_bytree': 0.9650205479637459}. Best is trial 3 with value: 0.9851168637573302.\u001b[0m\n",
            "\u001b[32m[I 2023-04-03 13:47:32,662]\u001b[0m Trial 45 finished with value: 0.9835437414460005 and parameters: {'max_depth': 5, 'colsample_bytree': 0.9101666301775481}. Best is trial 3 with value: 0.9851168637573302.\u001b[0m\n",
            "\u001b[32m[I 2023-04-03 13:47:33,083]\u001b[0m Trial 46 finished with value: 0.981867041370052 and parameters: {'max_depth': 4, 'colsample_bytree': 0.8541581649645592}. Best is trial 3 with value: 0.9851168637573302.\u001b[0m\n",
            "\u001b[32m[I 2023-04-03 13:47:33,426]\u001b[0m Trial 47 finished with value: 0.9824351637404617 and parameters: {'max_depth': 3, 'colsample_bytree': 0.9693531908230947}. Best is trial 3 with value: 0.9851168637573302.\u001b[0m\n",
            "\u001b[32m[I 2023-04-03 13:47:34,117]\u001b[0m Trial 48 finished with value: 0.9835437414460005 and parameters: {'max_depth': 5, 'colsample_bytree': 0.9087964955486451}. Best is trial 3 with value: 0.9851168637573302.\u001b[0m\n",
            "\u001b[32m[I 2023-04-03 13:47:36,563]\u001b[0m Trial 49 finished with value: 0.9798763853517057 and parameters: {'max_depth': 4, 'colsample_bytree': 0.6509384586255879}. Best is trial 3 with value: 0.9851168637573302.\u001b[0m\n",
            "\u001b[32m[I 2023-04-03 13:47:36,890]\u001b[0m Trial 50 finished with value: 0.9824351637404617 and parameters: {'max_depth': 3, 'colsample_bytree': 0.9583225159285803}. Best is trial 3 with value: 0.9851168637573302.\u001b[0m\n",
            "\u001b[32m[I 2023-04-03 13:47:37,322]\u001b[0m Trial 51 finished with value: 0.9851168637573302 and parameters: {'max_depth': 4, 'colsample_bytree': 0.9964083691049815}. Best is trial 3 with value: 0.9851168637573302.\u001b[0m\n",
            "\u001b[32m[I 2023-04-03 13:47:37,724]\u001b[0m Trial 52 finished with value: 0.9851168637573302 and parameters: {'max_depth': 4, 'colsample_bytree': 0.9215117095522646}. Best is trial 3 with value: 0.9851168637573302.\u001b[0m\n",
            "\u001b[32m[I 2023-04-03 13:47:38,134]\u001b[0m Trial 53 finished with value: 0.9851168637573302 and parameters: {'max_depth': 4, 'colsample_bytree': 0.9186140423597328}. Best is trial 3 with value: 0.9851168637573302.\u001b[0m\n",
            "\u001b[32m[I 2023-04-03 13:47:38,774]\u001b[0m Trial 54 finished with value: 0.9810616629117043 and parameters: {'max_depth': 6, 'colsample_bytree': 0.9990983898369652}. Best is trial 3 with value: 0.9851168637573302.\u001b[0m\n",
            "\u001b[32m[I 2023-04-03 13:47:39,199]\u001b[0m Trial 55 finished with value: 0.9851168637573302 and parameters: {'max_depth': 4, 'colsample_bytree': 0.867782098340081}. Best is trial 3 with value: 0.9851168637573302.\u001b[0m\n",
            "\u001b[32m[I 2023-04-03 13:47:39,525]\u001b[0m Trial 56 finished with value: 0.9824351637404617 and parameters: {'max_depth': 3, 'colsample_bytree': 0.9575892535298123}. Best is trial 3 with value: 0.9851168637573302.\u001b[0m\n",
            "\u001b[32m[I 2023-04-03 13:47:40,024]\u001b[0m Trial 57 finished with value: 0.9835437414460005 and parameters: {'max_depth': 5, 'colsample_bytree': 0.9205174749569276}. Best is trial 3 with value: 0.9851168637573302.\u001b[0m\n",
            "\u001b[32m[I 2023-04-03 13:47:40,461]\u001b[0m Trial 58 finished with value: 0.9851168637573302 and parameters: {'max_depth': 4, 'colsample_bytree': 0.8795914157183222}. Best is trial 3 with value: 0.9851168637573302.\u001b[0m\n",
            "\u001b[32m[I 2023-04-03 13:47:40,785]\u001b[0m Trial 59 finished with value: 0.9824351637404617 and parameters: {'max_depth': 3, 'colsample_bytree': 0.9588961078243231}. Best is trial 3 with value: 0.9851168637573302.\u001b[0m\n",
            "\u001b[32m[I 2023-04-03 13:47:41,287]\u001b[0m Trial 60 finished with value: 0.9818627839544369 and parameters: {'max_depth': 5, 'colsample_bytree': 0.8260272060233105}. Best is trial 3 with value: 0.9851168637573302.\u001b[0m\n",
            "\u001b[32m[I 2023-04-03 13:47:41,681]\u001b[0m Trial 61 finished with value: 0.9851168637573302 and parameters: {'max_depth': 4, 'colsample_bytree': 0.8581168518620189}. Best is trial 3 with value: 0.9851168637573302.\u001b[0m\n",
            "\u001b[32m[I 2023-04-03 13:47:42,075]\u001b[0m Trial 62 finished with value: 0.9851168637573302 and parameters: {'max_depth': 4, 'colsample_bytree': 0.9153187075511042}. Best is trial 3 with value: 0.9851168637573302.\u001b[0m\n",
            "\u001b[32m[I 2023-04-03 13:47:42,516]\u001b[0m Trial 63 finished with value: 0.9851168637573302 and parameters: {'max_depth': 4, 'colsample_bytree': 0.9748793425370619}. Best is trial 3 with value: 0.9851168637573302.\u001b[0m\n",
            "\u001b[32m[I 2023-04-03 13:47:42,939]\u001b[0m Trial 64 finished with value: 0.9851168637573302 and parameters: {'max_depth': 4, 'colsample_bytree': 0.9379513982853184}. Best is trial 3 with value: 0.9851168637573302.\u001b[0m\n",
            "\u001b[32m[I 2023-04-03 13:47:43,362]\u001b[0m Trial 65 finished with value: 0.9851168637573302 and parameters: {'max_depth': 4, 'colsample_bytree': 0.8918873741352025}. Best is trial 3 with value: 0.9851168637573302.\u001b[0m\n",
            "\u001b[32m[I 2023-04-03 13:47:43,869]\u001b[0m Trial 66 finished with value: 0.9835437414460005 and parameters: {'max_depth': 5, 'colsample_bytree': 0.9752162786135306}. Best is trial 3 with value: 0.9851168637573302.\u001b[0m\n",
            "\u001b[32m[I 2023-04-03 13:47:44,297]\u001b[0m Trial 67 finished with value: 0.981867041370052 and parameters: {'max_depth': 4, 'colsample_bytree': 0.7948202998253991}. Best is trial 3 with value: 0.9851168637573302.\u001b[0m\n",
            "\u001b[32m[I 2023-04-03 13:47:44,640]\u001b[0m Trial 68 finished with value: 0.9824351637404617 and parameters: {'max_depth': 3, 'colsample_bytree': 0.9377206402356126}. Best is trial 3 with value: 0.9851168637573302.\u001b[0m\n",
            "\u001b[32m[I 2023-04-03 13:47:45,048]\u001b[0m Trial 69 finished with value: 0.9851168637573302 and parameters: {'max_depth': 4, 'colsample_bytree': 0.8679988912564575}. Best is trial 3 with value: 0.9851168637573302.\u001b[0m\n",
            "\u001b[32m[I 2023-04-03 13:47:45,468]\u001b[0m Trial 70 finished with value: 0.9851168637573302 and parameters: {'max_depth': 4, 'colsample_bytree': 0.9944786174001963}. Best is trial 3 with value: 0.9851168637573302.\u001b[0m\n",
            "\u001b[32m[I 2023-04-03 13:47:45,863]\u001b[0m Trial 71 finished with value: 0.9851168637573302 and parameters: {'max_depth': 4, 'colsample_bytree': 0.9739613416390749}. Best is trial 3 with value: 0.9851168637573302.\u001b[0m\n",
            "\u001b[32m[I 2023-04-03 13:47:46,288]\u001b[0m Trial 72 finished with value: 0.9851168637573302 and parameters: {'max_depth': 4, 'colsample_bytree': 0.9441959218827878}. Best is trial 3 with value: 0.9851168637573302.\u001b[0m\n",
            "\u001b[32m[I 2023-04-03 13:47:48,380]\u001b[0m Trial 73 finished with value: 0.9851168637573302 and parameters: {'max_depth': 4, 'colsample_bytree': 0.997315699901705}. Best is trial 3 with value: 0.9851168637573302.\u001b[0m\n",
            "\u001b[32m[I 2023-04-03 13:47:49,583]\u001b[0m Trial 74 finished with value: 0.9835437414460005 and parameters: {'max_depth': 5, 'colsample_bytree': 0.9011170374516205}. Best is trial 3 with value: 0.9851168637573302.\u001b[0m\n",
            "\u001b[32m[I 2023-04-03 13:47:49,904]\u001b[0m Trial 75 finished with value: 0.9824351637404617 and parameters: {'max_depth': 3, 'colsample_bytree': 0.971132654219493}. Best is trial 3 with value: 0.9851168637573302.\u001b[0m\n",
            "\u001b[32m[I 2023-04-03 13:47:50,353]\u001b[0m Trial 76 finished with value: 0.9851168637573302 and parameters: {'max_depth': 4, 'colsample_bytree': 0.9292385020480123}. Best is trial 3 with value: 0.9851168637573302.\u001b[0m\n",
            "\u001b[32m[I 2023-04-03 13:47:50,750]\u001b[0m Trial 77 finished with value: 0.981867041370052 and parameters: {'max_depth': 4, 'colsample_bytree': 0.8392919567108972}. Best is trial 3 with value: 0.9851168637573302.\u001b[0m\n",
            "\u001b[32m[I 2023-04-03 13:47:51,447]\u001b[0m Trial 78 finished with value: 0.9794241766026582 and parameters: {'max_depth': 7, 'colsample_bytree': 0.9488419823368002}. Best is trial 3 with value: 0.9851168637573302.\u001b[0m\n",
            "\u001b[32m[I 2023-04-03 13:47:51,867]\u001b[0m Trial 79 finished with value: 0.9851168637573302 and parameters: {'max_depth': 4, 'colsample_bytree': 0.9005450622940956}. Best is trial 3 with value: 0.9851168637573302.\u001b[0m\n",
            "\u001b[32m[I 2023-04-03 13:47:52,277]\u001b[0m Trial 80 finished with value: 0.9851168637573302 and parameters: {'max_depth': 4, 'colsample_bytree': 0.9757092652535038}. Best is trial 3 with value: 0.9851168637573302.\u001b[0m\n",
            "\u001b[32m[I 2023-04-03 13:47:52,716]\u001b[0m Trial 81 finished with value: 0.9851168637573302 and parameters: {'max_depth': 4, 'colsample_bytree': 0.9376832036892601}. Best is trial 3 with value: 0.9851168637573302.\u001b[0m\n",
            "\u001b[32m[I 2023-04-03 13:47:53,143]\u001b[0m Trial 82 finished with value: 0.9851168637573302 and parameters: {'max_depth': 4, 'colsample_bytree': 0.998869512237532}. Best is trial 3 with value: 0.9851168637573302.\u001b[0m\n",
            "\u001b[32m[I 2023-04-03 13:47:53,542]\u001b[0m Trial 83 finished with value: 0.9851168637573302 and parameters: {'max_depth': 4, 'colsample_bytree': 0.9539888925773041}. Best is trial 3 with value: 0.9851168637573302.\u001b[0m\n",
            "\u001b[32m[I 2023-04-03 13:47:53,959]\u001b[0m Trial 84 finished with value: 0.9851168637573302 and parameters: {'max_depth': 4, 'colsample_bytree': 0.8766967649735007}. Best is trial 3 with value: 0.9851168637573302.\u001b[0m\n",
            "\u001b[32m[I 2023-04-03 13:47:54,372]\u001b[0m Trial 85 finished with value: 0.9851168637573302 and parameters: {'max_depth': 4, 'colsample_bytree': 0.9213859519130874}. Best is trial 3 with value: 0.9851168637573302.\u001b[0m\n",
            "\u001b[32m[I 2023-04-03 13:47:54,900]\u001b[0m Trial 86 finished with value: 0.9835437414460005 and parameters: {'max_depth': 5, 'colsample_bytree': 0.9699105830759239}. Best is trial 3 with value: 0.9851168637573302.\u001b[0m\n",
            "\u001b[32m[I 2023-04-03 13:47:55,233]\u001b[0m Trial 87 finished with value: 0.9824351637404617 and parameters: {'max_depth': 3, 'colsample_bytree': 0.9031837856608939}. Best is trial 3 with value: 0.9851168637573302.\u001b[0m\n",
            "\u001b[32m[I 2023-04-03 13:47:55,639]\u001b[0m Trial 88 finished with value: 0.9851168637573302 and parameters: {'max_depth': 4, 'colsample_bytree': 0.9775738510726645}. Best is trial 3 with value: 0.9851168637573302.\u001b[0m\n",
            "\u001b[32m[I 2023-04-03 13:47:56,152]\u001b[0m Trial 89 finished with value: 0.9835437414460005 and parameters: {'max_depth': 5, 'colsample_bytree': 0.9475089625136333}. Best is trial 3 with value: 0.9851168637573302.\u001b[0m\n",
            "\u001b[32m[I 2023-04-03 13:47:56,492]\u001b[0m Trial 90 finished with value: 0.9824351637404617 and parameters: {'max_depth': 3, 'colsample_bytree': 0.9248648404153011}. Best is trial 3 with value: 0.9851168637573302.\u001b[0m\n",
            "\u001b[32m[I 2023-04-03 13:47:56,957]\u001b[0m Trial 91 finished with value: 0.9851168637573302 and parameters: {'max_depth': 4, 'colsample_bytree': 0.9560883399550634}. Best is trial 3 with value: 0.9851168637573302.\u001b[0m\n",
            "\u001b[32m[I 2023-04-03 13:47:57,368]\u001b[0m Trial 92 finished with value: 0.9851168637573302 and parameters: {'max_depth': 4, 'colsample_bytree': 0.8933143113400586}. Best is trial 3 with value: 0.9851168637573302.\u001b[0m\n",
            "\u001b[32m[I 2023-04-03 13:47:57,786]\u001b[0m Trial 93 finished with value: 0.9851168637573302 and parameters: {'max_depth': 4, 'colsample_bytree': 0.8809487674624833}. Best is trial 3 with value: 0.9851168637573302.\u001b[0m\n",
            "\u001b[32m[I 2023-04-03 13:47:58,185]\u001b[0m Trial 94 finished with value: 0.981867041370052 and parameters: {'max_depth': 4, 'colsample_bytree': 0.8441110631676071}. Best is trial 3 with value: 0.9851168637573302.\u001b[0m\n",
            "\u001b[32m[I 2023-04-03 13:47:58,601]\u001b[0m Trial 95 finished with value: 0.9851168637573302 and parameters: {'max_depth': 4, 'colsample_bytree': 0.930442190263057}. Best is trial 3 with value: 0.9851168637573302.\u001b[0m\n",
            "\u001b[32m[I 2023-04-03 13:47:59,030]\u001b[0m Trial 96 finished with value: 0.9851168637573302 and parameters: {'max_depth': 4, 'colsample_bytree': 0.9815953994457557}. Best is trial 3 with value: 0.9851168637573302.\u001b[0m\n",
            "\u001b[32m[I 2023-04-03 13:48:00,106]\u001b[0m Trial 97 finished with value: 0.9851168637573302 and parameters: {'max_depth': 4, 'colsample_bytree': 0.984223875858162}. Best is trial 3 with value: 0.9851168637573302.\u001b[0m\n",
            "\u001b[32m[I 2023-04-03 13:48:02,042]\u001b[0m Trial 98 finished with value: 0.9851168637573302 and parameters: {'max_depth': 4, 'colsample_bytree': 0.8675465587759447}. Best is trial 3 with value: 0.9851168637573302.\u001b[0m\n",
            "\u001b[32m[I 2023-04-03 13:48:02,466]\u001b[0m Trial 99 finished with value: 0.9851168637573302 and parameters: {'max_depth': 4, 'colsample_bytree': 0.9606109371337012}. Best is trial 3 with value: 0.9851168637573302.\u001b[0m\n",
            "\u001b[32m[I 2023-04-03 13:48:02,474]\u001b[0m A new study created in memory with name: no-name-e5e2070e-c323-484f-9bd8-fcc2a50aeb53\u001b[0m\n"
          ]
        },
        {
          "output_type": "stream",
          "name": "stdout",
          "text": [
            "[LightGBM] [Warning] feature_fraction is set=0.36143772289266063, colsample_bytree=1.0 will be ignored. Current value: feature_fraction=0.36143772289266063\n",
            "[LightGBM] [Warning] feature_fraction is set=0.36143772289266063, colsample_bytree=1.0 will be ignored. Current value: feature_fraction=0.36143772289266063\n",
            "[LightGBM] [Warning] feature_fraction is set=0.36143772289266063, colsample_bytree=1.0 will be ignored. Current value: feature_fraction=0.36143772289266063\n"
          ]
        },
        {
          "output_type": "stream",
          "name": "stderr",
          "text": [
            "\u001b[32m[I 2023-04-03 13:48:02,709]\u001b[0m Trial 0 finished with value: 0.9608181007503646 and parameters: {'max_depth': 7, 'feature_fraction': 0.36143772289266063}. Best is trial 0 with value: 0.9608181007503646.\u001b[0m\n",
            "\u001b[32m[I 2023-04-03 13:48:02,817]\u001b[0m Trial 1 finished with value: 0.8317641806718817 and parameters: {'max_depth': 4, 'feature_fraction': 0.10394942108763945}. Best is trial 0 with value: 0.9608181007503646.\u001b[0m\n"
          ]
        },
        {
          "output_type": "stream",
          "name": "stdout",
          "text": [
            "[LightGBM] [Warning] feature_fraction is set=0.10394942108763945, colsample_bytree=1.0 will be ignored. Current value: feature_fraction=0.10394942108763945\n",
            "[LightGBM] [Warning] feature_fraction is set=0.10394942108763945, colsample_bytree=1.0 will be ignored. Current value: feature_fraction=0.10394942108763945\n",
            "[LightGBM] [Warning] feature_fraction is set=0.10394942108763945, colsample_bytree=1.0 will be ignored. Current value: feature_fraction=0.10394942108763945\n",
            "[LightGBM] [Warning] feature_fraction is set=0.5444347243045825, colsample_bytree=1.0 will be ignored. Current value: feature_fraction=0.5444347243045825\n",
            "[LightGBM] [Warning] feature_fraction is set=0.5444347243045825, colsample_bytree=1.0 will be ignored. Current value: feature_fraction=0.5444347243045825\n",
            "[LightGBM] [Warning] feature_fraction is set=0.5444347243045825, colsample_bytree=1.0 will be ignored. Current value: feature_fraction=0.5444347243045825\n"
          ]
        },
        {
          "output_type": "stream",
          "name": "stderr",
          "text": [
            "\u001b[32m[I 2023-04-03 13:48:02,940]\u001b[0m Trial 2 finished with value: 0.9460995749378784 and parameters: {'max_depth': 2, 'feature_fraction': 0.5444347243045825}. Best is trial 0 with value: 0.9608181007503646.\u001b[0m\n"
          ]
        },
        {
          "output_type": "stream",
          "name": "stdout",
          "text": [
            "[LightGBM] [Warning] feature_fraction is set=0.8548919119591898, colsample_bytree=1.0 will be ignored. Current value: feature_fraction=0.8548919119591898\n",
            "[LightGBM] [Warning] feature_fraction is set=0.8548919119591898, colsample_bytree=1.0 will be ignored. Current value: feature_fraction=0.8548919119591898\n",
            "[LightGBM] [Warning] feature_fraction is set=0.8548919119591898, colsample_bytree=1.0 will be ignored. Current value: feature_fraction=0.8548919119591898\n"
          ]
        },
        {
          "output_type": "stream",
          "name": "stderr",
          "text": [
            "\u001b[32m[I 2023-04-03 13:48:03,167]\u001b[0m Trial 3 finished with value: 0.9767062980275797 and parameters: {'max_depth': 6, 'feature_fraction': 0.8548919119591898}. Best is trial 3 with value: 0.9767062980275797.\u001b[0m\n"
          ]
        },
        {
          "output_type": "stream",
          "name": "stdout",
          "text": [
            "[LightGBM] [Warning] feature_fraction is set=0.36434842495621966, colsample_bytree=1.0 will be ignored. Current value: feature_fraction=0.36434842495621966\n",
            "[LightGBM] [Warning] feature_fraction is set=0.36434842495621966, colsample_bytree=1.0 will be ignored. Current value: feature_fraction=0.36434842495621966\n",
            "[LightGBM] [Warning] feature_fraction is set=0.36434842495621966, colsample_bytree=1.0 will be ignored. Current value: feature_fraction=0.36434842495621966\n"
          ]
        },
        {
          "output_type": "stream",
          "name": "stderr",
          "text": [
            "\u001b[32m[I 2023-04-03 13:48:03,398]\u001b[0m Trial 4 finished with value: 0.9608181007503646 and parameters: {'max_depth': 7, 'feature_fraction': 0.36434842495621966}. Best is trial 3 with value: 0.9767062980275797.\u001b[0m\n",
            "\u001b[32m[I 2023-04-03 13:48:03,580]\u001b[0m Trial 5 finished with value: 0.9615222127602164 and parameters: {'max_depth': 5, 'feature_fraction': 0.4045630411173722}. Best is trial 3 with value: 0.9767062980275797.\u001b[0m\n"
          ]
        },
        {
          "output_type": "stream",
          "name": "stdout",
          "text": [
            "[LightGBM] [Warning] feature_fraction is set=0.4045630411173722, colsample_bytree=1.0 will be ignored. Current value: feature_fraction=0.4045630411173722\n",
            "[LightGBM] [Warning] feature_fraction is set=0.4045630411173722, colsample_bytree=1.0 will be ignored. Current value: feature_fraction=0.4045630411173722\n",
            "[LightGBM] [Warning] feature_fraction is set=0.4045630411173722, colsample_bytree=1.0 will be ignored. Current value: feature_fraction=0.4045630411173722\n",
            "[LightGBM] [Warning] feature_fraction is set=0.6744225057058963, colsample_bytree=1.0 will be ignored. Current value: feature_fraction=0.6744225057058963\n"
          ]
        },
        {
          "output_type": "stream",
          "name": "stderr",
          "text": [
            "\u001b[32m[I 2023-04-03 13:48:03,686]\u001b[0m Trial 6 finished with value: 0.9514472967851032 and parameters: {'max_depth': 2, 'feature_fraction': 0.6744225057058963}. Best is trial 3 with value: 0.9767062980275797.\u001b[0m\n",
            "\u001b[32m[I 2023-04-03 13:48:03,807]\u001b[0m Trial 7 finished with value: 0.9700339376287245 and parameters: {'max_depth': 3, 'feature_fraction': 0.8304359122923828}. Best is trial 3 with value: 0.9767062980275797.\u001b[0m\n"
          ]
        },
        {
          "output_type": "stream",
          "name": "stdout",
          "text": [
            "[LightGBM] [Warning] feature_fraction is set=0.6744225057058963, colsample_bytree=1.0 will be ignored. Current value: feature_fraction=0.6744225057058963\n",
            "[LightGBM] [Warning] feature_fraction is set=0.6744225057058963, colsample_bytree=1.0 will be ignored. Current value: feature_fraction=0.6744225057058963\n",
            "[LightGBM] [Warning] feature_fraction is set=0.8304359122923828, colsample_bytree=1.0 will be ignored. Current value: feature_fraction=0.8304359122923828\n",
            "[LightGBM] [Warning] feature_fraction is set=0.8304359122923828, colsample_bytree=1.0 will be ignored. Current value: feature_fraction=0.8304359122923828\n",
            "[LightGBM] [Warning] feature_fraction is set=0.8304359122923828, colsample_bytree=1.0 will be ignored. Current value: feature_fraction=0.8304359122923828\n",
            "[LightGBM] [Warning] feature_fraction is set=0.8539523250711643, colsample_bytree=1.0 will be ignored. Current value: feature_fraction=0.8539523250711643\n"
          ]
        },
        {
          "output_type": "stream",
          "name": "stderr",
          "text": [
            "\u001b[32m[I 2023-04-03 13:48:03,950]\u001b[0m Trial 8 finished with value: 0.9700339376287245 and parameters: {'max_depth': 3, 'feature_fraction': 0.8539523250711643}. Best is trial 3 with value: 0.9767062980275797.\u001b[0m\n"
          ]
        },
        {
          "output_type": "stream",
          "name": "stdout",
          "text": [
            "[LightGBM] [Warning] feature_fraction is set=0.8539523250711643, colsample_bytree=1.0 will be ignored. Current value: feature_fraction=0.8539523250711643\n",
            "[LightGBM] [Warning] feature_fraction is set=0.8539523250711643, colsample_bytree=1.0 will be ignored. Current value: feature_fraction=0.8539523250711643\n",
            "[LightGBM] [Warning] feature_fraction is set=0.18793397350054353, colsample_bytree=1.0 will be ignored. Current value: feature_fraction=0.18793397350054353\n",
            "[LightGBM] [Warning] feature_fraction is set=0.18793397350054353, colsample_bytree=1.0 will be ignored. Current value: feature_fraction=0.18793397350054353\n",
            "[LightGBM] [Warning] feature_fraction is set=0.18793397350054353, colsample_bytree=1.0 will be ignored. Current value: feature_fraction=0.18793397350054353\n"
          ]
        },
        {
          "output_type": "stream",
          "name": "stderr",
          "text": [
            "\u001b[32m[I 2023-04-03 13:48:04,071]\u001b[0m Trial 9 finished with value: 0.8312212206870614 and parameters: {'max_depth': 7, 'feature_fraction': 0.18793397350054353}. Best is trial 3 with value: 0.9767062980275797.\u001b[0m\n",
            "\u001b[32m[I 2023-04-03 13:48:04,272]\u001b[0m Trial 10 finished with value: 0.9765224083258769 and parameters: {'max_depth': 5, 'feature_fraction': 0.9555801185197812}. Best is trial 3 with value: 0.9767062980275797.\u001b[0m\n"
          ]
        },
        {
          "output_type": "stream",
          "name": "stdout",
          "text": [
            "[LightGBM] [Warning] feature_fraction is set=0.9555801185197812, colsample_bytree=1.0 will be ignored. Current value: feature_fraction=0.9555801185197812\n",
            "[LightGBM] [Warning] feature_fraction is set=0.9555801185197812, colsample_bytree=1.0 will be ignored. Current value: feature_fraction=0.9555801185197812\n",
            "[LightGBM] [Warning] feature_fraction is set=0.9555801185197812, colsample_bytree=1.0 will be ignored. Current value: feature_fraction=0.9555801185197812\n"
          ]
        },
        {
          "output_type": "stream",
          "name": "stderr",
          "text": [
            "\u001b[32m[I 2023-04-03 13:48:04,471]\u001b[0m Trial 11 finished with value: 0.9765224083258769 and parameters: {'max_depth': 5, 'feature_fraction': 0.9909835801986966}. Best is trial 3 with value: 0.9767062980275797.\u001b[0m\n"
          ]
        },
        {
          "output_type": "stream",
          "name": "stdout",
          "text": [
            "[LightGBM] [Warning] feature_fraction is set=0.9909835801986966, colsample_bytree=1.0 will be ignored. Current value: feature_fraction=0.9909835801986966\n",
            "[LightGBM] [Warning] feature_fraction is set=0.9909835801986966, colsample_bytree=1.0 will be ignored. Current value: feature_fraction=0.9909835801986966\n",
            "[LightGBM] [Warning] feature_fraction is set=0.9909835801986966, colsample_bytree=1.0 will be ignored. Current value: feature_fraction=0.9909835801986966\n",
            "[LightGBM] [Warning] feature_fraction is set=0.9981068046187057, colsample_bytree=1.0 will be ignored. Current value: feature_fraction=0.9981068046187057\n"
          ]
        },
        {
          "output_type": "stream",
          "name": "stderr",
          "text": [
            "\u001b[32m[I 2023-04-03 13:48:04,690]\u001b[0m Trial 12 finished with value: 0.9758941121368242 and parameters: {'max_depth': 6, 'feature_fraction': 0.9981068046187057}. Best is trial 3 with value: 0.9767062980275797.\u001b[0m\n"
          ]
        },
        {
          "output_type": "stream",
          "name": "stdout",
          "text": [
            "[LightGBM] [Warning] feature_fraction is set=0.9981068046187057, colsample_bytree=1.0 will be ignored. Current value: feature_fraction=0.9981068046187057\n",
            "[LightGBM] [Warning] feature_fraction is set=0.9981068046187057, colsample_bytree=1.0 will be ignored. Current value: feature_fraction=0.9981068046187057\n",
            "[LightGBM] [Warning] feature_fraction is set=0.8053794662204964, colsample_bytree=1.0 will be ignored. Current value: feature_fraction=0.8053794662204964\n"
          ]
        },
        {
          "output_type": "stream",
          "name": "stderr",
          "text": [
            "\u001b[32m[I 2023-04-03 13:48:04,920]\u001b[0m Trial 13 finished with value: 0.9767062980275797 and parameters: {'max_depth': 6, 'feature_fraction': 0.8053794662204964}. Best is trial 3 with value: 0.9767062980275797.\u001b[0m\n"
          ]
        },
        {
          "output_type": "stream",
          "name": "stdout",
          "text": [
            "[LightGBM] [Warning] feature_fraction is set=0.8053794662204964, colsample_bytree=1.0 will be ignored. Current value: feature_fraction=0.8053794662204964\n",
            "[LightGBM] [Warning] feature_fraction is set=0.8053794662204964, colsample_bytree=1.0 will be ignored. Current value: feature_fraction=0.8053794662204964\n",
            "[LightGBM] [Warning] feature_fraction is set=0.7008396917662525, colsample_bytree=1.0 will be ignored. Current value: feature_fraction=0.7008396917662525\n"
          ]
        },
        {
          "output_type": "stream",
          "name": "stderr",
          "text": [
            "\u001b[32m[I 2023-04-03 13:48:05,155]\u001b[0m Trial 14 finished with value: 0.9758282563456606 and parameters: {'max_depth': 6, 'feature_fraction': 0.7008396917662525}. Best is trial 3 with value: 0.9767062980275797.\u001b[0m\n"
          ]
        },
        {
          "output_type": "stream",
          "name": "stdout",
          "text": [
            "[LightGBM] [Warning] feature_fraction is set=0.7008396917662525, colsample_bytree=1.0 will be ignored. Current value: feature_fraction=0.7008396917662525\n",
            "[LightGBM] [Warning] feature_fraction is set=0.7008396917662525, colsample_bytree=1.0 will be ignored. Current value: feature_fraction=0.7008396917662525\n",
            "[LightGBM] [Warning] feature_fraction is set=0.769931291404296, colsample_bytree=1.0 will be ignored. Current value: feature_fraction=0.769931291404296\n"
          ]
        },
        {
          "output_type": "stream",
          "name": "stderr",
          "text": [
            "\u001b[32m[I 2023-04-03 13:48:05,386]\u001b[0m Trial 15 finished with value: 0.9758282563456606 and parameters: {'max_depth': 6, 'feature_fraction': 0.769931291404296}. Best is trial 3 with value: 0.9767062980275797.\u001b[0m\n"
          ]
        },
        {
          "output_type": "stream",
          "name": "stdout",
          "text": [
            "[LightGBM] [Warning] feature_fraction is set=0.769931291404296, colsample_bytree=1.0 will be ignored. Current value: feature_fraction=0.769931291404296\n",
            "[LightGBM] [Warning] feature_fraction is set=0.769931291404296, colsample_bytree=1.0 will be ignored. Current value: feature_fraction=0.769931291404296\n",
            "[LightGBM] [Warning] feature_fraction is set=0.869939209357477, colsample_bytree=1.0 will be ignored. Current value: feature_fraction=0.869939209357477\n"
          ]
        },
        {
          "output_type": "stream",
          "name": "stderr",
          "text": [
            "\u001b[32m[I 2023-04-03 13:48:05,615]\u001b[0m Trial 16 finished with value: 0.9767062980275797 and parameters: {'max_depth': 6, 'feature_fraction': 0.869939209357477}. Best is trial 3 with value: 0.9767062980275797.\u001b[0m\n"
          ]
        },
        {
          "output_type": "stream",
          "name": "stdout",
          "text": [
            "[LightGBM] [Warning] feature_fraction is set=0.869939209357477, colsample_bytree=1.0 will be ignored. Current value: feature_fraction=0.869939209357477\n",
            "[LightGBM] [Warning] feature_fraction is set=0.869939209357477, colsample_bytree=1.0 will be ignored. Current value: feature_fraction=0.869939209357477\n",
            "[LightGBM] [Warning] feature_fraction is set=0.654604479742202, colsample_bytree=1.0 will be ignored. Current value: feature_fraction=0.654604479742202\n"
          ]
        },
        {
          "output_type": "stream",
          "name": "stderr",
          "text": [
            "\u001b[32m[I 2023-04-03 13:48:05,774]\u001b[0m Trial 17 finished with value: 0.9745059802488035 and parameters: {'max_depth': 4, 'feature_fraction': 0.654604479742202}. Best is trial 3 with value: 0.9767062980275797.\u001b[0m\n"
          ]
        },
        {
          "output_type": "stream",
          "name": "stdout",
          "text": [
            "[LightGBM] [Warning] feature_fraction is set=0.654604479742202, colsample_bytree=1.0 will be ignored. Current value: feature_fraction=0.654604479742202\n",
            "[LightGBM] [Warning] feature_fraction is set=0.654604479742202, colsample_bytree=1.0 will be ignored. Current value: feature_fraction=0.654604479742202\n",
            "[LightGBM] [Warning] feature_fraction is set=0.7747176025643456, colsample_bytree=1.0 will be ignored. Current value: feature_fraction=0.7747176025643456\n",
            "[LightGBM] [Warning] feature_fraction is set=0.7747176025643456, colsample_bytree=1.0 will be ignored. Current value: feature_fraction=0.7747176025643456\n"
          ]
        },
        {
          "output_type": "stream",
          "name": "stderr",
          "text": [
            "\u001b[32m[I 2023-04-03 13:48:06,027]\u001b[0m Trial 18 finished with value: 0.9758282563456606 and parameters: {'max_depth': 6, 'feature_fraction': 0.7747176025643456}. Best is trial 3 with value: 0.9767062980275797.\u001b[0m\n"
          ]
        },
        {
          "output_type": "stream",
          "name": "stdout",
          "text": [
            "[LightGBM] [Warning] feature_fraction is set=0.7747176025643456, colsample_bytree=1.0 will be ignored. Current value: feature_fraction=0.7747176025643456\n",
            "[LightGBM] [Warning] feature_fraction is set=0.9223613039205576, colsample_bytree=1.0 will be ignored. Current value: feature_fraction=0.9223613039205576\n",
            "[LightGBM] [Warning] feature_fraction is set=0.9223613039205576, colsample_bytree=1.0 will be ignored. Current value: feature_fraction=0.9223613039205576\n"
          ]
        },
        {
          "output_type": "stream",
          "name": "stderr",
          "text": [
            "\u001b[32m[I 2023-04-03 13:48:06,303]\u001b[0m Trial 19 finished with value: 0.9768297184663798 and parameters: {'max_depth': 7, 'feature_fraction': 0.9223613039205576}. Best is trial 19 with value: 0.9768297184663798.\u001b[0m\n"
          ]
        },
        {
          "output_type": "stream",
          "name": "stdout",
          "text": [
            "[LightGBM] [Warning] feature_fraction is set=0.9223613039205576, colsample_bytree=1.0 will be ignored. Current value: feature_fraction=0.9223613039205576\n",
            "[LightGBM] [Warning] feature_fraction is set=0.9319914859388531, colsample_bytree=1.0 will be ignored. Current value: feature_fraction=0.9319914859388531\n",
            "[LightGBM] [Warning] feature_fraction is set=0.9319914859388531, colsample_bytree=1.0 will be ignored. Current value: feature_fraction=0.9319914859388531\n"
          ]
        },
        {
          "output_type": "stream",
          "name": "stderr",
          "text": [
            "\u001b[32m[I 2023-04-03 13:48:06,549]\u001b[0m Trial 20 finished with value: 0.9758296442252078 and parameters: {'max_depth': 7, 'feature_fraction': 0.9319914859388531}. Best is trial 19 with value: 0.9768297184663798.\u001b[0m\n"
          ]
        },
        {
          "output_type": "stream",
          "name": "stdout",
          "text": [
            "[LightGBM] [Warning] feature_fraction is set=0.9319914859388531, colsample_bytree=1.0 will be ignored. Current value: feature_fraction=0.9319914859388531\n",
            "[LightGBM] [Warning] feature_fraction is set=0.8929694435223492, colsample_bytree=1.0 will be ignored. Current value: feature_fraction=0.8929694435223492\n",
            "[LightGBM] [Warning] feature_fraction is set=0.8929694435223492, colsample_bytree=1.0 will be ignored. Current value: feature_fraction=0.8929694435223492\n"
          ]
        },
        {
          "output_type": "stream",
          "name": "stderr",
          "text": [
            "\u001b[32m[I 2023-04-03 13:48:06,820]\u001b[0m Trial 21 finished with value: 0.9768297184663798 and parameters: {'max_depth': 7, 'feature_fraction': 0.8929694435223492}. Best is trial 19 with value: 0.9768297184663798.\u001b[0m\n"
          ]
        },
        {
          "output_type": "stream",
          "name": "stdout",
          "text": [
            "[LightGBM] [Warning] feature_fraction is set=0.8929694435223492, colsample_bytree=1.0 will be ignored. Current value: feature_fraction=0.8929694435223492\n",
            "[LightGBM] [Warning] feature_fraction is set=0.9054331872847546, colsample_bytree=1.0 will be ignored. Current value: feature_fraction=0.9054331872847546\n",
            "[LightGBM] [Warning] feature_fraction is set=0.9054331872847546, colsample_bytree=1.0 will be ignored. Current value: feature_fraction=0.9054331872847546\n"
          ]
        },
        {
          "output_type": "stream",
          "name": "stderr",
          "text": [
            "\u001b[32m[I 2023-04-03 13:48:07,086]\u001b[0m Trial 22 finished with value: 0.9768297184663798 and parameters: {'max_depth': 7, 'feature_fraction': 0.9054331872847546}. Best is trial 19 with value: 0.9768297184663798.\u001b[0m\n"
          ]
        },
        {
          "output_type": "stream",
          "name": "stdout",
          "text": [
            "[LightGBM] [Warning] feature_fraction is set=0.9054331872847546, colsample_bytree=1.0 will be ignored. Current value: feature_fraction=0.9054331872847546\n",
            "[LightGBM] [Warning] feature_fraction is set=0.9293623057085018, colsample_bytree=1.0 will be ignored. Current value: feature_fraction=0.9293623057085018\n",
            "[LightGBM] [Warning] feature_fraction is set=0.9293623057085018, colsample_bytree=1.0 will be ignored. Current value: feature_fraction=0.9293623057085018\n"
          ]
        },
        {
          "output_type": "stream",
          "name": "stderr",
          "text": [
            "\u001b[32m[I 2023-04-03 13:48:07,338]\u001b[0m Trial 23 finished with value: 0.9758296442252078 and parameters: {'max_depth': 7, 'feature_fraction': 0.9293623057085018}. Best is trial 19 with value: 0.9768297184663798.\u001b[0m\n"
          ]
        },
        {
          "output_type": "stream",
          "name": "stdout",
          "text": [
            "[LightGBM] [Warning] feature_fraction is set=0.9293623057085018, colsample_bytree=1.0 will be ignored. Current value: feature_fraction=0.9293623057085018\n",
            "[LightGBM] [Warning] feature_fraction is set=0.9043753885004394, colsample_bytree=1.0 will be ignored. Current value: feature_fraction=0.9043753885004394\n",
            "[LightGBM] [Warning] feature_fraction is set=0.9043753885004394, colsample_bytree=1.0 will be ignored. Current value: feature_fraction=0.9043753885004394\n"
          ]
        },
        {
          "output_type": "stream",
          "name": "stderr",
          "text": [
            "\u001b[32m[I 2023-04-03 13:48:07,602]\u001b[0m Trial 24 finished with value: 0.9768297184663798 and parameters: {'max_depth': 7, 'feature_fraction': 0.9043753885004394}. Best is trial 19 with value: 0.9768297184663798.\u001b[0m\n"
          ]
        },
        {
          "output_type": "stream",
          "name": "stdout",
          "text": [
            "[LightGBM] [Warning] feature_fraction is set=0.9043753885004394, colsample_bytree=1.0 will be ignored. Current value: feature_fraction=0.9043753885004394\n",
            "[LightGBM] [Warning] feature_fraction is set=0.9964925942121302, colsample_bytree=1.0 will be ignored. Current value: feature_fraction=0.9964925942121302\n",
            "[LightGBM] [Warning] feature_fraction is set=0.9964925942121302, colsample_bytree=1.0 will be ignored. Current value: feature_fraction=0.9964925942121302\n"
          ]
        },
        {
          "output_type": "stream",
          "name": "stderr",
          "text": [
            "\u001b[32m[I 2023-04-03 13:48:07,848]\u001b[0m Trial 25 finished with value: 0.9758296442252078 and parameters: {'max_depth': 7, 'feature_fraction': 0.9964925942121302}. Best is trial 19 with value: 0.9768297184663798.\u001b[0m\n"
          ]
        },
        {
          "output_type": "stream",
          "name": "stdout",
          "text": [
            "[LightGBM] [Warning] feature_fraction is set=0.9964925942121302, colsample_bytree=1.0 will be ignored. Current value: feature_fraction=0.9964925942121302\n",
            "[LightGBM] [Warning] feature_fraction is set=0.9047490678767025, colsample_bytree=1.0 will be ignored. Current value: feature_fraction=0.9047490678767025\n",
            "[LightGBM] [Warning] feature_fraction is set=0.9047490678767025, colsample_bytree=1.0 will be ignored. Current value: feature_fraction=0.9047490678767025\n"
          ]
        },
        {
          "output_type": "stream",
          "name": "stderr",
          "text": [
            "\u001b[32m[I 2023-04-03 13:48:08,122]\u001b[0m Trial 26 finished with value: 0.9768297184663798 and parameters: {'max_depth': 7, 'feature_fraction': 0.9047490678767025}. Best is trial 19 with value: 0.9768297184663798.\u001b[0m\n"
          ]
        },
        {
          "output_type": "stream",
          "name": "stdout",
          "text": [
            "[LightGBM] [Warning] feature_fraction is set=0.9047490678767025, colsample_bytree=1.0 will be ignored. Current value: feature_fraction=0.9047490678767025\n",
            "[LightGBM] [Warning] feature_fraction is set=0.7530076733737289, colsample_bytree=1.0 will be ignored. Current value: feature_fraction=0.7530076733737289\n",
            "[LightGBM] [Warning] feature_fraction is set=0.7530076733737289, colsample_bytree=1.0 will be ignored. Current value: feature_fraction=0.7530076733737289\n"
          ]
        },
        {
          "output_type": "stream",
          "name": "stderr",
          "text": [
            "\u001b[32m[I 2023-04-03 13:48:08,335]\u001b[0m Trial 27 finished with value: 0.975470445032435 and parameters: {'max_depth': 5, 'feature_fraction': 0.7530076733737289}. Best is trial 19 with value: 0.9768297184663798.\u001b[0m\n"
          ]
        },
        {
          "output_type": "stream",
          "name": "stdout",
          "text": [
            "[LightGBM] [Warning] feature_fraction is set=0.7530076733737289, colsample_bytree=1.0 will be ignored. Current value: feature_fraction=0.7530076733737289\n",
            "[LightGBM] [Warning] feature_fraction is set=0.8831033441865365, colsample_bytree=1.0 will be ignored. Current value: feature_fraction=0.8831033441865365\n",
            "[LightGBM] [Warning] feature_fraction is set=0.8831033441865365, colsample_bytree=1.0 will be ignored. Current value: feature_fraction=0.8831033441865365\n"
          ]
        },
        {
          "output_type": "stream",
          "name": "stderr",
          "text": [
            "\u001b[32m[I 2023-04-03 13:48:08,579]\u001b[0m Trial 28 finished with value: 0.9768297184663798 and parameters: {'max_depth': 7, 'feature_fraction': 0.8831033441865365}. Best is trial 19 with value: 0.9768297184663798.\u001b[0m\n"
          ]
        },
        {
          "output_type": "stream",
          "name": "stdout",
          "text": [
            "[LightGBM] [Warning] feature_fraction is set=0.8831033441865365, colsample_bytree=1.0 will be ignored. Current value: feature_fraction=0.8831033441865365\n",
            "[LightGBM] [Warning] feature_fraction is set=0.8119498497651407, colsample_bytree=1.0 will be ignored. Current value: feature_fraction=0.8119498497651407\n",
            "[LightGBM] [Warning] feature_fraction is set=0.8119498497651407, colsample_bytree=1.0 will be ignored. Current value: feature_fraction=0.8119498497651407\n"
          ]
        },
        {
          "output_type": "stream",
          "name": "stderr",
          "text": [
            "\u001b[32m[I 2023-04-03 13:48:08,829]\u001b[0m Trial 29 finished with value: 0.9768297184663798 and parameters: {'max_depth': 7, 'feature_fraction': 0.8119498497651407}. Best is trial 19 with value: 0.9768297184663798.\u001b[0m\n"
          ]
        },
        {
          "output_type": "stream",
          "name": "stdout",
          "text": [
            "[LightGBM] [Warning] feature_fraction is set=0.8119498497651407, colsample_bytree=1.0 will be ignored. Current value: feature_fraction=0.8119498497651407\n",
            "[LightGBM] [Warning] feature_fraction is set=0.9334134483313414, colsample_bytree=1.0 will be ignored. Current value: feature_fraction=0.9334134483313414\n",
            "[LightGBM] [Warning] feature_fraction is set=0.9334134483313414, colsample_bytree=1.0 will be ignored. Current value: feature_fraction=0.9334134483313414\n"
          ]
        },
        {
          "output_type": "stream",
          "name": "stderr",
          "text": [
            "\u001b[32m[I 2023-04-03 13:48:09,081]\u001b[0m Trial 30 finished with value: 0.9758941121368242 and parameters: {'max_depth': 6, 'feature_fraction': 0.9334134483313414}. Best is trial 19 with value: 0.9768297184663798.\u001b[0m\n"
          ]
        },
        {
          "output_type": "stream",
          "name": "stdout",
          "text": [
            "[LightGBM] [Warning] feature_fraction is set=0.9334134483313414, colsample_bytree=1.0 will be ignored. Current value: feature_fraction=0.9334134483313414\n",
            "[LightGBM] [Warning] feature_fraction is set=0.8973164678989055, colsample_bytree=1.0 will be ignored. Current value: feature_fraction=0.8973164678989055\n",
            "[LightGBM] [Warning] feature_fraction is set=0.8973164678989055, colsample_bytree=1.0 will be ignored. Current value: feature_fraction=0.8973164678989055\n"
          ]
        },
        {
          "output_type": "stream",
          "name": "stderr",
          "text": [
            "\u001b[32m[I 2023-04-03 13:48:09,335]\u001b[0m Trial 31 finished with value: 0.9768297184663798 and parameters: {'max_depth': 7, 'feature_fraction': 0.8973164678989055}. Best is trial 19 with value: 0.9768297184663798.\u001b[0m\n"
          ]
        },
        {
          "output_type": "stream",
          "name": "stdout",
          "text": [
            "[LightGBM] [Warning] feature_fraction is set=0.8973164678989055, colsample_bytree=1.0 will be ignored. Current value: feature_fraction=0.8973164678989055\n",
            "[LightGBM] [Warning] feature_fraction is set=0.8665881067239074, colsample_bytree=1.0 will be ignored. Current value: feature_fraction=0.8665881067239074\n",
            "[LightGBM] [Warning] feature_fraction is set=0.8665881067239074, colsample_bytree=1.0 will be ignored. Current value: feature_fraction=0.8665881067239074\n"
          ]
        },
        {
          "output_type": "stream",
          "name": "stderr",
          "text": [
            "\u001b[32m[I 2023-04-03 13:48:09,570]\u001b[0m Trial 32 finished with value: 0.9768297184663798 and parameters: {'max_depth': 7, 'feature_fraction': 0.8665881067239074}. Best is trial 19 with value: 0.9768297184663798.\u001b[0m\n"
          ]
        },
        {
          "output_type": "stream",
          "name": "stdout",
          "text": [
            "[LightGBM] [Warning] feature_fraction is set=0.8665881067239074, colsample_bytree=1.0 will be ignored. Current value: feature_fraction=0.8665881067239074\n",
            "[LightGBM] [Warning] feature_fraction is set=0.9365460084302947, colsample_bytree=1.0 will be ignored. Current value: feature_fraction=0.9365460084302947\n",
            "[LightGBM] [Warning] feature_fraction is set=0.9365460084302947, colsample_bytree=1.0 will be ignored. Current value: feature_fraction=0.9365460084302947\n"
          ]
        },
        {
          "output_type": "stream",
          "name": "stderr",
          "text": [
            "\u001b[32m[I 2023-04-03 13:48:09,812]\u001b[0m Trial 33 finished with value: 0.9758296442252078 and parameters: {'max_depth': 7, 'feature_fraction': 0.9365460084302947}. Best is trial 19 with value: 0.9768297184663798.\u001b[0m\n"
          ]
        },
        {
          "output_type": "stream",
          "name": "stdout",
          "text": [
            "[LightGBM] [Warning] feature_fraction is set=0.9365460084302947, colsample_bytree=1.0 will be ignored. Current value: feature_fraction=0.9365460084302947\n",
            "[LightGBM] [Warning] feature_fraction is set=0.7281454364013313, colsample_bytree=1.0 will be ignored. Current value: feature_fraction=0.7281454364013313\n",
            "[LightGBM] [Warning] feature_fraction is set=0.7281454364013313, colsample_bytree=1.0 will be ignored. Current value: feature_fraction=0.7281454364013313\n"
          ]
        },
        {
          "output_type": "stream",
          "name": "stderr",
          "text": [
            "\u001b[32m[I 2023-04-03 13:48:10,055]\u001b[0m Trial 34 finished with value: 0.9758282563456606 and parameters: {'max_depth': 6, 'feature_fraction': 0.7281454364013313}. Best is trial 19 with value: 0.9768297184663798.\u001b[0m\n"
          ]
        },
        {
          "output_type": "stream",
          "name": "stdout",
          "text": [
            "[LightGBM] [Warning] feature_fraction is set=0.7281454364013313, colsample_bytree=1.0 will be ignored. Current value: feature_fraction=0.7281454364013313\n",
            "[LightGBM] [Warning] feature_fraction is set=0.820535322557924, colsample_bytree=1.0 will be ignored. Current value: feature_fraction=0.820535322557924\n",
            "[LightGBM] [Warning] feature_fraction is set=0.820535322557924, colsample_bytree=1.0 will be ignored. Current value: feature_fraction=0.820535322557924\n"
          ]
        },
        {
          "output_type": "stream",
          "name": "stderr",
          "text": [
            "\u001b[32m[I 2023-04-03 13:48:10,312]\u001b[0m Trial 35 finished with value: 0.9768297184663798 and parameters: {'max_depth': 7, 'feature_fraction': 0.820535322557924}. Best is trial 19 with value: 0.9768297184663798.\u001b[0m\n"
          ]
        },
        {
          "output_type": "stream",
          "name": "stdout",
          "text": [
            "[LightGBM] [Warning] feature_fraction is set=0.820535322557924, colsample_bytree=1.0 will be ignored. Current value: feature_fraction=0.820535322557924\n",
            "[LightGBM] [Warning] feature_fraction is set=0.9597348030967988, colsample_bytree=1.0 will be ignored. Current value: feature_fraction=0.9597348030967988\n",
            "[LightGBM] [Warning] feature_fraction is set=0.9597348030967988, colsample_bytree=1.0 will be ignored. Current value: feature_fraction=0.9597348030967988\n",
            "[LightGBM] [Warning] feature_fraction is set=0.9597348030967988, colsample_bytree=1.0 will be ignored. Current value: feature_fraction=0.9597348030967988\n"
          ]
        },
        {
          "output_type": "stream",
          "name": "stderr",
          "text": [
            "\u001b[32m[I 2023-04-03 13:48:11,169]\u001b[0m Trial 36 finished with value: 0.9758941121368242 and parameters: {'max_depth': 6, 'feature_fraction': 0.9597348030967988}. Best is trial 19 with value: 0.9768297184663798.\u001b[0m\n"
          ]
        },
        {
          "output_type": "stream",
          "name": "stdout",
          "text": [
            "[LightGBM] [Warning] feature_fraction is set=0.6275830415110087, colsample_bytree=1.0 will be ignored. Current value: feature_fraction=0.6275830415110087\n",
            "[LightGBM] [Warning] feature_fraction is set=0.6275830415110087, colsample_bytree=1.0 will be ignored. Current value: feature_fraction=0.6275830415110087\n",
            "[LightGBM] [Warning] feature_fraction is set=0.6275830415110087, colsample_bytree=1.0 will be ignored. Current value: feature_fraction=0.6275830415110087\n"
          ]
        },
        {
          "output_type": "stream",
          "name": "stderr",
          "text": [
            "\u001b[32m[I 2023-04-03 13:48:11,422]\u001b[0m Trial 37 finished with value: 0.9744754352874838 and parameters: {'max_depth': 7, 'feature_fraction': 0.6275830415110087}. Best is trial 19 with value: 0.9768297184663798.\u001b[0m\n",
            "\u001b[32m[I 2023-04-03 13:48:11,578]\u001b[0m Trial 38 finished with value: 0.975951400630909 and parameters: {'max_depth': 4, 'feature_fraction': 0.7918034307322777}. Best is trial 19 with value: 0.9768297184663798.\u001b[0m\n"
          ]
        },
        {
          "output_type": "stream",
          "name": "stdout",
          "text": [
            "[LightGBM] [Warning] feature_fraction is set=0.7918034307322777, colsample_bytree=1.0 will be ignored. Current value: feature_fraction=0.7918034307322777\n",
            "[LightGBM] [Warning] feature_fraction is set=0.7918034307322777, colsample_bytree=1.0 will be ignored. Current value: feature_fraction=0.7918034307322777\n",
            "[LightGBM] [Warning] feature_fraction is set=0.7918034307322777, colsample_bytree=1.0 will be ignored. Current value: feature_fraction=0.7918034307322777\n",
            "[LightGBM] [Warning] feature_fraction is set=0.8526496713622822, colsample_bytree=1.0 will be ignored. Current value: feature_fraction=0.8526496713622822\n",
            "[LightGBM] [Warning] feature_fraction is set=0.8526496713622822, colsample_bytree=1.0 will be ignored. Current value: feature_fraction=0.8526496713622822\n",
            "[LightGBM] [Warning] feature_fraction is set=0.8526496713622822, colsample_bytree=1.0 will be ignored. Current value: feature_fraction=0.8526496713622822\n"
          ]
        },
        {
          "output_type": "stream",
          "name": "stderr",
          "text": [
            "\u001b[32m[I 2023-04-03 13:48:13,075]\u001b[0m Trial 39 finished with value: 0.9768297184663798 and parameters: {'max_depth': 7, 'feature_fraction': 0.8526496713622822}. Best is trial 19 with value: 0.9768297184663798.\u001b[0m\n"
          ]
        },
        {
          "output_type": "stream",
          "name": "stdout",
          "text": [
            "[LightGBM] [Warning] feature_fraction is set=0.7328685132540834, colsample_bytree=1.0 will be ignored. Current value: feature_fraction=0.7328685132540834\n",
            "[LightGBM] [Warning] feature_fraction is set=0.7328685132540834, colsample_bytree=1.0 will be ignored. Current value: feature_fraction=0.7328685132540834\n"
          ]
        },
        {
          "output_type": "stream",
          "name": "stderr",
          "text": [
            "\u001b[32m[I 2023-04-03 13:48:14,244]\u001b[0m Trial 40 finished with value: 0.9699213554486543 and parameters: {'max_depth': 3, 'feature_fraction': 0.7328685132540834}. Best is trial 19 with value: 0.9768297184663798.\u001b[0m\n"
          ]
        },
        {
          "output_type": "stream",
          "name": "stdout",
          "text": [
            "[LightGBM] [Warning] feature_fraction is set=0.7328685132540834, colsample_bytree=1.0 will be ignored. Current value: feature_fraction=0.7328685132540834\n",
            "[LightGBM] [Warning] feature_fraction is set=0.9051061796047686, colsample_bytree=1.0 will be ignored. Current value: feature_fraction=0.9051061796047686\n",
            "[LightGBM] [Warning] feature_fraction is set=0.9051061796047686, colsample_bytree=1.0 will be ignored. Current value: feature_fraction=0.9051061796047686\n"
          ]
        },
        {
          "output_type": "stream",
          "name": "stderr",
          "text": [
            "\u001b[32m[I 2023-04-03 13:48:14,978]\u001b[0m Trial 41 finished with value: 0.9768297184663798 and parameters: {'max_depth': 7, 'feature_fraction': 0.9051061796047686}. Best is trial 19 with value: 0.9768297184663798.\u001b[0m\n"
          ]
        },
        {
          "output_type": "stream",
          "name": "stdout",
          "text": [
            "[LightGBM] [Warning] feature_fraction is set=0.9051061796047686, colsample_bytree=1.0 will be ignored. Current value: feature_fraction=0.9051061796047686\n",
            "[LightGBM] [Warning] feature_fraction is set=0.8918322213733241, colsample_bytree=1.0 will be ignored. Current value: feature_fraction=0.8918322213733241\n",
            "[LightGBM] [Warning] feature_fraction is set=0.8918322213733241, colsample_bytree=1.0 will be ignored. Current value: feature_fraction=0.8918322213733241\n"
          ]
        },
        {
          "output_type": "stream",
          "name": "stderr",
          "text": [
            "\u001b[32m[I 2023-04-03 13:48:15,250]\u001b[0m Trial 42 finished with value: 0.9768297184663798 and parameters: {'max_depth': 7, 'feature_fraction': 0.8918322213733241}. Best is trial 19 with value: 0.9768297184663798.\u001b[0m\n"
          ]
        },
        {
          "output_type": "stream",
          "name": "stdout",
          "text": [
            "[LightGBM] [Warning] feature_fraction is set=0.8918322213733241, colsample_bytree=1.0 will be ignored. Current value: feature_fraction=0.8918322213733241\n",
            "[LightGBM] [Warning] feature_fraction is set=0.8311257747512157, colsample_bytree=1.0 will be ignored. Current value: feature_fraction=0.8311257747512157\n",
            "[LightGBM] [Warning] feature_fraction is set=0.8311257747512157, colsample_bytree=1.0 will be ignored. Current value: feature_fraction=0.8311257747512157\n"
          ]
        },
        {
          "output_type": "stream",
          "name": "stderr",
          "text": [
            "\u001b[32m[I 2023-04-03 13:48:15,507]\u001b[0m Trial 43 finished with value: 0.9768297184663798 and parameters: {'max_depth': 7, 'feature_fraction': 0.8311257747512157}. Best is trial 19 with value: 0.9768297184663798.\u001b[0m\n"
          ]
        },
        {
          "output_type": "stream",
          "name": "stdout",
          "text": [
            "[LightGBM] [Warning] feature_fraction is set=0.8311257747512157, colsample_bytree=1.0 will be ignored. Current value: feature_fraction=0.8311257747512157\n",
            "[LightGBM] [Warning] feature_fraction is set=0.9555097870953625, colsample_bytree=1.0 will be ignored. Current value: feature_fraction=0.9555097870953625\n",
            "[LightGBM] [Warning] feature_fraction is set=0.9555097870953625, colsample_bytree=1.0 will be ignored. Current value: feature_fraction=0.9555097870953625\n"
          ]
        },
        {
          "output_type": "stream",
          "name": "stderr",
          "text": [
            "\u001b[32m[I 2023-04-03 13:48:15,741]\u001b[0m Trial 44 finished with value: 0.9758941121368242 and parameters: {'max_depth': 6, 'feature_fraction': 0.9555097870953625}. Best is trial 19 with value: 0.9768297184663798.\u001b[0m\n",
            "\u001b[32m[I 2023-04-03 13:48:15,862]\u001b[0m Trial 45 finished with value: 0.9526458074609745 and parameters: {'max_depth': 2, 'feature_fraction': 0.8458313588074533}. Best is trial 19 with value: 0.9768297184663798.\u001b[0m\n"
          ]
        },
        {
          "output_type": "stream",
          "name": "stdout",
          "text": [
            "[LightGBM] [Warning] feature_fraction is set=0.9555097870953625, colsample_bytree=1.0 will be ignored. Current value: feature_fraction=0.9555097870953625\n",
            "[LightGBM] [Warning] feature_fraction is set=0.8458313588074533, colsample_bytree=1.0 will be ignored. Current value: feature_fraction=0.8458313588074533\n",
            "[LightGBM] [Warning] feature_fraction is set=0.8458313588074533, colsample_bytree=1.0 will be ignored. Current value: feature_fraction=0.8458313588074533\n",
            "[LightGBM] [Warning] feature_fraction is set=0.8458313588074533, colsample_bytree=1.0 will be ignored. Current value: feature_fraction=0.8458313588074533\n"
          ]
        },
        {
          "output_type": "stream",
          "name": "stderr",
          "text": [
            "\u001b[32m[I 2023-04-03 13:48:16,057]\u001b[0m Trial 46 finished with value: 0.9768307070207198 and parameters: {'max_depth': 5, 'feature_fraction': 0.9106235554247447}. Best is trial 46 with value: 0.9768307070207198.\u001b[0m\n"
          ]
        },
        {
          "output_type": "stream",
          "name": "stdout",
          "text": [
            "[LightGBM] [Warning] feature_fraction is set=0.9106235554247447, colsample_bytree=1.0 will be ignored. Current value: feature_fraction=0.9106235554247447\n",
            "[LightGBM] [Warning] feature_fraction is set=0.9106235554247447, colsample_bytree=1.0 will be ignored. Current value: feature_fraction=0.9106235554247447\n",
            "[LightGBM] [Warning] feature_fraction is set=0.9106235554247447, colsample_bytree=1.0 will be ignored. Current value: feature_fraction=0.9106235554247447\n",
            "[LightGBM] [Warning] feature_fraction is set=0.9708917063627989, colsample_bytree=1.0 will be ignored. Current value: feature_fraction=0.9708917063627989"
          ]
        },
        {
          "output_type": "stream",
          "name": "stderr",
          "text": [
            "\u001b[32m[I 2023-04-03 13:48:16,272]\u001b[0m Trial 47 finished with value: 0.9765224083258769 and parameters: {'max_depth': 5, 'feature_fraction': 0.9708917063627989}. Best is trial 46 with value: 0.9768307070207198.\u001b[0m\n"
          ]
        },
        {
          "output_type": "stream",
          "name": "stdout",
          "text": [
            "\n",
            "[LightGBM] [Warning] feature_fraction is set=0.9708917063627989, colsample_bytree=1.0 will be ignored. Current value: feature_fraction=0.9708917063627989\n",
            "[LightGBM] [Warning] feature_fraction is set=0.9708917063627989, colsample_bytree=1.0 will be ignored. Current value: feature_fraction=0.9708917063627989\n"
          ]
        },
        {
          "output_type": "stream",
          "name": "stderr",
          "text": [
            "\u001b[32m[I 2023-04-03 13:48:16,466]\u001b[0m Trial 48 finished with value: 0.9761140473772666 and parameters: {'max_depth': 4, 'feature_fraction': 0.9999755753482866}. Best is trial 46 with value: 0.9768307070207198.\u001b[0m\n"
          ]
        },
        {
          "output_type": "stream",
          "name": "stdout",
          "text": [
            "[LightGBM] [Warning] feature_fraction is set=0.9999755753482866, colsample_bytree=1.0 will be ignored. Current value: feature_fraction=0.9999755753482866\n",
            "[LightGBM] [Warning] feature_fraction is set=0.9999755753482866, colsample_bytree=1.0 will be ignored. Current value: feature_fraction=0.9999755753482866\n",
            "[LightGBM] [Warning] feature_fraction is set=0.9999755753482866, colsample_bytree=1.0 will be ignored. Current value: feature_fraction=0.9999755753482866\n",
            "[LightGBM] [Warning] feature_fraction is set=0.7945235031794626, colsample_bytree=1.0 will be ignored. Current value: feature_fraction=0.7945235031794626\n"
          ]
        },
        {
          "output_type": "stream",
          "name": "stderr",
          "text": [
            "\u001b[32m[I 2023-04-03 13:48:16,702]\u001b[0m Trial 49 finished with value: 0.9767062980275797 and parameters: {'max_depth': 6, 'feature_fraction': 0.7945235031794626}. Best is trial 46 with value: 0.9768307070207198.\u001b[0m\n"
          ]
        },
        {
          "output_type": "stream",
          "name": "stdout",
          "text": [
            "[LightGBM] [Warning] feature_fraction is set=0.7945235031794626, colsample_bytree=1.0 will be ignored. Current value: feature_fraction=0.7945235031794626\n",
            "[LightGBM] [Warning] feature_fraction is set=0.7945235031794626, colsample_bytree=1.0 will be ignored. Current value: feature_fraction=0.7945235031794626\n",
            "[LightGBM] [Warning] feature_fraction is set=0.8536118333721525, colsample_bytree=1.0 will be ignored. Current value: feature_fraction=0.8536118333721525\n"
          ]
        },
        {
          "output_type": "stream",
          "name": "stderr",
          "text": [
            "\u001b[32m[I 2023-04-03 13:48:16,913]\u001b[0m Trial 50 finished with value: 0.9768307070207198 and parameters: {'max_depth': 5, 'feature_fraction': 0.8536118333721525}. Best is trial 46 with value: 0.9768307070207198.\u001b[0m\n"
          ]
        },
        {
          "output_type": "stream",
          "name": "stdout",
          "text": [
            "[LightGBM] [Warning] feature_fraction is set=0.8536118333721525, colsample_bytree=1.0 will be ignored. Current value: feature_fraction=0.8536118333721525\n",
            "[LightGBM] [Warning] feature_fraction is set=0.8536118333721525, colsample_bytree=1.0 will be ignored. Current value: feature_fraction=0.8536118333721525\n",
            "[LightGBM] [Warning] feature_fraction is set=0.8594270578903471, colsample_bytree=1.0 will be ignored. Current value: feature_fraction=0.8594270578903471\n"
          ]
        },
        {
          "output_type": "stream",
          "name": "stderr",
          "text": [
            "\u001b[32m[I 2023-04-03 13:48:17,116]\u001b[0m Trial 51 finished with value: 0.9768307070207198 and parameters: {'max_depth': 5, 'feature_fraction': 0.8594270578903471}. Best is trial 46 with value: 0.9768307070207198.\u001b[0m\n"
          ]
        },
        {
          "output_type": "stream",
          "name": "stdout",
          "text": [
            "[LightGBM] [Warning] feature_fraction is set=0.8594270578903471, colsample_bytree=1.0 will be ignored. Current value: feature_fraction=0.8594270578903471\n",
            "[LightGBM] [Warning] feature_fraction is set=0.8594270578903471, colsample_bytree=1.0 will be ignored. Current value: feature_fraction=0.8594270578903471\n",
            "[LightGBM] [Warning] feature_fraction is set=0.8461371340491839, colsample_bytree=1.0 will be ignored. Current value: feature_fraction=0.8461371340491839\n"
          ]
        },
        {
          "output_type": "stream",
          "name": "stderr",
          "text": [
            "\u001b[32m[I 2023-04-03 13:48:17,311]\u001b[0m Trial 52 finished with value: 0.9768307070207198 and parameters: {'max_depth': 5, 'feature_fraction': 0.8461371340491839}. Best is trial 46 with value: 0.9768307070207198.\u001b[0m\n"
          ]
        },
        {
          "output_type": "stream",
          "name": "stdout",
          "text": [
            "[LightGBM] [Warning] feature_fraction is set=0.8461371340491839, colsample_bytree=1.0 will be ignored. Current value: feature_fraction=0.8461371340491839\n",
            "[LightGBM] [Warning] feature_fraction is set=0.8461371340491839, colsample_bytree=1.0 will be ignored. Current value: feature_fraction=0.8461371340491839\n",
            "[LightGBM] [Warning] feature_fraction is set=0.8450638755297492, colsample_bytree=1.0 will be ignored. Current value: feature_fraction=0.8450638755297492\n",
            "[LightGBM] [Warning] feature_fraction is set=0.8450638755297492, colsample_bytree=1.0 will be ignored. Current value: feature_fraction=0.8450638755297492\n"
          ]
        },
        {
          "output_type": "stream",
          "name": "stderr",
          "text": [
            "\u001b[32m[I 2023-04-03 13:48:17,519]\u001b[0m Trial 53 finished with value: 0.9768307070207198 and parameters: {'max_depth': 5, 'feature_fraction': 0.8450638755297492}. Best is trial 46 with value: 0.9768307070207198.\u001b[0m\n"
          ]
        },
        {
          "output_type": "stream",
          "name": "stdout",
          "text": [
            "[LightGBM] [Warning] feature_fraction is set=0.8450638755297492, colsample_bytree=1.0 will be ignored. Current value: feature_fraction=0.8450638755297492\n",
            "[LightGBM] [Warning] feature_fraction is set=0.8377464360200183, colsample_bytree=1.0 will be ignored. Current value: feature_fraction=0.8377464360200183\n",
            "[LightGBM] [Warning] feature_fraction is set=0.8377464360200183, colsample_bytree=1.0 will be ignored. Current value: feature_fraction=0.8377464360200183\n",
            "[LightGBM] [Warning] feature_fraction is set=0.8377464360200183, colsample_bytree=1.0 will be ignored. Current value: feature_fraction=0.8377464360200183\n"
          ]
        },
        {
          "output_type": "stream",
          "name": "stderr",
          "text": [
            "\u001b[32m[I 2023-04-03 13:48:17,722]\u001b[0m Trial 54 finished with value: 0.9768307070207198 and parameters: {'max_depth': 5, 'feature_fraction': 0.8377464360200183}. Best is trial 46 with value: 0.9768307070207198.\u001b[0m\n",
            "\u001b[32m[I 2023-04-03 13:48:17,912]\u001b[0m Trial 55 finished with value: 0.9768307070207198 and parameters: {'max_depth': 5, 'feature_fraction': 0.8429062298498817}. Best is trial 46 with value: 0.9768307070207198.\u001b[0m\n"
          ]
        },
        {
          "output_type": "stream",
          "name": "stdout",
          "text": [
            "[LightGBM] [Warning] feature_fraction is set=0.8429062298498817, colsample_bytree=1.0 will be ignored. Current value: feature_fraction=0.8429062298498817\n",
            "[LightGBM] [Warning] feature_fraction is set=0.8429062298498817, colsample_bytree=1.0 will be ignored. Current value: feature_fraction=0.8429062298498817\n",
            "[LightGBM] [Warning] feature_fraction is set=0.8429062298498817, colsample_bytree=1.0 will be ignored. Current value: feature_fraction=0.8429062298498817\n",
            "[LightGBM] [Warning] feature_fraction is set=0.7696521925467537, colsample_bytree=1.0 will be ignored. Current value: feature_fraction=0.7696521925467537\n"
          ]
        },
        {
          "output_type": "stream",
          "name": "stderr",
          "text": [
            "\u001b[32m[I 2023-04-03 13:48:18,108]\u001b[0m Trial 56 finished with value: 0.975470445032435 and parameters: {'max_depth': 5, 'feature_fraction': 0.7696521925467537}. Best is trial 46 with value: 0.9768307070207198.\u001b[0m\n"
          ]
        },
        {
          "output_type": "stream",
          "name": "stdout",
          "text": [
            "[LightGBM] [Warning] feature_fraction is set=0.7696521925467537, colsample_bytree=1.0 will be ignored. Current value: feature_fraction=0.7696521925467537\n",
            "[LightGBM] [Warning] feature_fraction is set=0.7696521925467537, colsample_bytree=1.0 will be ignored. Current value: feature_fraction=0.7696521925467537\n",
            "[LightGBM] [Warning] feature_fraction is set=0.8141166736614247, colsample_bytree=1.0 will be ignored. Current value: feature_fraction=0.8141166736614247\n",
            "[LightGBM] [Warning] feature_fraction is set=0.8141166736614247, colsample_bytree=1.0 will be ignored. Current value: feature_fraction=0.8141166736614247\n"
          ]
        },
        {
          "output_type": "stream",
          "name": "stderr",
          "text": [
            "\u001b[32m[I 2023-04-03 13:48:18,313]\u001b[0m Trial 57 finished with value: 0.9768307070207198 and parameters: {'max_depth': 5, 'feature_fraction': 0.8141166736614247}. Best is trial 46 with value: 0.9768307070207198.\u001b[0m\n"
          ]
        },
        {
          "output_type": "stream",
          "name": "stdout",
          "text": [
            "[LightGBM] [Warning] feature_fraction is set=0.8141166736614247, colsample_bytree=1.0 will be ignored. Current value: feature_fraction=0.8141166736614247\n",
            "[LightGBM] [Warning] feature_fraction is set=0.8627873589099643, colsample_bytree=1.0 will be ignored. Current value: feature_fraction=0.8627873589099643\n",
            "[LightGBM] [Warning] feature_fraction is set=0.8627873589099643, colsample_bytree=1.0 will be ignored. Current value: feature_fraction=0.8627873589099643\n"
          ]
        },
        {
          "output_type": "stream",
          "name": "stderr",
          "text": [
            "\u001b[32m[I 2023-04-03 13:48:18,516]\u001b[0m Trial 58 finished with value: 0.975951400630909 and parameters: {'max_depth': 4, 'feature_fraction': 0.8627873589099643}. Best is trial 46 with value: 0.9768307070207198.\u001b[0m\n"
          ]
        },
        {
          "output_type": "stream",
          "name": "stdout",
          "text": [
            "[LightGBM] [Warning] feature_fraction is set=0.8627873589099643, colsample_bytree=1.0 will be ignored. Current value: feature_fraction=0.8627873589099643\n",
            "[LightGBM] [Warning] feature_fraction is set=0.7056682773792606, colsample_bytree=1.0 will be ignored. Current value: feature_fraction=0.7056682773792606\n",
            "[LightGBM] [Warning] feature_fraction is set=0.7056682773792606, colsample_bytree=1.0 will be ignored. Current value: feature_fraction=0.7056682773792606\n"
          ]
        },
        {
          "output_type": "stream",
          "name": "stderr",
          "text": [
            "\u001b[32m[I 2023-04-03 13:48:18,739]\u001b[0m Trial 59 finished with value: 0.975470445032435 and parameters: {'max_depth': 5, 'feature_fraction': 0.7056682773792606}. Best is trial 46 with value: 0.9768307070207198.\u001b[0m\n"
          ]
        },
        {
          "output_type": "stream",
          "name": "stdout",
          "text": [
            "[LightGBM] [Warning] feature_fraction is set=0.7056682773792606, colsample_bytree=1.0 will be ignored. Current value: feature_fraction=0.7056682773792606\n",
            "[LightGBM] [Warning] feature_fraction is set=0.7803082695814807, colsample_bytree=1.0 will be ignored. Current value: feature_fraction=0.7803082695814807\n",
            "[LightGBM] [Warning] feature_fraction is set=0.7803082695814807, colsample_bytree=1.0 will be ignored. Current value: feature_fraction=0.7803082695814807\n"
          ]
        },
        {
          "output_type": "stream",
          "name": "stderr",
          "text": [
            "\u001b[32m[I 2023-04-03 13:48:18,960]\u001b[0m Trial 60 finished with value: 0.975470445032435 and parameters: {'max_depth': 5, 'feature_fraction': 0.7803082695814807}. Best is trial 46 with value: 0.9768307070207198.\u001b[0m\n"
          ]
        },
        {
          "output_type": "stream",
          "name": "stdout",
          "text": [
            "[LightGBM] [Warning] feature_fraction is set=0.7803082695814807, colsample_bytree=1.0 will be ignored. Current value: feature_fraction=0.7803082695814807\n",
            "[LightGBM] [Warning] feature_fraction is set=0.8200706768982452, colsample_bytree=1.0 will be ignored. Current value: feature_fraction=0.8200706768982452\n",
            "[LightGBM] [Warning] feature_fraction is set=0.8200706768982452, colsample_bytree=1.0 will be ignored. Current value: feature_fraction=0.8200706768982452\n",
            "[LightGBM] [Warning] feature_fraction is set=0.8200706768982452, colsample_bytree=1.0 will be ignored. Current value: feature_fraction=0.8200706768982452"
          ]
        },
        {
          "output_type": "stream",
          "name": "stderr",
          "text": [
            "\u001b[32m[I 2023-04-03 13:48:19,165]\u001b[0m Trial 61 finished with value: 0.9768307070207198 and parameters: {'max_depth': 5, 'feature_fraction': 0.8200706768982452}. Best is trial 46 with value: 0.9768307070207198.\u001b[0m\n"
          ]
        },
        {
          "output_type": "stream",
          "name": "stdout",
          "text": [
            "\n",
            "[LightGBM] [Warning] feature_fraction is set=0.8492454673418366, colsample_bytree=1.0 will be ignored. Current value: feature_fraction=0.8492454673418366\n",
            "[LightGBM] [Warning] feature_fraction is set=0.8492454673418366, colsample_bytree=1.0 will be ignored. Current value: feature_fraction=0.8492454673418366\n"
          ]
        },
        {
          "output_type": "stream",
          "name": "stderr",
          "text": [
            "\u001b[32m[I 2023-04-03 13:48:19,365]\u001b[0m Trial 62 finished with value: 0.9768307070207198 and parameters: {'max_depth': 5, 'feature_fraction': 0.8492454673418366}. Best is trial 46 with value: 0.9768307070207198.\u001b[0m\n"
          ]
        },
        {
          "output_type": "stream",
          "name": "stdout",
          "text": [
            "[LightGBM] [Warning] feature_fraction is set=0.8492454673418366, colsample_bytree=1.0 will be ignored. Current value: feature_fraction=0.8492454673418366\n",
            "[LightGBM] [Warning] feature_fraction is set=0.8659252049503252, colsample_bytree=1.0 will be ignored. Current value: feature_fraction=0.8659252049503252\n",
            "[LightGBM] [Warning] feature_fraction is set=0.8659252049503252, colsample_bytree=1.0 will be ignored. Current value: feature_fraction=0.8659252049503252\n",
            "[LightGBM] [Warning] feature_fraction is set=0.8659252049503252, colsample_bytree=1.0 will be ignored. Current value: feature_fraction=0.8659252049503252\n"
          ]
        },
        {
          "output_type": "stream",
          "name": "stderr",
          "text": [
            "\u001b[32m[I 2023-04-03 13:48:19,567]\u001b[0m Trial 63 finished with value: 0.9768307070207198 and parameters: {'max_depth': 5, 'feature_fraction': 0.8659252049503252}. Best is trial 46 with value: 0.9768307070207198.\u001b[0m\n",
            "\u001b[32m[I 2023-04-03 13:48:19,729]\u001b[0m Trial 64 finished with value: 0.975951400630909 and parameters: {'max_depth': 4, 'feature_fraction': 0.8332365160326124}. Best is trial 46 with value: 0.9768307070207198.\u001b[0m\n"
          ]
        },
        {
          "output_type": "stream",
          "name": "stdout",
          "text": [
            "[LightGBM] [Warning] feature_fraction is set=0.8332365160326124, colsample_bytree=1.0 will be ignored. Current value: feature_fraction=0.8332365160326124\n",
            "[LightGBM] [Warning] feature_fraction is set=0.8332365160326124, colsample_bytree=1.0 will be ignored. Current value: feature_fraction=0.8332365160326124\n",
            "[LightGBM] [Warning] feature_fraction is set=0.8332365160326124, colsample_bytree=1.0 will be ignored. Current value: feature_fraction=0.8332365160326124\n",
            "[LightGBM] [Warning] feature_fraction is set=0.7629651888193699, colsample_bytree=1.0 will be ignored. Current value: feature_fraction=0.7629651888193699\n"
          ]
        },
        {
          "output_type": "stream",
          "name": "stderr",
          "text": [
            "\u001b[32m[I 2023-04-03 13:48:19,923]\u001b[0m Trial 65 finished with value: 0.975470445032435 and parameters: {'max_depth': 5, 'feature_fraction': 0.7629651888193699}. Best is trial 46 with value: 0.9768307070207198.\u001b[0m\n"
          ]
        },
        {
          "output_type": "stream",
          "name": "stdout",
          "text": [
            "[LightGBM] [Warning] feature_fraction is set=0.7629651888193699, colsample_bytree=1.0 will be ignored. Current value: feature_fraction=0.7629651888193699\n",
            "[LightGBM] [Warning] feature_fraction is set=0.7629651888193699, colsample_bytree=1.0 will be ignored. Current value: feature_fraction=0.7629651888193699\n",
            "[LightGBM] [Warning] feature_fraction is set=0.8723414011104307, colsample_bytree=1.0 will be ignored. Current value: feature_fraction=0.8723414011104307\n",
            "[LightGBM] [Warning] feature_fraction is set=0.8723414011104307, colsample_bytree=1.0 will be ignored. Current value: feature_fraction=0.8723414011104307\n"
          ]
        },
        {
          "output_type": "stream",
          "name": "stderr",
          "text": [
            "\u001b[32m[I 2023-04-03 13:48:20,117]\u001b[0m Trial 66 finished with value: 0.9768307070207198 and parameters: {'max_depth': 5, 'feature_fraction': 0.8723414011104307}. Best is trial 46 with value: 0.9768307070207198.\u001b[0m\n"
          ]
        },
        {
          "output_type": "stream",
          "name": "stdout",
          "text": [
            "[LightGBM] [Warning] feature_fraction is set=0.8723414011104307, colsample_bytree=1.0 will be ignored. Current value: feature_fraction=0.8723414011104307\n",
            "[LightGBM] [Warning] feature_fraction is set=0.8036388381735633, colsample_bytree=1.0 will be ignored. Current value: feature_fraction=0.8036388381735633\n",
            "[LightGBM] [Warning] feature_fraction is set=0.8036388381735633, colsample_bytree=1.0 will be ignored. Current value: feature_fraction=0.8036388381735633\n",
            "[LightGBM] [Warning] feature_fraction is set=0.8036388381735633, colsample_bytree=1.0 will be ignored. Current value: feature_fraction=0.8036388381735633\n"
          ]
        },
        {
          "output_type": "stream",
          "name": "stderr",
          "text": [
            "\u001b[32m[I 2023-04-03 13:48:20,289]\u001b[0m Trial 67 finished with value: 0.975951400630909 and parameters: {'max_depth': 4, 'feature_fraction': 0.8036388381735633}. Best is trial 46 with value: 0.9768307070207198.\u001b[0m\n"
          ]
        },
        {
          "output_type": "stream",
          "name": "stdout",
          "text": [
            "[LightGBM] [Warning] feature_fraction is set=0.9366450190011463, colsample_bytree=1.0 will be ignored. Current value: feature_fraction=0.9366450190011463\n",
            "[LightGBM] [Warning] feature_fraction is set=0.9366450190011463, colsample_bytree=1.0 will be ignored. Current value: feature_fraction=0.9366450190011463\n",
            "[LightGBM] [Warning] feature_fraction is set=0.9366450190011463, colsample_bytree=1.0 will be ignored. Current value: feature_fraction=0.9366450190011463\n"
          ]
        },
        {
          "output_type": "stream",
          "name": "stderr",
          "text": [
            "\u001b[32m[I 2023-04-03 13:48:20,538]\u001b[0m Trial 68 finished with value: 0.9765224083258769 and parameters: {'max_depth': 5, 'feature_fraction': 0.9366450190011463}. Best is trial 46 with value: 0.9768307070207198.\u001b[0m\n",
            "\u001b[32m[I 2023-04-03 13:48:20,737]\u001b[0m Trial 69 finished with value: 0.9768307070207198 and parameters: {'max_depth': 5, 'feature_fraction': 0.8828501257087594}. Best is trial 46 with value: 0.9768307070207198.\u001b[0m\n"
          ]
        },
        {
          "output_type": "stream",
          "name": "stdout",
          "text": [
            "[LightGBM] [Warning] feature_fraction is set=0.8828501257087594, colsample_bytree=1.0 will be ignored. Current value: feature_fraction=0.8828501257087594\n",
            "[LightGBM] [Warning] feature_fraction is set=0.8828501257087594, colsample_bytree=1.0 will be ignored. Current value: feature_fraction=0.8828501257087594\n",
            "[LightGBM] [Warning] feature_fraction is set=0.8828501257087594, colsample_bytree=1.0 will be ignored. Current value: feature_fraction=0.8828501257087594\n",
            "[LightGBM] [Warning] feature_fraction is set=0.7480112037182693, colsample_bytree=1.0 will be ignored. Current value: feature_fraction=0.7480112037182693\n"
          ]
        },
        {
          "output_type": "stream",
          "name": "stderr",
          "text": [
            "\u001b[32m[I 2023-04-03 13:48:20,919]\u001b[0m Trial 70 finished with value: 0.9745059802488035 and parameters: {'max_depth': 4, 'feature_fraction': 0.7480112037182693}. Best is trial 46 with value: 0.9768307070207198.\u001b[0m\n"
          ]
        },
        {
          "output_type": "stream",
          "name": "stdout",
          "text": [
            "[LightGBM] [Warning] feature_fraction is set=0.7480112037182693, colsample_bytree=1.0 will be ignored. Current value: feature_fraction=0.7480112037182693\n",
            "[LightGBM] [Warning] feature_fraction is set=0.7480112037182693, colsample_bytree=1.0 will be ignored. Current value: feature_fraction=0.7480112037182693\n",
            "[LightGBM] [Warning] feature_fraction is set=0.8289289025578983, colsample_bytree=1.0 will be ignored. Current value: feature_fraction=0.8289289025578983\n",
            "[LightGBM] [Warning] feature_fraction is set=0.8289289025578983, colsample_bytree=1.0 will be ignored. Current value: feature_fraction=0.8289289025578983\n"
          ]
        },
        {
          "output_type": "stream",
          "name": "stderr",
          "text": [
            "\u001b[32m[I 2023-04-03 13:48:21,119]\u001b[0m Trial 71 finished with value: 0.9768307070207198 and parameters: {'max_depth': 5, 'feature_fraction': 0.8289289025578983}. Best is trial 46 with value: 0.9768307070207198.\u001b[0m\n"
          ]
        },
        {
          "output_type": "stream",
          "name": "stdout",
          "text": [
            "[LightGBM] [Warning] feature_fraction is set=0.8289289025578983, colsample_bytree=1.0 will be ignored. Current value: feature_fraction=0.8289289025578983\n",
            "[LightGBM] [Warning] feature_fraction is set=0.7961656387116998, colsample_bytree=1.0 will be ignored. Current value: feature_fraction=0.7961656387116998\n",
            "[LightGBM] [Warning] feature_fraction is set=0.7961656387116998, colsample_bytree=1.0 will be ignored. Current value: feature_fraction=0.7961656387116998\n",
            "[LightGBM] [Warning] feature_fraction is set=0.7961656387116998, colsample_bytree=1.0 will be ignored. Current value: feature_fraction=0.7961656387116998\n"
          ]
        },
        {
          "output_type": "stream",
          "name": "stderr",
          "text": [
            "\u001b[32m[I 2023-04-03 13:48:21,324]\u001b[0m Trial 72 finished with value: 0.9768307070207198 and parameters: {'max_depth': 5, 'feature_fraction': 0.7961656387116998}. Best is trial 46 with value: 0.9768307070207198.\u001b[0m\n",
            "\u001b[32m[I 2023-04-03 13:48:21,527]\u001b[0m Trial 73 finished with value: 0.9768307070207198 and parameters: {'max_depth': 5, 'feature_fraction': 0.9139917053153533}. Best is trial 46 with value: 0.9768307070207198.\u001b[0m\n"
          ]
        },
        {
          "output_type": "stream",
          "name": "stdout",
          "text": [
            "[LightGBM] [Warning] feature_fraction is set=0.9139917053153533, colsample_bytree=1.0 will be ignored. Current value: feature_fraction=0.9139917053153533\n",
            "[LightGBM] [Warning] feature_fraction is set=0.9139917053153533, colsample_bytree=1.0 will be ignored. Current value: feature_fraction=0.9139917053153533\n",
            "[LightGBM] [Warning] feature_fraction is set=0.9139917053153533, colsample_bytree=1.0 will be ignored. Current value: feature_fraction=0.9139917053153533\n"
          ]
        },
        {
          "output_type": "stream",
          "name": "stderr",
          "text": [
            "\u001b[32m[I 2023-04-03 13:48:21,721]\u001b[0m Trial 74 finished with value: 0.9768307070207198 and parameters: {'max_depth': 5, 'feature_fraction': 0.8226489223322362}. Best is trial 46 with value: 0.9768307070207198.\u001b[0m\n"
          ]
        },
        {
          "output_type": "stream",
          "name": "stdout",
          "text": [
            "[LightGBM] [Warning] feature_fraction is set=0.8226489223322362, colsample_bytree=1.0 will be ignored. Current value: feature_fraction=0.8226489223322362\n",
            "[LightGBM] [Warning] feature_fraction is set=0.8226489223322362, colsample_bytree=1.0 will be ignored. Current value: feature_fraction=0.8226489223322362\n",
            "[LightGBM] [Warning] feature_fraction is set=0.8226489223322362, colsample_bytree=1.0 will be ignored. Current value: feature_fraction=0.8226489223322362\n",
            "[LightGBM] [Warning] feature_fraction is set=0.8519613997430261, colsample_bytree=1.0 will be ignored. Current value: feature_fraction=0.8519613997430261\n"
          ]
        },
        {
          "output_type": "stream",
          "name": "stderr",
          "text": [
            "\u001b[32m[I 2023-04-03 13:48:21,916]\u001b[0m Trial 75 finished with value: 0.9768307070207198 and parameters: {'max_depth': 5, 'feature_fraction': 0.8519613997430261}. Best is trial 46 with value: 0.9768307070207198.\u001b[0m\n"
          ]
        },
        {
          "output_type": "stream",
          "name": "stdout",
          "text": [
            "[LightGBM] [Warning] feature_fraction is set=0.8519613997430261, colsample_bytree=1.0 will be ignored. Current value: feature_fraction=0.8519613997430261\n",
            "[LightGBM] [Warning] feature_fraction is set=0.8519613997430261, colsample_bytree=1.0 will be ignored. Current value: feature_fraction=0.8519613997430261\n",
            "[LightGBM] [Warning] feature_fraction is set=0.8777070277935604, colsample_bytree=1.0 will be ignored. Current value: feature_fraction=0.8777070277935604\n",
            "[LightGBM] [Warning] feature_fraction is set=0.8777070277935604, colsample_bytree=1.0 will be ignored. Current value: feature_fraction=0.8777070277935604\n"
          ]
        },
        {
          "output_type": "stream",
          "name": "stderr",
          "text": [
            "\u001b[32m[I 2023-04-03 13:48:22,106]\u001b[0m Trial 76 finished with value: 0.9768307070207198 and parameters: {'max_depth': 5, 'feature_fraction': 0.8777070277935604}. Best is trial 46 with value: 0.9768307070207198.\u001b[0m\n"
          ]
        },
        {
          "output_type": "stream",
          "name": "stdout",
          "text": [
            "[LightGBM] [Warning] feature_fraction is set=0.8777070277935604, colsample_bytree=1.0 will be ignored. Current value: feature_fraction=0.8777070277935604\n",
            "[LightGBM] [Warning] feature_fraction is set=0.9218059525925842, colsample_bytree=1.0 will be ignored. Current value: feature_fraction=0.9218059525925842\n",
            "[LightGBM] [Warning] feature_fraction is set=0.9218059525925842, colsample_bytree=1.0 will be ignored. Current value: feature_fraction=0.9218059525925842\n",
            "[LightGBM] [Warning] feature_fraction is set=0.9218059525925842, colsample_bytree=1.0 will be ignored. Current value: feature_fraction=0.9218059525925842\n"
          ]
        },
        {
          "output_type": "stream",
          "name": "stderr",
          "text": [
            "\u001b[32m[I 2023-04-03 13:48:22,307]\u001b[0m Trial 77 finished with value: 0.9768307070207198 and parameters: {'max_depth': 5, 'feature_fraction': 0.9218059525925842}. Best is trial 46 with value: 0.9768307070207198.\u001b[0m\n",
            "\u001b[32m[I 2023-04-03 13:48:22,496]\u001b[0m Trial 78 finished with value: 0.9761140473772666 and parameters: {'max_depth': 4, 'feature_fraction': 0.9731608291357958}. Best is trial 46 with value: 0.9768307070207198.\u001b[0m\n"
          ]
        },
        {
          "output_type": "stream",
          "name": "stdout",
          "text": [
            "[LightGBM] [Warning] feature_fraction is set=0.9731608291357958, colsample_bytree=1.0 will be ignored. Current value: feature_fraction=0.9731608291357958\n",
            "[LightGBM] [Warning] feature_fraction is set=0.9731608291357958, colsample_bytree=1.0 will be ignored. Current value: feature_fraction=0.9731608291357958\n",
            "[LightGBM] [Warning] feature_fraction is set=0.9731608291357958, colsample_bytree=1.0 will be ignored. Current value: feature_fraction=0.9731608291357958\n",
            "[LightGBM] [Warning] feature_fraction is set=0.7924028893906596, colsample_bytree=1.0 will be ignored. Current value: feature_fraction=0.7924028893906596\n"
          ]
        },
        {
          "output_type": "stream",
          "name": "stderr",
          "text": [
            "\u001b[32m[I 2023-04-03 13:48:22,737]\u001b[0m Trial 79 finished with value: 0.9767062980275797 and parameters: {'max_depth': 6, 'feature_fraction': 0.7924028893906596}. Best is trial 46 with value: 0.9768307070207198.\u001b[0m\n"
          ]
        },
        {
          "output_type": "stream",
          "name": "stdout",
          "text": [
            "[LightGBM] [Warning] feature_fraction is set=0.7924028893906596, colsample_bytree=1.0 will be ignored. Current value: feature_fraction=0.7924028893906596\n",
            "[LightGBM] [Warning] feature_fraction is set=0.7924028893906596, colsample_bytree=1.0 will be ignored. Current value: feature_fraction=0.7924028893906596\n",
            "[LightGBM] [Warning] feature_fraction is set=0.8865255433637333, colsample_bytree=1.0 will be ignored. Current value: feature_fraction=0.8865255433637333\n"
          ]
        },
        {
          "output_type": "stream",
          "name": "stderr",
          "text": [
            "\u001b[32m[I 2023-04-03 13:48:22,946]\u001b[0m Trial 80 finished with value: 0.9768307070207198 and parameters: {'max_depth': 5, 'feature_fraction': 0.8865255433637333}. Best is trial 46 with value: 0.9768307070207198.\u001b[0m\n"
          ]
        },
        {
          "output_type": "stream",
          "name": "stdout",
          "text": [
            "[LightGBM] [Warning] feature_fraction is set=0.8865255433637333, colsample_bytree=1.0 will be ignored. Current value: feature_fraction=0.8865255433637333\n",
            "[LightGBM] [Warning] feature_fraction is set=0.8865255433637333, colsample_bytree=1.0 will be ignored. Current value: feature_fraction=0.8865255433637333\n",
            "[LightGBM] [Warning] feature_fraction is set=0.8237297000628039, colsample_bytree=1.0 will be ignored. Current value: feature_fraction=0.8237297000628039\n",
            "[LightGBM] [Warning] feature_fraction is set=0.8237297000628039, colsample_bytree=1.0 will be ignored. Current value: feature_fraction=0.8237297000628039\n"
          ]
        },
        {
          "output_type": "stream",
          "name": "stderr",
          "text": [
            "\u001b[32m[I 2023-04-03 13:48:23,137]\u001b[0m Trial 81 finished with value: 0.9768307070207198 and parameters: {'max_depth': 5, 'feature_fraction': 0.8237297000628039}. Best is trial 46 with value: 0.9768307070207198.\u001b[0m\n"
          ]
        },
        {
          "output_type": "stream",
          "name": "stdout",
          "text": [
            "[LightGBM] [Warning] feature_fraction is set=0.8237297000628039, colsample_bytree=1.0 will be ignored. Current value: feature_fraction=0.8237297000628039\n",
            "[LightGBM] [Warning] feature_fraction is set=0.8132846828650298, colsample_bytree=1.0 will be ignored. Current value: feature_fraction=0.8132846828650298\n",
            "[LightGBM] [Warning] feature_fraction is set=0.8132846828650298, colsample_bytree=1.0 will be ignored. Current value: feature_fraction=0.8132846828650298\n",
            "[LightGBM] [Warning] feature_fraction is set=0.8132846828650298, colsample_bytree=1.0 will be ignored. Current value: feature_fraction=0.8132846828650298\n"
          ]
        },
        {
          "output_type": "stream",
          "name": "stderr",
          "text": [
            "\u001b[32m[I 2023-04-03 13:48:23,334]\u001b[0m Trial 82 finished with value: 0.9768307070207198 and parameters: {'max_depth': 5, 'feature_fraction': 0.8132846828650298}. Best is trial 46 with value: 0.9768307070207198.\u001b[0m\n",
            "\u001b[32m[I 2023-04-03 13:48:23,551]\u001b[0m Trial 83 finished with value: 0.9768307070207198 and parameters: {'max_depth': 5, 'feature_fraction': 0.8415699046061782}. Best is trial 46 with value: 0.9768307070207198.\u001b[0m\n"
          ]
        },
        {
          "output_type": "stream",
          "name": "stdout",
          "text": [
            "[LightGBM] [Warning] feature_fraction is set=0.8415699046061782, colsample_bytree=1.0 will be ignored. Current value: feature_fraction=0.8415699046061782\n",
            "[LightGBM] [Warning] feature_fraction is set=0.8415699046061782, colsample_bytree=1.0 will be ignored. Current value: feature_fraction=0.8415699046061782\n",
            "[LightGBM] [Warning] feature_fraction is set=0.8415699046061782, colsample_bytree=1.0 will be ignored. Current value: feature_fraction=0.8415699046061782\n"
          ]
        },
        {
          "output_type": "stream",
          "name": "stderr",
          "text": [
            "\u001b[32m[I 2023-04-03 13:48:23,750]\u001b[0m Trial 84 finished with value: 0.975470445032435 and parameters: {'max_depth': 5, 'feature_fraction': 0.7779214543229325}. Best is trial 46 with value: 0.9768307070207198.\u001b[0m\n"
          ]
        },
        {
          "output_type": "stream",
          "name": "stdout",
          "text": [
            "[LightGBM] [Warning] feature_fraction is set=0.7779214543229325, colsample_bytree=1.0 will be ignored. Current value: feature_fraction=0.7779214543229325\n",
            "[LightGBM] [Warning] feature_fraction is set=0.7779214543229325, colsample_bytree=1.0 will be ignored. Current value: feature_fraction=0.7779214543229325\n",
            "[LightGBM] [Warning] feature_fraction is set=0.7779214543229325, colsample_bytree=1.0 will be ignored. Current value: feature_fraction=0.7779214543229325\n",
            "[LightGBM] [Warning] feature_fraction is set=0.9036228382555463, colsample_bytree=1.0 will be ignored. Current value: feature_fraction=0.9036228382555463\n"
          ]
        },
        {
          "output_type": "stream",
          "name": "stderr",
          "text": [
            "\u001b[32m[I 2023-04-03 13:48:23,945]\u001b[0m Trial 85 finished with value: 0.9768307070207198 and parameters: {'max_depth': 5, 'feature_fraction': 0.9036228382555463}. Best is trial 46 with value: 0.9768307070207198.\u001b[0m\n"
          ]
        },
        {
          "output_type": "stream",
          "name": "stdout",
          "text": [
            "[LightGBM] [Warning] feature_fraction is set=0.9036228382555463, colsample_bytree=1.0 will be ignored. Current value: feature_fraction=0.9036228382555463\n",
            "[LightGBM] [Warning] feature_fraction is set=0.9036228382555463, colsample_bytree=1.0 will be ignored. Current value: feature_fraction=0.9036228382555463\n",
            "[LightGBM] [Warning] feature_fraction is set=0.9470820304924737, colsample_bytree=1.0 will be ignored. Current value: feature_fraction=0.9470820304924737\n",
            "[LightGBM] [Warning] feature_fraction is set=0.9470820304924737, colsample_bytree=1.0 will be ignored. Current value: feature_fraction=0.9470820304924737\n"
          ]
        },
        {
          "output_type": "stream",
          "name": "stderr",
          "text": [
            "\u001b[32m[I 2023-04-03 13:48:24,167]\u001b[0m Trial 86 finished with value: 0.9758941121368242 and parameters: {'max_depth': 6, 'feature_fraction': 0.9470820304924737}. Best is trial 46 with value: 0.9768307070207198.\u001b[0m\n"
          ]
        },
        {
          "output_type": "stream",
          "name": "stdout",
          "text": [
            "[LightGBM] [Warning] feature_fraction is set=0.9470820304924737, colsample_bytree=1.0 will be ignored. Current value: feature_fraction=0.9470820304924737\n",
            "[LightGBM] [Warning] feature_fraction is set=0.859342455474364, colsample_bytree=1.0 will be ignored. Current value: feature_fraction=0.859342455474364\n",
            "[LightGBM] [Warning] feature_fraction is set=0.859342455474364, colsample_bytree=1.0 will be ignored. Current value: feature_fraction=0.859342455474364\n",
            "[LightGBM] [Warning] feature_fraction is set=0.859342455474364, colsample_bytree=1.0 will be ignored. Current value: feature_fraction=0.859342455474364\n"
          ]
        },
        {
          "output_type": "stream",
          "name": "stderr",
          "text": [
            "\u001b[32m[I 2023-04-03 13:48:24,344]\u001b[0m Trial 87 finished with value: 0.975951400630909 and parameters: {'max_depth': 4, 'feature_fraction': 0.859342455474364}. Best is trial 46 with value: 0.9768307070207198.\u001b[0m\n",
            "\u001b[32m[I 2023-04-03 13:48:24,555]\u001b[0m Trial 88 finished with value: 0.9768307070207198 and parameters: {'max_depth': 5, 'feature_fraction': 0.8081356022888416}. Best is trial 46 with value: 0.9768307070207198.\u001b[0m\n"
          ]
        },
        {
          "output_type": "stream",
          "name": "stdout",
          "text": [
            "[LightGBM] [Warning] feature_fraction is set=0.8081356022888416, colsample_bytree=1.0 will be ignored. Current value: feature_fraction=0.8081356022888416\n",
            "[LightGBM] [Warning] feature_fraction is set=0.8081356022888416, colsample_bytree=1.0 will be ignored. Current value: feature_fraction=0.8081356022888416\n",
            "[LightGBM] [Warning] feature_fraction is set=0.8081356022888416, colsample_bytree=1.0 will be ignored. Current value: feature_fraction=0.8081356022888416\n"
          ]
        },
        {
          "output_type": "stream",
          "name": "stderr",
          "text": [
            "\u001b[32m[I 2023-04-03 13:48:24,781]\u001b[0m Trial 89 finished with value: 0.9767062980275797 and parameters: {'max_depth': 6, 'feature_fraction': 0.9146664410079223}. Best is trial 46 with value: 0.9768307070207198.\u001b[0m\n"
          ]
        },
        {
          "output_type": "stream",
          "name": "stdout",
          "text": [
            "[LightGBM] [Warning] feature_fraction is set=0.9146664410079223, colsample_bytree=1.0 will be ignored. Current value: feature_fraction=0.9146664410079223\n",
            "[LightGBM] [Warning] feature_fraction is set=0.9146664410079223, colsample_bytree=1.0 will be ignored. Current value: feature_fraction=0.9146664410079223\n",
            "[LightGBM] [Warning] feature_fraction is set=0.9146664410079223, colsample_bytree=1.0 will be ignored. Current value: feature_fraction=0.9146664410079223\n",
            "[LightGBM] [Warning] feature_fraction is set=0.8824689361726177, colsample_bytree=1.0 will be ignored. Current value: feature_fraction=0.8824689361726177\n",
            "[LightGBM] [Warning] feature_fraction is set=0.8824689361726177, colsample_bytree=1.0 will be ignored. Current value: feature_fraction=0.8824689361726177\n"
          ]
        },
        {
          "output_type": "stream",
          "name": "stderr",
          "text": [
            "\u001b[32m[I 2023-04-03 13:48:25,139]\u001b[0m Trial 90 finished with value: 0.9768307070207198 and parameters: {'max_depth': 5, 'feature_fraction': 0.8824689361726177}. Best is trial 46 with value: 0.9768307070207198.\u001b[0m\n"
          ]
        },
        {
          "output_type": "stream",
          "name": "stdout",
          "text": [
            "[LightGBM] [Warning] feature_fraction is set=0.8824689361726177, colsample_bytree=1.0 will be ignored. Current value: feature_fraction=0.8824689361726177\n",
            "[LightGBM] [Warning] feature_fraction is set=0.8298006099120678, colsample_bytree=1.0 will be ignored. Current value: feature_fraction=0.8298006099120678\n",
            "[LightGBM] [Warning] feature_fraction is set=0.8298006099120678, colsample_bytree=1.0 will be ignored. Current value: feature_fraction=0.8298006099120678\n",
            "[LightGBM] [Warning] feature_fraction is set=0.8298006099120678, colsample_bytree=1.0 will be ignored. Current value: feature_fraction=0.8298006099120678\n"
          ]
        },
        {
          "output_type": "stream",
          "name": "stderr",
          "text": [
            "\u001b[32m[I 2023-04-03 13:48:27,413]\u001b[0m Trial 91 finished with value: 0.9768307070207198 and parameters: {'max_depth': 5, 'feature_fraction': 0.8298006099120678}. Best is trial 46 with value: 0.9768307070207198.\u001b[0m\n",
            "\u001b[32m[I 2023-04-03 13:48:27,602]\u001b[0m Trial 92 finished with value: 0.9768307070207198 and parameters: {'max_depth': 5, 'feature_fraction': 0.8426907298837334}. Best is trial 46 with value: 0.9768307070207198.\u001b[0m\n"
          ]
        },
        {
          "output_type": "stream",
          "name": "stdout",
          "text": [
            "[LightGBM] [Warning] feature_fraction is set=0.8426907298837334, colsample_bytree=1.0 will be ignored. Current value: feature_fraction=0.8426907298837334\n",
            "[LightGBM] [Warning] feature_fraction is set=0.8426907298837334, colsample_bytree=1.0 will be ignored. Current value: feature_fraction=0.8426907298837334\n",
            "[LightGBM] [Warning] feature_fraction is set=0.8426907298837334, colsample_bytree=1.0 will be ignored. Current value: feature_fraction=0.8426907298837334\n",
            "[LightGBM] [Warning] feature_fraction is set=0.855732284779445, colsample_bytree=1.0 will be ignored. Current value: feature_fraction=0.855732284779445\n"
          ]
        },
        {
          "output_type": "stream",
          "name": "stderr",
          "text": [
            "\u001b[32m[I 2023-04-03 13:48:27,811]\u001b[0m Trial 93 finished with value: 0.9768307070207198 and parameters: {'max_depth': 5, 'feature_fraction': 0.855732284779445}. Best is trial 46 with value: 0.9768307070207198.\u001b[0m\n"
          ]
        },
        {
          "output_type": "stream",
          "name": "stdout",
          "text": [
            "[LightGBM] [Warning] feature_fraction is set=0.855732284779445, colsample_bytree=1.0 will be ignored. Current value: feature_fraction=0.855732284779445\n",
            "[LightGBM] [Warning] feature_fraction is set=0.855732284779445, colsample_bytree=1.0 will be ignored. Current value: feature_fraction=0.855732284779445\n",
            "[LightGBM] [Warning] feature_fraction is set=0.7483115681256791, colsample_bytree=1.0 will be ignored. Current value: feature_fraction=0.7483115681256791\n",
            "[LightGBM] [Warning] feature_fraction is set=0.7483115681256791, colsample_bytree=1.0 will be ignored. Current value: feature_fraction=0.7483115681256791\n"
          ]
        },
        {
          "output_type": "stream",
          "name": "stderr",
          "text": [
            "\u001b[32m[I 2023-04-03 13:48:28,010]\u001b[0m Trial 94 finished with value: 0.975470445032435 and parameters: {'max_depth': 5, 'feature_fraction': 0.7483115681256791}. Best is trial 46 with value: 0.9768307070207198.\u001b[0m\n"
          ]
        },
        {
          "output_type": "stream",
          "name": "stdout",
          "text": [
            "[LightGBM] [Warning] feature_fraction is set=0.7483115681256791, colsample_bytree=1.0 will be ignored. Current value: feature_fraction=0.7483115681256791\n",
            "[LightGBM] [Warning] feature_fraction is set=0.8973587602142363, colsample_bytree=1.0 will be ignored. Current value: feature_fraction=0.8973587602142363\n",
            "[LightGBM] [Warning] feature_fraction is set=0.8973587602142363, colsample_bytree=1.0 will be ignored. Current value: feature_fraction=0.8973587602142363\n",
            "[LightGBM] [Warning] feature_fraction is set=0.8973587602142363, colsample_bytree=1.0 will be ignored. Current value: feature_fraction=0.8973587602142363\n"
          ]
        },
        {
          "output_type": "stream",
          "name": "stderr",
          "text": [
            "\u001b[32m[I 2023-04-03 13:48:28,205]\u001b[0m Trial 95 finished with value: 0.9768307070207198 and parameters: {'max_depth': 5, 'feature_fraction': 0.8973587602142363}. Best is trial 46 with value: 0.9768307070207198.\u001b[0m\n",
            "\u001b[32m[I 2023-04-03 13:48:28,409]\u001b[0m Trial 96 finished with value: 0.975470445032435 and parameters: {'max_depth': 5, 'feature_fraction': 0.7790813552528013}. Best is trial 46 with value: 0.9768307070207198.\u001b[0m\n"
          ]
        },
        {
          "output_type": "stream",
          "name": "stdout",
          "text": [
            "[LightGBM] [Warning] feature_fraction is set=0.7790813552528013, colsample_bytree=1.0 will be ignored. Current value: feature_fraction=0.7790813552528013\n",
            "[LightGBM] [Warning] feature_fraction is set=0.7790813552528013, colsample_bytree=1.0 will be ignored. Current value: feature_fraction=0.7790813552528013\n",
            "[LightGBM] [Warning] feature_fraction is set=0.7790813552528013, colsample_bytree=1.0 will be ignored. Current value: feature_fraction=0.7790813552528013\n"
          ]
        },
        {
          "output_type": "stream",
          "name": "stderr",
          "text": [
            "\u001b[32m[I 2023-04-03 13:48:28,602]\u001b[0m Trial 97 finished with value: 0.9768307070207198 and parameters: {'max_depth': 5, 'feature_fraction': 0.8461956860034592}. Best is trial 46 with value: 0.9768307070207198.\u001b[0m\n"
          ]
        },
        {
          "output_type": "stream",
          "name": "stdout",
          "text": [
            "[LightGBM] [Warning] feature_fraction is set=0.8461956860034592, colsample_bytree=1.0 will be ignored. Current value: feature_fraction=0.8461956860034592\n",
            "[LightGBM] [Warning] feature_fraction is set=0.8461956860034592, colsample_bytree=1.0 will be ignored. Current value: feature_fraction=0.8461956860034592\n",
            "[LightGBM] [Warning] feature_fraction is set=0.8461956860034592, colsample_bytree=1.0 will be ignored. Current value: feature_fraction=0.8461956860034592\n",
            "[LightGBM] [Warning] feature_fraction is set=0.8000629584515032, colsample_bytree=1.0 will be ignored. Current value: feature_fraction=0.8000629584515032\n"
          ]
        },
        {
          "output_type": "stream",
          "name": "stderr",
          "text": [
            "\u001b[32m[I 2023-04-03 13:48:28,801]\u001b[0m Trial 98 finished with value: 0.975951400630909 and parameters: {'max_depth': 4, 'feature_fraction': 0.8000629584515032}. Best is trial 46 with value: 0.9768307070207198.\u001b[0m\n"
          ]
        },
        {
          "output_type": "stream",
          "name": "stdout",
          "text": [
            "[LightGBM] [Warning] feature_fraction is set=0.8000629584515032, colsample_bytree=1.0 will be ignored. Current value: feature_fraction=0.8000629584515032\n",
            "[LightGBM] [Warning] feature_fraction is set=0.8000629584515032, colsample_bytree=1.0 will be ignored. Current value: feature_fraction=0.8000629584515032\n",
            "[LightGBM] [Warning] feature_fraction is set=0.8744334258469807, colsample_bytree=1.0 will be ignored. Current value: feature_fraction=0.8744334258469807\n",
            "[LightGBM] [Warning] feature_fraction is set=0.8744334258469807, colsample_bytree=1.0 will be ignored. Current value: feature_fraction=0.8744334258469807\n"
          ]
        },
        {
          "output_type": "stream",
          "name": "stderr",
          "text": [
            "\u001b[32m[I 2023-04-03 13:48:29,028]\u001b[0m Trial 99 finished with value: 0.9767062980275797 and parameters: {'max_depth': 6, 'feature_fraction': 0.8744334258469807}. Best is trial 46 with value: 0.9768307070207198.\u001b[0m\n",
            "\u001b[32m[I 2023-04-03 13:48:29,036]\u001b[0m A new study created in memory with name: no-name-ea068348-1ad1-45e1-94e4-5f19f2bc6622\u001b[0m\n"
          ]
        },
        {
          "output_type": "stream",
          "name": "stdout",
          "text": [
            "[LightGBM] [Warning] feature_fraction is set=0.8744334258469807, colsample_bytree=1.0 will be ignored. Current value: feature_fraction=0.8744334258469807\n"
          ]
        },
        {
          "output_type": "stream",
          "name": "stderr",
          "text": [
            "\u001b[32m[I 2023-04-03 13:48:29,715]\u001b[0m Trial 0 finished with value: 0.9793352911668259 and parameters: {'max_depth': 3, 'max_features': 7}. Best is trial 0 with value: 0.9793352911668259.\u001b[0m\n",
            "\u001b[32m[I 2023-04-03 13:48:30,659]\u001b[0m Trial 1 finished with value: 0.9853949933706203 and parameters: {'max_depth': 6, 'max_features': 5}. Best is trial 1 with value: 0.9853949933706203.\u001b[0m\n",
            "\u001b[32m[I 2023-04-03 13:48:31,380]\u001b[0m Trial 2 finished with value: 0.984430664384644 and parameters: {'max_depth': 5, 'max_features': 4}. Best is trial 1 with value: 0.9853949933706203.\u001b[0m\n",
            "\u001b[32m[I 2023-04-03 13:48:32,217]\u001b[0m Trial 3 finished with value: 0.9851482213099071 and parameters: {'max_depth': 6, 'max_features': 4}. Best is trial 1 with value: 0.9853949933706203.\u001b[0m\n",
            "\u001b[32m[I 2023-04-03 13:48:32,933]\u001b[0m Trial 4 finished with value: 0.984430664384644 and parameters: {'max_depth': 5, 'max_features': 4}. Best is trial 1 with value: 0.9853949933706203.\u001b[0m\n",
            "\u001b[32m[I 2023-04-03 13:48:33,443]\u001b[0m Trial 5 finished with value: 0.9568202060524347 and parameters: {'max_depth': 2, 'max_features': 7}. Best is trial 1 with value: 0.9853949933706203.\u001b[0m\n",
            "\u001b[32m[I 2023-04-03 13:48:34,098]\u001b[0m Trial 6 finished with value: 0.9852245763533835 and parameters: {'max_depth': 4, 'max_features': 5}. Best is trial 1 with value: 0.9853949933706203.\u001b[0m\n",
            "\u001b[32m[I 2023-04-03 13:48:34,430]\u001b[0m Trial 7 finished with value: 0.9190008099949702 and parameters: {'max_depth': 2, 'max_features': 2}. Best is trial 1 with value: 0.9853949933706203.\u001b[0m\n",
            "\u001b[32m[I 2023-04-03 13:48:34,925]\u001b[0m Trial 8 finished with value: 0.9761152501513474 and parameters: {'max_depth': 3, 'max_features': 4}. Best is trial 1 with value: 0.9853949933706203.\u001b[0m\n",
            "\u001b[32m[I 2023-04-03 13:48:35,826]\u001b[0m Trial 9 finished with value: 0.9853949933706203 and parameters: {'max_depth': 6, 'max_features': 5}. Best is trial 1 with value: 0.9853949933706203.\u001b[0m\n",
            "\u001b[32m[I 2023-04-03 13:48:36,459]\u001b[0m Trial 10 finished with value: 0.9753001439418812 and parameters: {'max_depth': 7, 'max_features': 2}. Best is trial 1 with value: 0.9853949933706203.\u001b[0m\n",
            "\u001b[32m[I 2023-04-03 13:48:37,778]\u001b[0m Trial 11 finished with value: 0.9849420844385781 and parameters: {'max_depth': 7, 'max_features': 6}. Best is trial 1 with value: 0.9853949933706203.\u001b[0m\n",
            "\u001b[32m[I 2023-04-03 13:48:39,140]\u001b[0m Trial 12 finished with value: 0.9853949933706203 and parameters: {'max_depth': 6, 'max_features': 5}. Best is trial 1 with value: 0.9853949933706203.\u001b[0m\n",
            "\u001b[32m[I 2023-04-03 13:48:40,609]\u001b[0m Trial 13 finished with value: 0.9855384347911574 and parameters: {'max_depth': 6, 'max_features': 6}. Best is trial 13 with value: 0.9855384347911574.\u001b[0m\n",
            "\u001b[32m[I 2023-04-03 13:48:41,681]\u001b[0m Trial 14 finished with value: 0.9855384347911574 and parameters: {'max_depth': 6, 'max_features': 6}. Best is trial 13 with value: 0.9855384347911574.\u001b[0m\n",
            "\u001b[32m[I 2023-04-03 13:48:42,570]\u001b[0m Trial 15 finished with value: 0.9861873336374272 and parameters: {'max_depth': 5, 'max_features': 6}. Best is trial 15 with value: 0.9861873336374272.\u001b[0m\n",
            "\u001b[32m[I 2023-04-03 13:48:43,375]\u001b[0m Trial 16 finished with value: 0.985691766023269 and parameters: {'max_depth': 4, 'max_features': 6}. Best is trial 15 with value: 0.9861873336374272.\u001b[0m\n",
            "\u001b[32m[I 2023-04-03 13:48:44,236]\u001b[0m Trial 17 finished with value: 0.985430200504429 and parameters: {'max_depth': 4, 'max_features': 7}. Best is trial 15 with value: 0.9861873336374272.\u001b[0m\n",
            "\u001b[32m[I 2023-04-03 13:48:44,977]\u001b[0m Trial 18 finished with value: 0.985691766023269 and parameters: {'max_depth': 4, 'max_features': 6}. Best is trial 15 with value: 0.9861873336374272.\u001b[0m\n",
            "\u001b[32m[I 2023-04-03 13:48:45,606]\u001b[0m Trial 19 finished with value: 0.9783683994728235 and parameters: {'max_depth': 3, 'max_features': 6}. Best is trial 15 with value: 0.9861873336374272.\u001b[0m\n",
            "\u001b[32m[I 2023-04-03 13:48:46,212]\u001b[0m Trial 20 finished with value: 0.9842471016293839 and parameters: {'max_depth': 5, 'max_features': 3}. Best is trial 15 with value: 0.9861873336374272.\u001b[0m\n",
            "\u001b[32m[I 2023-04-03 13:48:47,002]\u001b[0m Trial 21 finished with value: 0.985691766023269 and parameters: {'max_depth': 4, 'max_features': 6}. Best is trial 15 with value: 0.9861873336374272.\u001b[0m\n",
            "\u001b[32m[I 2023-04-03 13:48:47,857]\u001b[0m Trial 22 finished with value: 0.985430200504429 and parameters: {'max_depth': 4, 'max_features': 7}. Best is trial 15 with value: 0.9861873336374272.\u001b[0m\n",
            "\u001b[32m[I 2023-04-03 13:48:48,773]\u001b[0m Trial 23 finished with value: 0.9861873336374272 and parameters: {'max_depth': 5, 'max_features': 6}. Best is trial 15 with value: 0.9861873336374272.\u001b[0m\n",
            "\u001b[32m[I 2023-04-03 13:48:49,592]\u001b[0m Trial 24 finished with value: 0.9851666718949561 and parameters: {'max_depth': 5, 'max_features': 5}. Best is trial 15 with value: 0.9861873336374272.\u001b[0m\n",
            "\u001b[32m[I 2023-04-03 13:48:50,590]\u001b[0m Trial 25 finished with value: 0.9856357090076635 and parameters: {'max_depth': 5, 'max_features': 7}. Best is trial 15 with value: 0.9861873336374272.\u001b[0m\n",
            "\u001b[32m[I 2023-04-03 13:48:51,449]\u001b[0m Trial 26 finished with value: 0.9783683994728235 and parameters: {'max_depth': 3, 'max_features': 6}. Best is trial 15 with value: 0.9861873336374272.\u001b[0m\n",
            "\u001b[32m[I 2023-04-03 13:48:52,767]\u001b[0m Trial 27 finished with value: 0.9861873336374272 and parameters: {'max_depth': 5, 'max_features': 6}. Best is trial 15 with value: 0.9861873336374272.\u001b[0m\n",
            "\u001b[32m[I 2023-04-03 13:48:53,911]\u001b[0m Trial 28 finished with value: 0.9851666718949561 and parameters: {'max_depth': 5, 'max_features': 5}. Best is trial 15 with value: 0.9861873336374272.\u001b[0m\n",
            "\u001b[32m[I 2023-04-03 13:48:54,988]\u001b[0m Trial 29 finished with value: 0.9856357090076635 and parameters: {'max_depth': 5, 'max_features': 7}. Best is trial 15 with value: 0.9861873336374272.\u001b[0m\n",
            "\u001b[32m[I 2023-04-03 13:48:56,309]\u001b[0m Trial 30 finished with value: 0.9845900585712223 and parameters: {'max_depth': 7, 'max_features': 7}. Best is trial 15 with value: 0.9861873336374272.\u001b[0m\n",
            "\u001b[32m[I 2023-04-03 13:48:57,065]\u001b[0m Trial 31 finished with value: 0.985691766023269 and parameters: {'max_depth': 4, 'max_features': 6}. Best is trial 15 with value: 0.9861873336374272.\u001b[0m\n",
            "\u001b[32m[I 2023-04-03 13:48:57,945]\u001b[0m Trial 32 finished with value: 0.9861873336374272 and parameters: {'max_depth': 5, 'max_features': 6}. Best is trial 15 with value: 0.9861873336374272.\u001b[0m\n",
            "\u001b[32m[I 2023-04-03 13:48:58,744]\u001b[0m Trial 33 finished with value: 0.9851666718949561 and parameters: {'max_depth': 5, 'max_features': 5}. Best is trial 15 with value: 0.9861873336374272.\u001b[0m\n",
            "\u001b[32m[I 2023-04-03 13:48:59,624]\u001b[0m Trial 34 finished with value: 0.9861873336374272 and parameters: {'max_depth': 5, 'max_features': 6}. Best is trial 15 with value: 0.9861873336374272.\u001b[0m\n",
            "\u001b[32m[I 2023-04-03 13:49:00,741]\u001b[0m Trial 35 finished with value: 0.9844596675452194 and parameters: {'max_depth': 6, 'max_features': 7}. Best is trial 15 with value: 0.9861873336374272.\u001b[0m\n",
            "\u001b[32m[I 2023-04-03 13:49:01,516]\u001b[0m Trial 36 finished with value: 0.9851666718949561 and parameters: {'max_depth': 5, 'max_features': 5}. Best is trial 15 with value: 0.9861873336374272.\u001b[0m\n",
            "\u001b[32m[I 2023-04-03 13:49:02,296]\u001b[0m Trial 37 finished with value: 0.9851482213099071 and parameters: {'max_depth': 6, 'max_features': 4}. Best is trial 15 with value: 0.9861873336374272.\u001b[0m\n",
            "\u001b[32m[I 2023-04-03 13:49:03,178]\u001b[0m Trial 38 finished with value: 0.9861873336374272 and parameters: {'max_depth': 5, 'max_features': 6}. Best is trial 15 with value: 0.9861873336374272.\u001b[0m\n",
            "\u001b[32m[I 2023-04-03 13:49:03,854]\u001b[0m Trial 39 finished with value: 0.983032001253799 and parameters: {'max_depth': 6, 'max_features': 3}. Best is trial 15 with value: 0.9861873336374272.\u001b[0m\n",
            "\u001b[32m[I 2023-04-03 13:49:05,122]\u001b[0m Trial 40 finished with value: 0.9856357090076635 and parameters: {'max_depth': 5, 'max_features': 7}. Best is trial 15 with value: 0.9861873336374272.\u001b[0m\n",
            "\u001b[32m[I 2023-04-03 13:49:06,385]\u001b[0m Trial 41 finished with value: 0.9861873336374272 and parameters: {'max_depth': 5, 'max_features': 6}. Best is trial 15 with value: 0.9861873336374272.\u001b[0m\n",
            "\u001b[32m[I 2023-04-03 13:49:07,609]\u001b[0m Trial 42 finished with value: 0.9861873336374272 and parameters: {'max_depth': 5, 'max_features': 6}. Best is trial 15 with value: 0.9861873336374272.\u001b[0m\n",
            "\u001b[32m[I 2023-04-03 13:49:08,282]\u001b[0m Trial 43 finished with value: 0.9852245763533835 and parameters: {'max_depth': 4, 'max_features': 5}. Best is trial 15 with value: 0.9861873336374272.\u001b[0m\n",
            "\u001b[32m[I 2023-04-03 13:49:09,291]\u001b[0m Trial 44 finished with value: 0.9855384347911574 and parameters: {'max_depth': 6, 'max_features': 6}. Best is trial 15 with value: 0.9861873336374272.\u001b[0m\n",
            "\u001b[32m[I 2023-04-03 13:49:10,159]\u001b[0m Trial 45 finished with value: 0.9861873336374272 and parameters: {'max_depth': 5, 'max_features': 6}. Best is trial 15 with value: 0.9861873336374272.\u001b[0m\n",
            "\u001b[32m[I 2023-04-03 13:49:11,060]\u001b[0m Trial 46 finished with value: 0.9853949933706203 and parameters: {'max_depth': 6, 'max_features': 5}. Best is trial 15 with value: 0.9861873336374272.\u001b[0m\n",
            "\u001b[32m[I 2023-04-03 13:49:12,035]\u001b[0m Trial 47 finished with value: 0.9856357090076635 and parameters: {'max_depth': 5, 'max_features': 7}. Best is trial 15 with value: 0.9861873336374272.\u001b[0m\n",
            "\u001b[32m[I 2023-04-03 13:49:12,783]\u001b[0m Trial 48 finished with value: 0.985691766023269 and parameters: {'max_depth': 4, 'max_features': 6}. Best is trial 15 with value: 0.9861873336374272.\u001b[0m\n",
            "\u001b[32m[I 2023-04-03 13:49:13,580]\u001b[0m Trial 49 finished with value: 0.9851482213099071 and parameters: {'max_depth': 6, 'max_features': 4}. Best is trial 15 with value: 0.9861873336374272.\u001b[0m\n",
            "\u001b[32m[I 2023-04-03 13:49:14,403]\u001b[0m Trial 50 finished with value: 0.9851666718949561 and parameters: {'max_depth': 5, 'max_features': 5}. Best is trial 15 with value: 0.9861873336374272.\u001b[0m\n",
            "\u001b[32m[I 2023-04-03 13:49:15,285]\u001b[0m Trial 51 finished with value: 0.9861873336374272 and parameters: {'max_depth': 5, 'max_features': 6}. Best is trial 15 with value: 0.9861873336374272.\u001b[0m\n",
            "\u001b[32m[I 2023-04-03 13:49:16,146]\u001b[0m Trial 52 finished with value: 0.9861873336374272 and parameters: {'max_depth': 5, 'max_features': 6}. Best is trial 15 with value: 0.9861873336374272.\u001b[0m\n",
            "\u001b[32m[I 2023-04-03 13:49:17,044]\u001b[0m Trial 53 finished with value: 0.9861873336374272 and parameters: {'max_depth': 5, 'max_features': 6}. Best is trial 15 with value: 0.9861873336374272.\u001b[0m\n",
            "\u001b[32m[I 2023-04-03 13:49:17,904]\u001b[0m Trial 54 finished with value: 0.985691766023269 and parameters: {'max_depth': 4, 'max_features': 6}. Best is trial 15 with value: 0.9861873336374272.\u001b[0m\n",
            "\u001b[32m[I 2023-04-03 13:49:19,549]\u001b[0m Trial 55 finished with value: 0.9844596675452194 and parameters: {'max_depth': 6, 'max_features': 7}. Best is trial 15 with value: 0.9861873336374272.\u001b[0m\n",
            "\u001b[32m[I 2023-04-03 13:49:20,247]\u001b[0m Trial 56 finished with value: 0.9530400450688233 and parameters: {'max_depth': 2, 'max_features': 6}. Best is trial 15 with value: 0.9861873336374272.\u001b[0m\n",
            "\u001b[32m[I 2023-04-03 13:49:21,231]\u001b[0m Trial 57 finished with value: 0.985691766023269 and parameters: {'max_depth': 4, 'max_features': 6}. Best is trial 15 with value: 0.9861873336374272.\u001b[0m\n",
            "\u001b[32m[I 2023-04-03 13:49:22,017]\u001b[0m Trial 58 finished with value: 0.9851666718949561 and parameters: {'max_depth': 5, 'max_features': 5}. Best is trial 15 with value: 0.9861873336374272.\u001b[0m\n",
            "\u001b[32m[I 2023-04-03 13:49:22,979]\u001b[0m Trial 59 finished with value: 0.9856357090076635 and parameters: {'max_depth': 5, 'max_features': 7}. Best is trial 15 with value: 0.9861873336374272.\u001b[0m\n",
            "\u001b[32m[I 2023-04-03 13:49:23,659]\u001b[0m Trial 60 finished with value: 0.9852245763533835 and parameters: {'max_depth': 4, 'max_features': 5}. Best is trial 15 with value: 0.9861873336374272.\u001b[0m\n",
            "\u001b[32m[I 2023-04-03 13:49:24,521]\u001b[0m Trial 61 finished with value: 0.9861873336374272 and parameters: {'max_depth': 5, 'max_features': 6}. Best is trial 15 with value: 0.9861873336374272.\u001b[0m\n",
            "\u001b[32m[I 2023-04-03 13:49:25,400]\u001b[0m Trial 62 finished with value: 0.9861873336374272 and parameters: {'max_depth': 5, 'max_features': 6}. Best is trial 15 with value: 0.9861873336374272.\u001b[0m\n",
            "\u001b[32m[I 2023-04-03 13:49:26,254]\u001b[0m Trial 63 finished with value: 0.9861873336374272 and parameters: {'max_depth': 5, 'max_features': 6}. Best is trial 15 with value: 0.9861873336374272.\u001b[0m\n",
            "\u001b[32m[I 2023-04-03 13:49:27,123]\u001b[0m Trial 64 finished with value: 0.9861873336374272 and parameters: {'max_depth': 5, 'max_features': 6}. Best is trial 15 with value: 0.9861873336374272.\u001b[0m\n",
            "\u001b[32m[I 2023-04-03 13:49:28,001]\u001b[0m Trial 65 finished with value: 0.9861873336374272 and parameters: {'max_depth': 5, 'max_features': 6}. Best is trial 15 with value: 0.9861873336374272.\u001b[0m\n",
            "\u001b[32m[I 2023-04-03 13:49:28,969]\u001b[0m Trial 66 finished with value: 0.9856357090076635 and parameters: {'max_depth': 5, 'max_features': 7}. Best is trial 15 with value: 0.9861873336374272.\u001b[0m\n",
            "\u001b[32m[I 2023-04-03 13:49:29,706]\u001b[0m Trial 67 finished with value: 0.985691766023269 and parameters: {'max_depth': 4, 'max_features': 6}. Best is trial 15 with value: 0.9861873336374272.\u001b[0m\n",
            "\u001b[32m[I 2023-04-03 13:49:30,702]\u001b[0m Trial 68 finished with value: 0.9855384347911574 and parameters: {'max_depth': 6, 'max_features': 6}. Best is trial 15 with value: 0.9861873336374272.\u001b[0m\n",
            "\u001b[32m[I 2023-04-03 13:49:31,505]\u001b[0m Trial 69 finished with value: 0.9842471016293839 and parameters: {'max_depth': 5, 'max_features': 3}. Best is trial 15 with value: 0.9861873336374272.\u001b[0m\n",
            "\u001b[32m[I 2023-04-03 13:49:33,117]\u001b[0m Trial 70 finished with value: 0.9844596675452194 and parameters: {'max_depth': 6, 'max_features': 7}. Best is trial 15 with value: 0.9861873336374272.\u001b[0m\n",
            "\u001b[32m[I 2023-04-03 13:49:34,364]\u001b[0m Trial 71 finished with value: 0.9861873336374272 and parameters: {'max_depth': 5, 'max_features': 6}. Best is trial 15 with value: 0.9861873336374272.\u001b[0m\n",
            "\u001b[32m[I 2023-04-03 13:49:35,246]\u001b[0m Trial 72 finished with value: 0.9861873336374272 and parameters: {'max_depth': 5, 'max_features': 6}. Best is trial 15 with value: 0.9861873336374272.\u001b[0m\n",
            "\u001b[32m[I 2023-04-03 13:49:36,117]\u001b[0m Trial 73 finished with value: 0.9861873336374272 and parameters: {'max_depth': 5, 'max_features': 6}. Best is trial 15 with value: 0.9861873336374272.\u001b[0m\n",
            "\u001b[32m[I 2023-04-03 13:49:36,910]\u001b[0m Trial 74 finished with value: 0.9851666718949561 and parameters: {'max_depth': 5, 'max_features': 5}. Best is trial 15 with value: 0.9861873336374272.\u001b[0m\n",
            "\u001b[32m[I 2023-04-03 13:49:37,793]\u001b[0m Trial 75 finished with value: 0.9861873336374272 and parameters: {'max_depth': 5, 'max_features': 6}. Best is trial 15 with value: 0.9861873336374272.\u001b[0m\n",
            "\u001b[32m[I 2023-04-03 13:49:38,663]\u001b[0m Trial 76 finished with value: 0.9861873336374272 and parameters: {'max_depth': 5, 'max_features': 6}. Best is trial 15 with value: 0.9861873336374272.\u001b[0m\n",
            "\u001b[32m[I 2023-04-03 13:49:39,684]\u001b[0m Trial 77 finished with value: 0.9855384347911574 and parameters: {'max_depth': 6, 'max_features': 6}. Best is trial 15 with value: 0.9861873336374272.\u001b[0m\n",
            "\u001b[32m[I 2023-04-03 13:49:40,350]\u001b[0m Trial 78 finished with value: 0.9852245763533835 and parameters: {'max_depth': 4, 'max_features': 5}. Best is trial 15 with value: 0.9861873336374272.\u001b[0m\n",
            "\u001b[32m[I 2023-04-03 13:49:40,854]\u001b[0m Trial 79 finished with value: 0.9771377197784242 and parameters: {'max_depth': 5, 'max_features': 2}. Best is trial 15 with value: 0.9861873336374272.\u001b[0m\n",
            "\u001b[32m[I 2023-04-03 13:49:41,645]\u001b[0m Trial 80 finished with value: 0.9851666718949561 and parameters: {'max_depth': 5, 'max_features': 5}. Best is trial 15 with value: 0.9861873336374272.\u001b[0m\n",
            "\u001b[32m[I 2023-04-03 13:49:42,509]\u001b[0m Trial 81 finished with value: 0.9861873336374272 and parameters: {'max_depth': 5, 'max_features': 6}. Best is trial 15 with value: 0.9861873336374272.\u001b[0m\n",
            "\u001b[32m[I 2023-04-03 13:49:43,394]\u001b[0m Trial 82 finished with value: 0.9861873336374272 and parameters: {'max_depth': 5, 'max_features': 6}. Best is trial 15 with value: 0.9861873336374272.\u001b[0m\n",
            "\u001b[32m[I 2023-04-03 13:49:44,267]\u001b[0m Trial 83 finished with value: 0.9861873336374272 and parameters: {'max_depth': 5, 'max_features': 6}. Best is trial 15 with value: 0.9861873336374272.\u001b[0m\n",
            "\u001b[32m[I 2023-04-03 13:49:45,505]\u001b[0m Trial 84 finished with value: 0.9861873336374272 and parameters: {'max_depth': 5, 'max_features': 6}. Best is trial 15 with value: 0.9861873336374272.\u001b[0m\n",
            "\u001b[32m[I 2023-04-03 13:49:46,978]\u001b[0m Trial 85 finished with value: 0.9855384347911574 and parameters: {'max_depth': 6, 'max_features': 6}. Best is trial 15 with value: 0.9861873336374272.\u001b[0m\n",
            "\u001b[32m[I 2023-04-03 13:49:48,146]\u001b[0m Trial 86 finished with value: 0.9856357090076635 and parameters: {'max_depth': 5, 'max_features': 7}. Best is trial 15 with value: 0.9861873336374272.\u001b[0m\n",
            "\u001b[32m[I 2023-04-03 13:49:48,903]\u001b[0m Trial 87 finished with value: 0.985691766023269 and parameters: {'max_depth': 4, 'max_features': 6}. Best is trial 15 with value: 0.9861873336374272.\u001b[0m\n",
            "\u001b[32m[I 2023-04-03 13:49:49,779]\u001b[0m Trial 88 finished with value: 0.9861873336374272 and parameters: {'max_depth': 5, 'max_features': 6}. Best is trial 15 with value: 0.9861873336374272.\u001b[0m\n",
            "\u001b[32m[I 2023-04-03 13:49:50,743]\u001b[0m Trial 89 finished with value: 0.9856357090076635 and parameters: {'max_depth': 5, 'max_features': 7}. Best is trial 15 with value: 0.9861873336374272.\u001b[0m\n",
            "\u001b[32m[I 2023-04-03 13:49:51,510]\u001b[0m Trial 90 finished with value: 0.985691766023269 and parameters: {'max_depth': 4, 'max_features': 6}. Best is trial 15 with value: 0.9861873336374272.\u001b[0m\n",
            "\u001b[32m[I 2023-04-03 13:49:52,404]\u001b[0m Trial 91 finished with value: 0.9861873336374272 and parameters: {'max_depth': 5, 'max_features': 6}. Best is trial 15 with value: 0.9861873336374272.\u001b[0m\n",
            "\u001b[32m[I 2023-04-03 13:49:53,297]\u001b[0m Trial 92 finished with value: 0.9861873336374272 and parameters: {'max_depth': 5, 'max_features': 6}. Best is trial 15 with value: 0.9861873336374272.\u001b[0m\n",
            "\u001b[32m[I 2023-04-03 13:49:54,195]\u001b[0m Trial 93 finished with value: 0.9861873336374272 and parameters: {'max_depth': 5, 'max_features': 6}. Best is trial 15 with value: 0.9861873336374272.\u001b[0m\n",
            "\u001b[32m[I 2023-04-03 13:49:55,082]\u001b[0m Trial 94 finished with value: 0.9861873336374272 and parameters: {'max_depth': 5, 'max_features': 6}. Best is trial 15 with value: 0.9861873336374272.\u001b[0m\n",
            "\u001b[32m[I 2023-04-03 13:49:55,975]\u001b[0m Trial 95 finished with value: 0.9861873336374272 and parameters: {'max_depth': 5, 'max_features': 6}. Best is trial 15 with value: 0.9861873336374272.\u001b[0m\n",
            "\u001b[32m[I 2023-04-03 13:49:56,881]\u001b[0m Trial 96 finished with value: 0.9861873336374272 and parameters: {'max_depth': 5, 'max_features': 6}. Best is trial 15 with value: 0.9861873336374272.\u001b[0m\n",
            "\u001b[32m[I 2023-04-03 13:49:57,454]\u001b[0m Trial 97 finished with value: 0.978584587565372 and parameters: {'max_depth': 3, 'max_features': 5}. Best is trial 15 with value: 0.9861873336374272.\u001b[0m\n",
            "\u001b[32m[I 2023-04-03 13:49:58,658]\u001b[0m Trial 98 finished with value: 0.9861873336374272 and parameters: {'max_depth': 5, 'max_features': 6}. Best is trial 15 with value: 0.9861873336374272.\u001b[0m\n",
            "\u001b[32m[I 2023-04-03 13:50:00,061]\u001b[0m Trial 99 finished with value: 0.9856357090076635 and parameters: {'max_depth': 5, 'max_features': 7}. Best is trial 15 with value: 0.9861873336374272.\u001b[0m\n"
          ]
        }
      ]
    },
    {
      "cell_type": "code",
      "source": [
        "best_rf_params = study_rf.best_params\n",
        "best_rf_score = study_rf.best_value\n",
        "\n",
        "best_xgb_params = study_xgb.best_params\n",
        "best_xgb_score = study_xgb.best_value\n",
        "\n",
        "best_lgbm_params = study_lgbm.best_params\n",
        "best_lgbm_score = study_lgbm.best_value\n",
        "\n",
        "best_gb_params = study_gb.best_params\n",
        "best_gb_score = study_gb.best_value\n",
        "\n",
        "\n",
        "models = ['Random Forest', 'XGBoost', 'Light GBM', 'Gradient Boosting']\n",
        "best_params = [best_rf_params, best_xgb_params, best_lgbm_params, best_gb_params]\n",
        "best_scores = [best_rf_score, best_xgb_score, best_lgbm_score, best_gb_score]\n",
        "\n",
        "best_model_index = np.argmax(best_scores)\n",
        "best_model = models[best_model_index]\n",
        "best_model_params = best_params[best_model_index]\n",
        "\n",
        "print(f\"The best model is {best_model} with parameters {best_model_params} and cross-validation R2 of {max(best_scores)}\")\n",
        "\n",
        "\n",
        "if best_model == 'Random Forest':\n",
        "    clf = RandomForestRegressor(**best_rf_params, random_state=17, n_jobs=-1)\n",
        "elif best_model == 'XGBoost':\n",
        "    clf = XGBRegressor(**best_xgb_params, random_state=17)\n",
        "elif best_model == 'Light GBM':\n",
        "    clf = LGBMRegressor(**best_lgbm_params, random_state=17)\n",
        "else:\n",
        "    clf = GradientBoostingRegressor(**best_gb_params, random_state=17)\n",
        "\n",
        "clf.fit(X_train, y_train)\n",
        "\n",
        "\n",
        "y_pred = clf.predict(X_test)\n",
        "test_r2 = r2_score(y_test, y_pred)\n",
        "print(f\"The R2 value on the test data for the best model ({best_model}) is {test_r2}\")"
      ],
      "metadata": {
        "colab": {
          "base_uri": "https://localhost:8080/"
        },
        "id": "7e-b9qz-W87L",
        "outputId": "c003b562-87c3-4ed4-cfb1-ad49372e53f7"
      },
      "execution_count": 24,
      "outputs": [
        {
          "output_type": "stream",
          "name": "stdout",
          "text": [
            "The best model is Gradient Boosting with parameters {'max_depth': 5, 'max_features': 6} and cross-validation R2 of 0.9861873336374272\n",
            "The R2 value on the test data for the best model (Gradient Boosting) is 0.985108420764872\n"
          ]
        }
      ]
    }
  ]
}